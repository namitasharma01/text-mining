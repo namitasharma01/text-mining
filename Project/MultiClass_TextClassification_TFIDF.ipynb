{
  "nbformat": 4,
  "nbformat_minor": 0,
  "metadata": {
    "colab": {
      "name": "MultiClass_TextClassification.ipynb",
      "provenance": [],
      "collapsed_sections": [],
      "toc_visible": true
    },
    "kernelspec": {
      "display_name": "Python 3",
      "language": "python",
      "name": "python3"
    },
    "language_info": {
      "codemirror_mode": {
        "name": "ipython",
        "version": 3
      },
      "file_extension": ".py",
      "mimetype": "text/x-python",
      "name": "python",
      "nbconvert_exporter": "python",
      "pygments_lexer": "ipython3",
      "version": "3.7.6"
    },
    "accelerator": "GPU"
  },
  "cells": [
    {
      "cell_type": "code",
      "metadata": {
        "colab": {
          "base_uri": "https://localhost:8080/"
        },
        "id": "a2_rgQyUfTjv",
        "outputId": "d52eb49e-d12b-44ec-ef91-2a378986963e"
      },
      "source": [
        "from google.colab import drive\n",
        "drive.mount('/content/drive')"
      ],
      "execution_count": 3,
      "outputs": [
        {
          "output_type": "stream",
          "text": [
            "Mounted at /content/drive\n"
          ],
          "name": "stdout"
        }
      ]
    },
    {
      "cell_type": "code",
      "metadata": {
        "colab": {
          "base_uri": "https://localhost:8080/",
          "height": 410
        },
        "id": "P3cPnh9sdoMb",
        "outputId": "3c3f60b2-bc84-4596-de19-cc0293074729"
      },
      "source": [
        "import pandas as pd\n",
        "df = pd.read_csv('/content/drive/MyDrive/Colab Data/complaints.csv.zip')\n",
        "df.iloc[:,:10].head()"
      ],
      "execution_count": 4,
      "outputs": [
        {
          "output_type": "execute_result",
          "data": {
            "text/html": [
              "<div>\n",
              "<style scoped>\n",
              "    .dataframe tbody tr th:only-of-type {\n",
              "        vertical-align: middle;\n",
              "    }\n",
              "\n",
              "    .dataframe tbody tr th {\n",
              "        vertical-align: top;\n",
              "    }\n",
              "\n",
              "    .dataframe thead th {\n",
              "        text-align: right;\n",
              "    }\n",
              "</style>\n",
              "<table border=\"1\" class=\"dataframe\">\n",
              "  <thead>\n",
              "    <tr style=\"text-align: right;\">\n",
              "      <th></th>\n",
              "      <th>Date received</th>\n",
              "      <th>Product</th>\n",
              "      <th>Sub-product</th>\n",
              "      <th>Issue</th>\n",
              "      <th>Sub-issue</th>\n",
              "      <th>Consumer complaint narrative</th>\n",
              "      <th>Company public response</th>\n",
              "      <th>Company</th>\n",
              "      <th>State</th>\n",
              "      <th>ZIP code</th>\n",
              "    </tr>\n",
              "  </thead>\n",
              "  <tbody>\n",
              "    <tr>\n",
              "      <th>0</th>\n",
              "      <td>2019-09-24</td>\n",
              "      <td>Debt collection</td>\n",
              "      <td>I do not know</td>\n",
              "      <td>Attempts to collect debt not owed</td>\n",
              "      <td>Debt is not yours</td>\n",
              "      <td>transworld systems inc. \\nis trying to collect...</td>\n",
              "      <td>NaN</td>\n",
              "      <td>TRANSWORLD SYSTEMS INC</td>\n",
              "      <td>FL</td>\n",
              "      <td>335XX</td>\n",
              "    </tr>\n",
              "    <tr>\n",
              "      <th>1</th>\n",
              "      <td>2019-09-19</td>\n",
              "      <td>Credit reporting, credit repair services, or o...</td>\n",
              "      <td>Credit reporting</td>\n",
              "      <td>Incorrect information on your report</td>\n",
              "      <td>Information belongs to someone else</td>\n",
              "      <td>NaN</td>\n",
              "      <td>Company has responded to the consumer and the ...</td>\n",
              "      <td>Experian Information Solutions Inc.</td>\n",
              "      <td>PA</td>\n",
              "      <td>15206</td>\n",
              "    </tr>\n",
              "    <tr>\n",
              "      <th>2</th>\n",
              "      <td>2019-11-08</td>\n",
              "      <td>Debt collection</td>\n",
              "      <td>I do not know</td>\n",
              "      <td>Communication tactics</td>\n",
              "      <td>Frequent or repeated calls</td>\n",
              "      <td>Over the past 2 weeks, I have been receiving e...</td>\n",
              "      <td>NaN</td>\n",
              "      <td>Diversified Consultants, Inc.</td>\n",
              "      <td>NC</td>\n",
              "      <td>275XX</td>\n",
              "    </tr>\n",
              "    <tr>\n",
              "      <th>3</th>\n",
              "      <td>2019-09-15</td>\n",
              "      <td>Debt collection</td>\n",
              "      <td>Other debt</td>\n",
              "      <td>Attempts to collect debt not owed</td>\n",
              "      <td>Debt was result of identity theft</td>\n",
              "      <td>Pioneer has committed several federal violatio...</td>\n",
              "      <td>NaN</td>\n",
              "      <td>Pioneer Capital Solutions Inc</td>\n",
              "      <td>CA</td>\n",
              "      <td>925XX</td>\n",
              "    </tr>\n",
              "    <tr>\n",
              "      <th>4</th>\n",
              "      <td>2021-03-02</td>\n",
              "      <td>Credit reporting, credit repair services, or o...</td>\n",
              "      <td>Credit reporting</td>\n",
              "      <td>Incorrect information on your report</td>\n",
              "      <td>Information belongs to someone else</td>\n",
              "      <td>NaN</td>\n",
              "      <td>NaN</td>\n",
              "      <td>EQUIFAX, INC.</td>\n",
              "      <td>FL</td>\n",
              "      <td>33325</td>\n",
              "    </tr>\n",
              "  </tbody>\n",
              "</table>\n",
              "</div>"
            ],
            "text/plain": [
              "  Date received  ... ZIP code\n",
              "0    2019-09-24  ...    335XX\n",
              "1    2019-09-19  ...    15206\n",
              "2    2019-11-08  ...    275XX\n",
              "3    2019-09-15  ...    925XX\n",
              "4    2021-03-02  ...    33325\n",
              "\n",
              "[5 rows x 10 columns]"
            ]
          },
          "metadata": {
            "tags": []
          },
          "execution_count": 4
        }
      ]
    },
    {
      "cell_type": "code",
      "metadata": {
        "id": "iyWpj_w8doMw"
      },
      "source": [
        "df = df[pd.notnull(df['Consumer complaint narrative'])]"
      ],
      "execution_count": 5,
      "outputs": []
    },
    {
      "cell_type": "code",
      "metadata": {
        "colab": {
          "base_uri": "https://localhost:8080/"
        },
        "id": "sIdIr76cdoMy",
        "outputId": "56cd4b0e-967e-45ee-b3c4-f5e6c1011580"
      },
      "source": [
        "df.info()"
      ],
      "execution_count": 6,
      "outputs": [
        {
          "output_type": "stream",
          "text": [
            "<class 'pandas.core.frame.DataFrame'>\n",
            "Int64Index: 679285 entries, 0 to 1999963\n",
            "Data columns (total 18 columns):\n",
            " #   Column                        Non-Null Count   Dtype \n",
            "---  ------                        --------------   ----- \n",
            " 0   Date received                 679285 non-null  object\n",
            " 1   Product                       679285 non-null  object\n",
            " 2   Sub-product                   627113 non-null  object\n",
            " 3   Issue                         679285 non-null  object\n",
            " 4   Sub-issue                     528206 non-null  object\n",
            " 5   Consumer complaint narrative  679285 non-null  object\n",
            " 6   Company public response       339012 non-null  object\n",
            " 7   Company                       679285 non-null  object\n",
            " 8   State                         675680 non-null  object\n",
            " 9   ZIP code                      528244 non-null  object\n",
            " 10  Tags                          111909 non-null  object\n",
            " 11  Consumer consent provided?    679285 non-null  object\n",
            " 12  Submitted via                 679285 non-null  object\n",
            " 13  Date sent to company          679285 non-null  object\n",
            " 14  Company response to consumer  679284 non-null  object\n",
            " 15  Timely response?              679285 non-null  object\n",
            " 16  Consumer disputed?            164064 non-null  object\n",
            " 17  Complaint ID                  679285 non-null  int64 \n",
            "dtypes: int64(1), object(17)\n",
            "memory usage: 98.5+ MB\n"
          ],
          "name": "stdout"
        }
      ]
    },
    {
      "cell_type": "code",
      "metadata": {
        "id": "FaVtovIRdoMz"
      },
      "source": [
        "col = ['Product', 'Consumer complaint narrative']\n",
        "df = df[col]"
      ],
      "execution_count": 7,
      "outputs": []
    },
    {
      "cell_type": "code",
      "metadata": {
        "colab": {
          "base_uri": "https://localhost:8080/"
        },
        "id": "CYJa_sh6doM0",
        "outputId": "2c2486cc-39b0-45d6-fb14-9727cacc8a1e"
      },
      "source": [
        "df.columns"
      ],
      "execution_count": 8,
      "outputs": [
        {
          "output_type": "execute_result",
          "data": {
            "text/plain": [
              "Index(['Product', 'Consumer complaint narrative'], dtype='object')"
            ]
          },
          "metadata": {
            "tags": []
          },
          "execution_count": 8
        }
      ]
    },
    {
      "cell_type": "code",
      "metadata": {
        "id": "8H0Oduc2doM1"
      },
      "source": [
        "df.columns = ['Product', 'Consumer_complaint_narrative']"
      ],
      "execution_count": 9,
      "outputs": []
    },
    {
      "cell_type": "code",
      "metadata": {
        "id": "JCySlPsudoM2"
      },
      "source": [
        "df['category_id'] = df['Product'].factorize()[0]"
      ],
      "execution_count": 10,
      "outputs": []
    },
    {
      "cell_type": "code",
      "metadata": {
        "id": "f09A9UMTW04Q"
      },
      "source": [
        "from io import StringIO\r\n",
        "category_id_df = df[['Product', 'category_id']].drop_duplicates().sort_values('category_id')\r\n",
        "\r\n",
        "# Mapping Dictionaries\r\n",
        "category_to_id = dict(category_id_df.values)\r\n",
        "id_to_category = dict(category_id_df[['category_id', 'Product']].values)"
      ],
      "execution_count": 11,
      "outputs": []
    },
    {
      "cell_type": "code",
      "metadata": {
        "colab": {
          "base_uri": "https://localhost:8080/",
          "height": 202
        },
        "id": "XObGTXwqdoM3",
        "outputId": "2f25cabf-bdfe-4f19-c586-88af359f6e0b"
      },
      "source": [
        "df.head()"
      ],
      "execution_count": 12,
      "outputs": [
        {
          "output_type": "execute_result",
          "data": {
            "text/html": [
              "<div>\n",
              "<style scoped>\n",
              "    .dataframe tbody tr th:only-of-type {\n",
              "        vertical-align: middle;\n",
              "    }\n",
              "\n",
              "    .dataframe tbody tr th {\n",
              "        vertical-align: top;\n",
              "    }\n",
              "\n",
              "    .dataframe thead th {\n",
              "        text-align: right;\n",
              "    }\n",
              "</style>\n",
              "<table border=\"1\" class=\"dataframe\">\n",
              "  <thead>\n",
              "    <tr style=\"text-align: right;\">\n",
              "      <th></th>\n",
              "      <th>Product</th>\n",
              "      <th>Consumer_complaint_narrative</th>\n",
              "      <th>category_id</th>\n",
              "    </tr>\n",
              "  </thead>\n",
              "  <tbody>\n",
              "    <tr>\n",
              "      <th>0</th>\n",
              "      <td>Debt collection</td>\n",
              "      <td>transworld systems inc. \\nis trying to collect...</td>\n",
              "      <td>0</td>\n",
              "    </tr>\n",
              "    <tr>\n",
              "      <th>2</th>\n",
              "      <td>Debt collection</td>\n",
              "      <td>Over the past 2 weeks, I have been receiving e...</td>\n",
              "      <td>0</td>\n",
              "    </tr>\n",
              "    <tr>\n",
              "      <th>3</th>\n",
              "      <td>Debt collection</td>\n",
              "      <td>Pioneer has committed several federal violatio...</td>\n",
              "      <td>0</td>\n",
              "    </tr>\n",
              "    <tr>\n",
              "      <th>8</th>\n",
              "      <td>Credit reporting, credit repair services, or o...</td>\n",
              "      <td>Previously, on XX/XX/XXXX, XX/XX/XXXX, and XX/...</td>\n",
              "      <td>1</td>\n",
              "    </tr>\n",
              "    <tr>\n",
              "      <th>9</th>\n",
              "      <td>Credit reporting, credit repair services, or o...</td>\n",
              "      <td>Hello This complaint is against the three cred...</td>\n",
              "      <td>1</td>\n",
              "    </tr>\n",
              "  </tbody>\n",
              "</table>\n",
              "</div>"
            ],
            "text/plain": [
              "                                             Product  ... category_id\n",
              "0                                    Debt collection  ...           0\n",
              "2                                    Debt collection  ...           0\n",
              "3                                    Debt collection  ...           0\n",
              "8  Credit reporting, credit repair services, or o...  ...           1\n",
              "9  Credit reporting, credit repair services, or o...  ...           1\n",
              "\n",
              "[5 rows x 3 columns]"
            ]
          },
          "metadata": {
            "tags": []
          },
          "execution_count": 12
        }
      ]
    },
    {
      "cell_type": "code",
      "metadata": {
        "colab": {
          "base_uri": "https://localhost:8080/"
        },
        "id": "3RBpi_ZarLaq",
        "outputId": "3fdb44a6-66f6-41e9-e1b2-a9e810966245"
      },
      "source": [
        "import sys\r\n",
        "sys.getsizeof(df)/(1024**3)"
      ],
      "execution_count": 13,
      "outputs": [
        {
          "output_type": "execute_result",
          "data": {
            "text/plain": [
              "0.7826486974954605"
            ]
          },
          "metadata": {
            "tags": []
          },
          "execution_count": 13
        }
      ]
    },
    {
      "cell_type": "code",
      "metadata": {
        "colab": {
          "base_uri": "https://localhost:8080/",
          "height": 752
        },
        "id": "gfPL46FWdoM4",
        "outputId": "1f0861ca-6658-49bf-9709-49e79cc9ab58"
      },
      "source": [
        "import matplotlib.pyplot as plt\n",
        "fig = plt.figure(figsize=(8,6))\n",
        "df.groupby('Product').Consumer_complaint_narrative.count().plot.bar(ylim=0)\n",
        "plt.show()"
      ],
      "execution_count": 14,
      "outputs": [
        {
          "output_type": "display_data",
          "data": {
            "image/png": "[encoded data removed]",
            "text/plain": [
              "<Figure size 576x432 with 1 Axes>"
            ]
          },
          "metadata": {
            "tags": [],
            "needs_background": "light"
          }
        }
      ]
    },
    {
      "cell_type": "markdown",
      "metadata": {
        "id": "IT8YT2Zrx3Rf"
      },
      "source": [
        "# Undersample the High Frequency Classes - Using Median Count"
      ]
    },
    {
      "cell_type": "code",
      "metadata": {
        "colab": {
          "base_uri": "https://localhost:8080/"
        },
        "id": "CucfrioIGw3O",
        "outputId": "9c57b94e-9f00-4284-83a0-c7c653b1d18b"
      },
      "source": [
        "df['Product'].value_counts()"
      ],
      "execution_count": 15,
      "outputs": [
        {
          "output_type": "execute_result",
          "data": {
            "text/plain": [
              "Credit reporting, credit repair services, or other personal consumer reports    248115\n",
              "Debt collection                                                                 134651\n",
              "Mortgage                                                                         75042\n",
              "Credit card or prepaid card                                                      50365\n",
              "Credit reporting                                                                 31588\n",
              "Checking or savings account                                                      29404\n",
              "Student loan                                                                     27735\n",
              "Credit card                                                                      18838\n",
              "Bank account or service                                                          14885\n",
              "Money transfer, virtual currency, or money service                               12994\n",
              "Vehicle loan or lease                                                            12287\n",
              "Consumer Loan                                                                     9472\n",
              "Payday loan, title loan, or personal loan                                         8908\n",
              "Payday loan                                                                       1746\n",
              "Money transfers                                                                   1497\n",
              "Prepaid card                                                                      1450\n",
              "Other financial service                                                            292\n",
              "Virtual currency                                                                    16\n",
              "Name: Product, dtype: int64"
            ]
          },
          "metadata": {
            "tags": []
          },
          "execution_count": 15
        }
      ]
    },
    {
      "cell_type": "code",
      "metadata": {
        "colab": {
          "base_uri": "https://localhost:8080/"
        },
        "id": "SEbXwZbmN7Vo",
        "outputId": "9bffb3e6-bfc3-4258-91ba-c522e5175979"
      },
      "source": [
        "print('Minority Class Count : ', df['Product'].value_counts().min())\r\n",
        "print('Majority Class Count : ', df['Product'].value_counts().max())"
      ],
      "execution_count": 16,
      "outputs": [
        {
          "output_type": "stream",
          "text": [
            "Minority Class Count :  16\n",
            "Majority Class Count :  248115\n"
          ],
          "name": "stdout"
        }
      ]
    },
    {
      "cell_type": "code",
      "metadata": {
        "id": "63fIjiSmOGct"
      },
      "source": [
        "# Percentage of majority relative to the minority class\r\n",
        "samplingStrategy = 0.01"
      ],
      "execution_count": 17,
      "outputs": []
    },
    {
      "cell_type": "code",
      "metadata": {
        "colab": {
          "base_uri": "https://localhost:8080/"
        },
        "id": "h-_wRtbFvx2A",
        "outputId": "d9a6ef82-acec-46ea-bdba-c8f48866e94b"
      },
      "source": [
        "import numpy as np\r\n",
        "\r\n",
        "# Undersampling using sampling strategy \r\n",
        "nsamples_per_class = np.int16(df['Product'].value_counts().min()/samplingStrategy)\r\n",
        "undersample = lambda df: df.loc[np.random.choice(a=df.index, size=min(len(df.index), nsamples_per_class), replace=False)]\r\n",
        "df_bal = df.groupby(['Product'], as_index=False).apply(undersample)\r\n",
        "\r\n",
        "print(df_bal.shape)"
      ],
      "execution_count": 18,
      "outputs": [
        {
          "output_type": "stream",
          "text": [
            "(25655, 3)\n"
          ],
          "name": "stdout"
        }
      ]
    },
    {
      "cell_type": "code",
      "metadata": {
        "colab": {
          "base_uri": "https://localhost:8080/",
          "height": 752
        },
        "id": "6DgHEmJmzXvM",
        "outputId": "182506fc-56bf-480f-dbf0-02134ff9048c"
      },
      "source": [
        "import matplotlib.pyplot as plt\r\n",
        "fig = plt.figure(figsize=(8,6))\r\n",
        "df_bal.groupby('Product').Consumer_complaint_narrative.count().plot.bar(ylim=0)\r\n",
        "plt.show()"
      ],
      "execution_count": 19,
      "outputs": [
        {
          "output_type": "display_data",
          "data": {
            "image/png": "[encoded data removed]",
            "text/plain": [
              "<Figure size 576x432 with 1 Axes>"
            ]
          },
          "metadata": {
            "tags": [],
            "needs_background": "light"
          }
        }
      ]
    },
    {
      "cell_type": "code",
      "metadata": {
        "id": "-QVh61vwxu2q"
      },
      "source": [
        "df = df_bal"
      ],
      "execution_count": 20,
      "outputs": []
    },
    {
      "cell_type": "code",
      "metadata": {
        "colab": {
          "base_uri": "https://localhost:8080/"
        },
        "id": "Af0ISgb5doM6",
        "outputId": "b4c4143e-edf2-4625-f83f-cda37bfc9136"
      },
      "source": [
        "from sklearn.feature_extraction.text import TfidfVectorizer\n",
        "\n",
        "tfidf = TfidfVectorizer(sublinear_tf=True, min_df=5, norm='l2', encoding='latin-1', ngram_range=(1, 2), stop_words='english')\n",
        "\n",
        "features = tfidf.fit_transform(df.Consumer_complaint_narrative)\n",
        "labels = df.category_id\n",
        "features.shape"
      ],
      "execution_count": 21,
      "outputs": [
        {
          "output_type": "execute_result",
          "data": {
            "text/plain": [
              "(25655, 70530)"
            ]
          },
          "metadata": {
            "tags": []
          },
          "execution_count": 21
        }
      ]
    },
    {
      "cell_type": "code",
      "metadata": {
        "colab": {
          "base_uri": "https://localhost:8080/"
        },
        "id": "LNXl--eNbKXb",
        "outputId": "9ab2be84-8245-4f4a-8626-c4de89898e5b"
      },
      "source": [
        "import sys\r\n",
        "sys.getsizeof(features)/(1024**3)"
      ],
      "execution_count": 22,
      "outputs": [
        {
          "output_type": "execute_result",
          "data": {
            "text/plain": [
              "5.960464477539063e-08"
            ]
          },
          "metadata": {
            "tags": []
          },
          "execution_count": 22
        }
      ]
    },
    {
      "cell_type": "code",
      "metadata": {
        "id": "O7XnCGoqdoM-",
        "scrolled": false
      },
      "source": [
        "from sklearn.feature_selection import chi2\n",
        "import numpy as np\n",
        "\n",
        "N = 2\n",
        "df_feat = pd.DataFrame(columns=['Product', 'Unigrams', 'Bigrams'])\n",
        "\n",
        "for product, category_id in sorted(category_to_id.items()):\n",
        "  features_chi2 = chi2(features, labels == category_id)\n",
        "  indices = np.argsort(features_chi2[0])\n",
        "\n",
        "  feature_names = np.array(tfidf.get_feature_names())[indices]\n",
        "  unigrams = [v for v in feature_names if len(v.split(' ')) == 1]\n",
        "  bigrams = [v for v in feature_names if len(v.split(' ')) == 2]\n",
        "\n",
        "  # Top N most correlated unigrams and bigrams for each category\n",
        "  df_cat = pd.DataFrame(index=range(N), columns=['Product', 'Unigrams', 'Bigrams'])\n",
        "  df_cat['Product'] = product\n",
        "  df_cat['Unigrams'] = unigrams[-N:]\n",
        "  df_cat['Bigrams'] = bigrams[-N:]\n",
        "  \n",
        "  df_feat = pd.concat([df_feat, df_cat], axis=0, ignore_index=True)"
      ],
      "execution_count": 23,
      "outputs": []
    },
    {
      "cell_type": "code",
      "metadata": {
        "colab": {
          "base_uri": "https://localhost:8080/",
          "height": 662
        },
        "id": "DCSAU-jBzq9-",
        "outputId": "50fdb6af-7896-4f52-b3af-c1371d6e65cc"
      },
      "source": [
        "df_feat.head(20)"
      ],
      "execution_count": 24,
      "outputs": [
        {
          "output_type": "execute_result",
          "data": {
            "text/html": [
              "<div>\n",
              "<style scoped>\n",
              "    .dataframe tbody tr th:only-of-type {\n",
              "        vertical-align: middle;\n",
              "    }\n",
              "\n",
              "    .dataframe tbody tr th {\n",
              "        vertical-align: top;\n",
              "    }\n",
              "\n",
              "    .dataframe thead th {\n",
              "        text-align: right;\n",
              "    }\n",
              "</style>\n",
              "<table border=\"1\" class=\"dataframe\">\n",
              "  <thead>\n",
              "    <tr style=\"text-align: right;\">\n",
              "      <th></th>\n",
              "      <th>Product</th>\n",
              "      <th>Unigrams</th>\n",
              "      <th>Bigrams</th>\n",
              "    </tr>\n",
              "  </thead>\n",
              "  <tbody>\n",
              "    <tr>\n",
              "      <th>0</th>\n",
              "      <td>Bank account or service</td>\n",
              "      <td>bank</td>\n",
              "      <td>checking account</td>\n",
              "    </tr>\n",
              "    <tr>\n",
              "      <th>1</th>\n",
              "      <td>Bank account or service</td>\n",
              "      <td>overdraft</td>\n",
              "      <td>overdraft fees</td>\n",
              "    </tr>\n",
              "    <tr>\n",
              "      <th>2</th>\n",
              "      <td>Checking or savings account</td>\n",
              "      <td>checking</td>\n",
              "      <td>savings account</td>\n",
              "    </tr>\n",
              "    <tr>\n",
              "      <th>3</th>\n",
              "      <td>Checking or savings account</td>\n",
              "      <td>branch</td>\n",
              "      <td>checking account</td>\n",
              "    </tr>\n",
              "    <tr>\n",
              "      <th>4</th>\n",
              "      <td>Consumer Loan</td>\n",
              "      <td>car</td>\n",
              "      <td>car loan</td>\n",
              "    </tr>\n",
              "    <tr>\n",
              "      <th>5</th>\n",
              "      <td>Consumer Loan</td>\n",
              "      <td>vehicle</td>\n",
              "      <td>auto loan</td>\n",
              "    </tr>\n",
              "    <tr>\n",
              "      <th>6</th>\n",
              "      <td>Credit card</td>\n",
              "      <td>macy</td>\n",
              "      <td>synchrony bank</td>\n",
              "    </tr>\n",
              "    <tr>\n",
              "      <th>7</th>\n",
              "      <td>Credit card</td>\n",
              "      <td>card</td>\n",
              "      <td>credit card</td>\n",
              "    </tr>\n",
              "    <tr>\n",
              "      <th>8</th>\n",
              "      <td>Credit card or prepaid card</td>\n",
              "      <td>barclays</td>\n",
              "      <td>credit limit</td>\n",
              "    </tr>\n",
              "    <tr>\n",
              "      <th>9</th>\n",
              "      <td>Credit card or prepaid card</td>\n",
              "      <td>card</td>\n",
              "      <td>credit card</td>\n",
              "    </tr>\n",
              "    <tr>\n",
              "      <th>10</th>\n",
              "      <td>Credit reporting</td>\n",
              "      <td>experian</td>\n",
              "      <td>xxxx equifax</td>\n",
              "    </tr>\n",
              "    <tr>\n",
              "      <th>11</th>\n",
              "      <td>Credit reporting</td>\n",
              "      <td>equifax</td>\n",
              "      <td>credit report</td>\n",
              "    </tr>\n",
              "    <tr>\n",
              "      <th>12</th>\n",
              "      <td>Credit reporting, credit repair services, or o...</td>\n",
              "      <td>inquiries</td>\n",
              "      <td>fraudulent accounts</td>\n",
              "    </tr>\n",
              "    <tr>\n",
              "      <th>13</th>\n",
              "      <td>Credit reporting, credit repair services, or o...</td>\n",
              "      <td>report</td>\n",
              "      <td>credit report</td>\n",
              "    </tr>\n",
              "    <tr>\n",
              "      <th>14</th>\n",
              "      <td>Debt collection</td>\n",
              "      <td>collection</td>\n",
              "      <td>collect debt</td>\n",
              "    </tr>\n",
              "    <tr>\n",
              "      <th>15</th>\n",
              "      <td>Debt collection</td>\n",
              "      <td>debt</td>\n",
              "      <td>debt collection</td>\n",
              "    </tr>\n",
              "    <tr>\n",
              "      <th>16</th>\n",
              "      <td>Money transfer, virtual currency, or money ser...</td>\n",
              "      <td>app</td>\n",
              "      <td>coinbase account</td>\n",
              "    </tr>\n",
              "    <tr>\n",
              "      <th>17</th>\n",
              "      <td>Money transfer, virtual currency, or money ser...</td>\n",
              "      <td>coinbase</td>\n",
              "      <td>cash app</td>\n",
              "    </tr>\n",
              "    <tr>\n",
              "      <th>18</th>\n",
              "      <td>Money transfers</td>\n",
              "      <td>paypal</td>\n",
              "      <td>money transfer</td>\n",
              "    </tr>\n",
              "    <tr>\n",
              "      <th>19</th>\n",
              "      <td>Money transfers</td>\n",
              "      <td>western</td>\n",
              "      <td>western union</td>\n",
              "    </tr>\n",
              "  </tbody>\n",
              "</table>\n",
              "</div>"
            ],
            "text/plain": [
              "                                              Product  ...              Bigrams\n",
              "0                             Bank account or service  ...     checking account\n",
              "1                             Bank account or service  ...       overdraft fees\n",
              "2                         Checking or savings account  ...      savings account\n",
              "3                         Checking or savings account  ...     checking account\n",
              "4                                       Consumer Loan  ...             car loan\n",
              "5                                       Consumer Loan  ...            auto loan\n",
              "6                                         Credit card  ...       synchrony bank\n",
              "7                                         Credit card  ...          credit card\n",
              "8                         Credit card or prepaid card  ...         credit limit\n",
              "9                         Credit card or prepaid card  ...          credit card\n",
              "10                                   Credit reporting  ...         xxxx equifax\n",
              "11                                   Credit reporting  ...        credit report\n",
              "12  Credit reporting, credit repair services, or o...  ...  fraudulent accounts\n",
              "13  Credit reporting, credit repair services, or o...  ...        credit report\n",
              "14                                    Debt collection  ...         collect debt\n",
              "15                                    Debt collection  ...      debt collection\n",
              "16  Money transfer, virtual currency, or money ser...  ...     coinbase account\n",
              "17  Money transfer, virtual currency, or money ser...  ...             cash app\n",
              "18                                    Money transfers  ...       money transfer\n",
              "19                                    Money transfers  ...        western union\n",
              "\n",
              "[20 rows x 3 columns]"
            ]
          },
          "metadata": {
            "tags": []
          },
          "execution_count": 24
        }
      ]
    },
    {
      "cell_type": "code",
      "metadata": {
        "id": "M_dOI0PldoM-"
      },
      "source": [
        "from sklearn.model_selection import train_test_split\n",
        "from sklearn.feature_extraction.text import CountVectorizer\n",
        "from sklearn.feature_extraction.text import TfidfTransformer, TfidfVectorizer\n",
        "from sklearn.naive_bayes import MultinomialNB\n",
        "\n",
        "X_train, X_test, y_train, y_test = train_test_split(df['Consumer_complaint_narrative'], df['Product'], random_state = 0)\n",
        "\n",
        "count_vect = CountVectorizer()\n",
        "X_train_counts = count_vect.fit_transform(X_train)\n",
        "tfidf_transformer = TfidfTransformer()\n",
        "X_train_tfidf = tfidf_transformer.fit_transform(X_train_counts)"
      ],
      "execution_count": 25,
      "outputs": []
    },
    {
      "cell_type": "markdown",
      "metadata": {
        "id": "jFshCp7ZlTT5"
      },
      "source": [
        "# Baseline Classifiers\r\n",
        "\r\n",
        "- Logistic Regression\r\n",
        "- (Multinomial) Naive Bayes\r\n",
        "- Linear Support Vector Machine\r\n",
        "- Random Forest"
      ]
    },
    {
      "cell_type": "markdown",
      "metadata": {
        "id": "NgsuekNLkP54"
      },
      "source": [
        "# Optimize Baseline Models Using GridSearchCV"
      ]
    },
    {
      "cell_type": "code",
      "metadata": {
        "id": "h3g454adGnmC"
      },
      "source": [
        "from sklearn.linear_model import LogisticRegression\r\n",
        "from sklearn.ensemble import RandomForestClassifier\r\n",
        "from sklearn.naive_bayes import MultinomialNB\r\n",
        "from sklearn.svm import LinearSVC\r\n",
        "\r\n",
        "from sklearn.pipeline import Pipeline\r\n",
        "from sklearn.metrics import classification_report\r\n",
        "from sklearn.model_selection import GridSearchCV"
      ],
      "execution_count": 26,
      "outputs": []
    },
    {
      "cell_type": "markdown",
      "metadata": {
        "id": "JFYRyZuIZEAt"
      },
      "source": [
        "## Multinomial Naive Bayes Classifier"
      ]
    },
    {
      "cell_type": "code",
      "metadata": {
        "id": "TAGzVSGTYuAa"
      },
      "source": [
        "# Implement the grid search\r\n",
        "pipe = Pipeline([(\"tfidf\", TfidfVectorizer()), \r\n",
        "                 (\"classifier\", MultinomialNB())])\r\n",
        "\r\n",
        "params = {'classifier__alpha':[1, 0.1]}\r\n",
        "\r\n",
        "gridCV = GridSearchCV(pipe, param_grid=params)\r\n",
        "\r\n",
        "# Train the Multinomial Naive Bayes classifier  \r\n",
        "gridCV.fit(X_train, y_train)"
      ],
      "execution_count": null,
      "outputs": []
    },
    {
      "cell_type": "code",
      "metadata": {
        "colab": {
          "base_uri": "https://localhost:8080/"
        },
        "id": "SQ3usVG8ZAH4",
        "outputId": "fd447599-9d52-435c-fbc8-1790eb83e832"
      },
      "source": [
        "print(gridCV.best_params_)\r\n",
        "print(gridCV.best_score_)"
      ],
      "execution_count": 28,
      "outputs": [
        {
          "output_type": "stream",
          "text": [
            "{'classifier__alpha': 0.1}\n",
            "0.6087003320245721\n"
          ],
          "name": "stdout"
        }
      ]
    },
    {
      "cell_type": "code",
      "metadata": {
        "colab": {
          "base_uri": "https://localhost:8080/"
        },
        "id": "Gg0qizTyY_gr",
        "outputId": "fad44dba-fd29-4f41-8b3c-7a1204050e97"
      },
      "source": [
        "# Evaluate the Multinomial Naive Bayes classifier\r\n",
        "y_pred = gridCV.best_estimator_.predict(X_test)\r\n",
        "print(classification_report(y_test, y_pred))"
      ],
      "execution_count": 29,
      "outputs": [
        {
          "output_type": "stream",
          "text": [
            "                                                                              precision    recall  f1-score   support\n",
            "\n",
            "                                                     Bank account or service       0.52      0.54      0.53       402\n",
            "                                                 Checking or savings account       0.52      0.60      0.56       405\n",
            "                                                               Consumer Loan       0.45      0.36      0.40       370\n",
            "                                                                 Credit card       0.51      0.51      0.51       412\n",
            "                                                 Credit card or prepaid card       0.50      0.47      0.48       401\n",
            "                                                            Credit reporting       0.64      0.60      0.62       409\n",
            "Credit reporting, credit repair services, or other personal consumer reports       0.53      0.58      0.55       386\n",
            "                                                             Debt collection       0.63      0.64      0.63       400\n",
            "                          Money transfer, virtual currency, or money service       0.65      0.61      0.63       421\n",
            "                                                             Money transfers       0.67      0.70      0.68       382\n",
            "                                                                    Mortgage       0.82      0.89      0.85       404\n",
            "                                                     Other financial service       0.00      0.00      0.00        72\n",
            "                                                                 Payday loan       0.64      0.72      0.68       385\n",
            "                                   Payday loan, title loan, or personal loan       0.50      0.42      0.45       404\n",
            "                                                                Prepaid card       0.81      0.81      0.81       361\n",
            "                                                                Student loan       0.82      0.88      0.85       388\n",
            "                                                       Vehicle loan or lease       0.59      0.66      0.62       406\n",
            "                                                            Virtual currency       0.00      0.00      0.00         6\n",
            "\n",
            "                                                                    accuracy                           0.62      6414\n",
            "                                                                   macro avg       0.54      0.55      0.55      6414\n",
            "                                                                weighted avg       0.60      0.62      0.61      6414\n",
            "\n"
          ],
          "name": "stdout"
        },
        {
          "output_type": "stream",
          "text": [
            "/usr/local/lib/python3.7/dist-packages/sklearn/metrics/_classification.py:1272: UndefinedMetricWarning: Precision and F-score are ill-defined and being set to 0.0 in labels with no predicted samples. Use `zero_division` parameter to control this behavior.\n",
            "  _warn_prf(average, modifier, msg_start, len(result))\n"
          ],
          "name": "stderr"
        }
      ]
    },
    {
      "cell_type": "markdown",
      "metadata": {
        "id": "a2BistA1XAeh"
      },
      "source": [
        "## Logistic Regression Classifier"
      ]
    },
    {
      "cell_type": "code",
      "metadata": {
        "id": "S4VzznoVWzZA"
      },
      "source": [
        "# Implement the grid search\r\n",
        "pipe = Pipeline([('tfidf', TfidfVectorizer()), \r\n",
        "                 ('classifier', LogisticRegression())])\r\n",
        "\r\n",
        "params = {'classifier__C':[0.5, 1],\r\n",
        "          'classifier__penalty':['l2', None]}\r\n",
        "          \r\n",
        "gridCV = GridSearchCV(pipe, param_grid=params)\r\n",
        "\r\n",
        "# Train the Logistic Regression classifier\r\n",
        "gridCV.fit(X_train, y_train)"
      ],
      "execution_count": null,
      "outputs": []
    },
    {
      "cell_type": "code",
      "metadata": {
        "colab": {
          "base_uri": "https://localhost:8080/"
        },
        "id": "yDEU9NtDYlcw",
        "outputId": "90b849d4-104a-469e-e76a-f5b7f6036783"
      },
      "source": [
        "print(gridCV.best_params_)\r\n",
        "print(gridCV.best_score_)"
      ],
      "execution_count": 31,
      "outputs": [
        {
          "output_type": "stream",
          "text": [
            "{'classifier__C': 1, 'classifier__penalty': 'l2'}\n",
            "0.625798976325087\n"
          ],
          "name": "stdout"
        }
      ]
    },
    {
      "cell_type": "code",
      "metadata": {
        "colab": {
          "base_uri": "https://localhost:8080/"
        },
        "id": "34snmkxUX08B",
        "outputId": "f21f6ab8-5915-422f-b8ed-bcc3a3b91067"
      },
      "source": [
        "# Evaluate the Logistic Regression classifier\r\n",
        "y_pred = gridCV.best_estimator_.predict(X_test)\r\n",
        "print(classification_report(y_test, y_pred))"
      ],
      "execution_count": 32,
      "outputs": [
        {
          "output_type": "stream",
          "text": [
            "                                                                              precision    recall  f1-score   support\n",
            "\n",
            "                                                     Bank account or service       0.54      0.57      0.56       402\n",
            "                                                 Checking or savings account       0.59      0.58      0.58       405\n",
            "                                                               Consumer Loan       0.45      0.42      0.44       370\n",
            "                                                                 Credit card       0.57      0.61      0.59       412\n",
            "                                                 Credit card or prepaid card       0.53      0.48      0.51       401\n",
            "                                                            Credit reporting       0.65      0.61      0.63       409\n",
            "Credit reporting, credit repair services, or other personal consumer reports       0.54      0.58      0.56       386\n",
            "                                                             Debt collection       0.61      0.72      0.66       400\n",
            "                          Money transfer, virtual currency, or money service       0.68      0.63      0.65       421\n",
            "                                                             Money transfers       0.66      0.76      0.70       382\n",
            "                                                                    Mortgage       0.87      0.88      0.87       404\n",
            "                                                     Other financial service       0.80      0.11      0.20        72\n",
            "                                                                 Payday loan       0.66      0.72      0.69       385\n",
            "                                   Payday loan, title loan, or personal loan       0.51      0.45      0.48       404\n",
            "                                                                Prepaid card       0.84      0.81      0.82       361\n",
            "                                                                Student loan       0.83      0.85      0.84       388\n",
            "                                                       Vehicle loan or lease       0.62      0.59      0.60       406\n",
            "                                                            Virtual currency       0.00      0.00      0.00         6\n",
            "\n",
            "                                                                    accuracy                           0.63      6414\n",
            "                                                                   macro avg       0.61      0.58      0.58      6414\n",
            "                                                                weighted avg       0.63      0.63      0.63      6414\n",
            "\n"
          ],
          "name": "stdout"
        },
        {
          "output_type": "stream",
          "text": [
            "/usr/local/lib/python3.7/dist-packages/sklearn/metrics/_classification.py:1272: UndefinedMetricWarning: Precision and F-score are ill-defined and being set to 0.0 in labels with no predicted samples. Use `zero_division` parameter to control this behavior.\n",
            "  _warn_prf(average, modifier, msg_start, len(result))\n"
          ],
          "name": "stderr"
        }
      ]
    },
    {
      "cell_type": "markdown",
      "metadata": {
        "id": "jlRdk1cCX8Zz"
      },
      "source": [
        "## Linear Support Vector Machine Classifier"
      ]
    },
    {
      "cell_type": "code",
      "metadata": {
        "id": "ar9TFpzEXoS1"
      },
      "source": [
        "# Implement the grid search\r\n",
        "pipe = Pipeline([('tfidf', TfidfVectorizer()), \r\n",
        "                 ('classifier', LinearSVC())])\r\n",
        "\r\n",
        "params = {'classifier__loss':['squared_hinge', 'hinge']}\r\n",
        "          \r\n",
        "gridCV = GridSearchCV(pipe, param_grid=params)\r\n",
        "\r\n",
        "# Train the Linear SVC classifier\r\n",
        "gridCV.fit(X_train, y_train)"
      ],
      "execution_count": null,
      "outputs": []
    },
    {
      "cell_type": "code",
      "metadata": {
        "id": "wmb1MbAuZVT1",
        "colab": {
          "base_uri": "https://localhost:8080/"
        },
        "outputId": "28ef6a14-5de7-4f11-8d88-c9864f1529d9"
      },
      "source": [
        "print(gridCV.best_params_)\r\n",
        "print(gridCV.best_score_)"
      ],
      "execution_count": 34,
      "outputs": [
        {
          "output_type": "stream",
          "text": [
            "{'classifier__loss': 'squared_hinge'}\n",
            "0.6111946753996638\n"
          ],
          "name": "stdout"
        }
      ]
    },
    {
      "cell_type": "code",
      "metadata": {
        "id": "6A1zee2tZRNh",
        "colab": {
          "base_uri": "https://localhost:8080/"
        },
        "outputId": "8061de7f-4447-4a8f-9ec0-be885526be24"
      },
      "source": [
        "# Evaluate the Linear SVC classifier\r\n",
        "y_pred = gridCV.best_estimator_.predict(X_test)\r\n",
        "print(classification_report(y_test, y_pred))"
      ],
      "execution_count": 35,
      "outputs": [
        {
          "output_type": "stream",
          "text": [
            "                                                                              precision    recall  f1-score   support\n",
            "\n",
            "                                                     Bank account or service       0.51      0.49      0.50       402\n",
            "                                                 Checking or savings account       0.53      0.55      0.54       405\n",
            "                                                               Consumer Loan       0.45      0.41      0.43       370\n",
            "                                                                 Credit card       0.53      0.54      0.54       412\n",
            "                                                 Credit card or prepaid card       0.50      0.46      0.48       401\n",
            "                                                            Credit reporting       0.62      0.62      0.62       409\n",
            "Credit reporting, credit repair services, or other personal consumer reports       0.57      0.54      0.55       386\n",
            "                                                             Debt collection       0.62      0.73      0.67       400\n",
            "                          Money transfer, virtual currency, or money service       0.64      0.59      0.61       421\n",
            "                                                             Money transfers       0.66      0.74      0.70       382\n",
            "                                                                    Mortgage       0.83      0.89      0.86       404\n",
            "                                                     Other financial service       0.52      0.21      0.30        72\n",
            "                                                                 Payday loan       0.63      0.69      0.66       385\n",
            "                                   Payday loan, title loan, or personal loan       0.49      0.43      0.46       404\n",
            "                                                                Prepaid card       0.82      0.83      0.82       361\n",
            "                                                                Student loan       0.83      0.87      0.85       388\n",
            "                                                       Vehicle loan or lease       0.59      0.58      0.58       406\n",
            "                                                            Virtual currency       1.00      0.33      0.50         6\n",
            "\n",
            "                                                                    accuracy                           0.62      6414\n",
            "                                                                   macro avg       0.63      0.58      0.59      6414\n",
            "                                                                weighted avg       0.61      0.62      0.61      6414\n",
            "\n"
          ],
          "name": "stdout"
        }
      ]
    },
    {
      "cell_type": "markdown",
      "metadata": {
        "id": "IXnBU3k6ZZwi"
      },
      "source": [
        "## Random Forest Classifier"
      ]
    },
    {
      "cell_type": "code",
      "metadata": {
        "id": "Tv0HPTA0ZiTx",
        "colab": {
          "base_uri": "https://localhost:8080/"
        },
        "outputId": "c9d70818-d917-4fd4-f031-381dc8dce8a1"
      },
      "source": [
        "# Implement the grid search\r\n",
        "pipe = Pipeline([('tfidf', TfidfVectorizer()), \r\n",
        "                 ('classifier', RandomForestClassifier())])\r\n",
        "\r\n",
        "params = {'classifier__n_estimators':[50, 100],\r\n",
        "          'classifier__max_depth':[2, 3],\r\n",
        "          'classifier__random_state':[0, None]}\r\n",
        "          \r\n",
        "gridCV = GridSearchCV(pipe, param_grid=params)\r\n",
        "\r\n",
        "# Train the Random Forest classifier\r\n",
        "gridCV.fit(X_train, y_train)"
      ],
      "execution_count": 36,
      "outputs": [
        {
          "output_type": "execute_result",
          "data": {
            "text/plain": [
              "GridSearchCV(cv=None, error_score=nan,\n",
              "             estimator=Pipeline(memory=None,\n",
              "                                steps=[('tfidf',\n",
              "                                        TfidfVectorizer(analyzer='word',\n",
              "                                                        binary=False,\n",
              "                                                        decode_error='strict',\n",
              "                                                        dtype=<class 'numpy.float64'>,\n",
              "                                                        encoding='utf-8',\n",
              "                                                        input='content',\n",
              "                                                        lowercase=True,\n",
              "                                                        max_df=1.0,\n",
              "                                                        max_features=None,\n",
              "                                                        min_df=1,\n",
              "                                                        ngram_range=(1, 1),\n",
              "                                                        norm='l2',\n",
              "                                                        preprocessor=None,\n",
              "                                                        smooth_idf=True,\n",
              "                                                        stop_words=None,\n",
              "                                                        strip_...\n",
              "                                                               min_weight_fraction_leaf=0.0,\n",
              "                                                               n_estimators=100,\n",
              "                                                               n_jobs=None,\n",
              "                                                               oob_score=False,\n",
              "                                                               random_state=None,\n",
              "                                                               verbose=0,\n",
              "                                                               warm_start=False))],\n",
              "                                verbose=False),\n",
              "             iid='deprecated', n_jobs=None,\n",
              "             param_grid={'classifier__max_depth': [2, 3],\n",
              "                         'classifier__n_estimators': [50, 100],\n",
              "                         'classifier__random_state': [0, None]},\n",
              "             pre_dispatch='2*n_jobs', refit=True, return_train_score=False,\n",
              "             scoring=None, verbose=0)"
            ]
          },
          "metadata": {
            "tags": []
          },
          "execution_count": 36
        }
      ]
    },
    {
      "cell_type": "code",
      "metadata": {
        "id": "DTs4zMSzZjBr",
        "colab": {
          "base_uri": "https://localhost:8080/"
        },
        "outputId": "48700079-6ddf-4116-91d0-e0fe2de4aabe"
      },
      "source": [
        "print(gridCV.best_params_)\r\n",
        "print(gridCV.best_score_)"
      ],
      "execution_count": 37,
      "outputs": [
        {
          "output_type": "stream",
          "text": [
            "{'classifier__max_depth': 3, 'classifier__n_estimators': 100, 'classifier__random_state': None}\n",
            "0.4810052858182242\n"
          ],
          "name": "stdout"
        }
      ]
    },
    {
      "cell_type": "code",
      "metadata": {
        "id": "QEwUGEpHZj-h",
        "colab": {
          "base_uri": "https://localhost:8080/"
        },
        "outputId": "6cf6cb9c-e741-45c3-f09e-a0055d35e209"
      },
      "source": [
        "# Evaluate the Random Forest classifier\r\n",
        "y_pred = gridCV.best_estimator_.predict(X_test)\r\n",
        "print(classification_report(y_test, y_pred))"
      ],
      "execution_count": 38,
      "outputs": [
        {
          "output_type": "stream",
          "text": [
            "                                                                              precision    recall  f1-score   support\n",
            "\n",
            "                                                     Bank account or service       0.38      0.25      0.30       402\n",
            "                                                 Checking or savings account       0.41      0.45      0.43       405\n",
            "                                                               Consumer Loan       0.24      0.18      0.20       370\n",
            "                                                                 Credit card       0.62      0.11      0.19       412\n",
            "                                                 Credit card or prepaid card       0.38      0.37      0.37       401\n",
            "                                                            Credit reporting       0.44      0.33      0.38       409\n",
            "Credit reporting, credit repair services, or other personal consumer reports       0.17      0.55      0.26       386\n",
            "                                                             Debt collection       0.52      0.39      0.45       400\n",
            "                          Money transfer, virtual currency, or money service       0.54      0.41      0.47       421\n",
            "                                                             Money transfers       0.60      0.54      0.57       382\n",
            "                                                                    Mortgage       0.63      0.91      0.74       404\n",
            "                                                     Other financial service       0.00      0.00      0.00        72\n",
            "                                                                 Payday loan       0.48      0.63      0.55       385\n",
            "                                   Payday loan, title loan, or personal loan       0.54      0.10      0.17       404\n",
            "                                                                Prepaid card       0.81      0.63      0.71       361\n",
            "                                                                Student loan       0.61      0.80      0.69       388\n",
            "                                                       Vehicle loan or lease       0.47      0.62      0.53       406\n",
            "                                                            Virtual currency       0.00      0.00      0.00         6\n",
            "\n",
            "                                                                    accuracy                           0.45      6414\n",
            "                                                                   macro avg       0.44      0.40      0.39      6414\n",
            "                                                                weighted avg       0.48      0.45      0.43      6414\n",
            "\n"
          ],
          "name": "stdout"
        },
        {
          "output_type": "stream",
          "text": [
            "/usr/local/lib/python3.7/dist-packages/sklearn/metrics/_classification.py:1272: UndefinedMetricWarning: Precision and F-score are ill-defined and being set to 0.0 in labels with no predicted samples. Use `zero_division` parameter to control this behavior.\n",
            "  _warn_prf(average, modifier, msg_start, len(result))\n"
          ],
          "name": "stderr"
        }
      ]
    },
    {
      "cell_type": "markdown",
      "metadata": {
        "id": "cdP3m9DpkpTq"
      },
      "source": [
        "# Model Selection using Cross Validation"
      ]
    },
    {
      "cell_type": "code",
      "metadata": {
        "id": "dp5-bBXldoNE",
        "colab": {
          "base_uri": "https://localhost:8080/"
        },
        "outputId": "3fd56823-6db2-494b-85a1-df0ff2471df0"
      },
      "source": [
        "from sklearn.linear_model import LogisticRegression\n",
        "from sklearn.ensemble import RandomForestClassifier\n",
        "from sklearn.naive_bayes import MultinomialNB\n",
        "from sklearn.svm import LinearSVC\n",
        "\n",
        "from sklearn.model_selection import cross_val_score\n",
        "\n",
        "models = [\n",
        "    RandomForestClassifier(n_estimators=100, max_depth=3, random_state=0),\n",
        "    LinearSVC(),\n",
        "    MultinomialNB(alpha=0.1),\n",
        "    LogisticRegression(C=0.5, random_state=0),\n",
        "]\n",
        "CV = 5\n",
        "cv_df = pd.DataFrame(index=range(CV * len(models)))\n",
        "entries = []\n",
        "for model in models:\n",
        "  model_name = model.__class__.__name__\n",
        "  accuracies = cross_val_score(model, features, labels, scoring='accuracy', cv=CV)\n",
        "\n",
        "  for fold_idx, accuracy in enumerate(accuracies):\n",
        "    entries.append((model_name, fold_idx, accuracy))\n",
        "    \n",
        "cv_df = pd.DataFrame(entries, columns=['model_name', 'fold_idx', 'accuracy'])"
      ],
      "execution_count": 39,
      "outputs": [
        {
          "output_type": "stream",
          "text": [
            "/usr/local/lib/python3.7/dist-packages/sklearn/linear_model/_logistic.py:940: ConvergenceWarning: lbfgs failed to converge (status=1):\n",
            "STOP: TOTAL NO. of ITERATIONS REACHED LIMIT.\n",
            "\n",
            "Increase the number of iterations (max_iter) or scale the data as shown in:\n",
            "    https://scikit-learn.org/stable/modules/preprocessing.html\n",
            "Please also refer to the documentation for alternative solver options:\n",
            "    https://scikit-learn.org/stable/modules/linear_model.html#logistic-regression\n",
            "  extra_warning_msg=_LOGISTIC_SOLVER_CONVERGENCE_MSG)\n",
            "/usr/local/lib/python3.7/dist-packages/sklearn/linear_model/_logistic.py:940: ConvergenceWarning: lbfgs failed to converge (status=1):\n",
            "STOP: TOTAL NO. of ITERATIONS REACHED LIMIT.\n",
            "\n",
            "Increase the number of iterations (max_iter) or scale the data as shown in:\n",
            "    https://scikit-learn.org/stable/modules/preprocessing.html\n",
            "Please also refer to the documentation for alternative solver options:\n",
            "    https://scikit-learn.org/stable/modules/linear_model.html#logistic-regression\n",
            "  extra_warning_msg=_LOGISTIC_SOLVER_CONVERGENCE_MSG)\n",
            "/usr/local/lib/python3.7/dist-packages/sklearn/linear_model/_logistic.py:940: ConvergenceWarning: lbfgs failed to converge (status=1):\n",
            "STOP: TOTAL NO. of ITERATIONS REACHED LIMIT.\n",
            "\n",
            "Increase the number of iterations (max_iter) or scale the data as shown in:\n",
            "    https://scikit-learn.org/stable/modules/preprocessing.html\n",
            "Please also refer to the documentation for alternative solver options:\n",
            "    https://scikit-learn.org/stable/modules/linear_model.html#logistic-regression\n",
            "  extra_warning_msg=_LOGISTIC_SOLVER_CONVERGENCE_MSG)\n",
            "/usr/local/lib/python3.7/dist-packages/sklearn/linear_model/_logistic.py:940: ConvergenceWarning: lbfgs failed to converge (status=1):\n",
            "STOP: TOTAL NO. of ITERATIONS REACHED LIMIT.\n",
            "\n",
            "Increase the number of iterations (max_iter) or scale the data as shown in:\n",
            "    https://scikit-learn.org/stable/modules/preprocessing.html\n",
            "Please also refer to the documentation for alternative solver options:\n",
            "    https://scikit-learn.org/stable/modules/linear_model.html#logistic-regression\n",
            "  extra_warning_msg=_LOGISTIC_SOLVER_CONVERGENCE_MSG)\n",
            "/usr/local/lib/python3.7/dist-packages/sklearn/linear_model/_logistic.py:940: ConvergenceWarning: lbfgs failed to converge (status=1):\n",
            "STOP: TOTAL NO. of ITERATIONS REACHED LIMIT.\n",
            "\n",
            "Increase the number of iterations (max_iter) or scale the data as shown in:\n",
            "    https://scikit-learn.org/stable/modules/preprocessing.html\n",
            "Please also refer to the documentation for alternative solver options:\n",
            "    https://scikit-learn.org/stable/modules/linear_model.html#logistic-regression\n",
            "  extra_warning_msg=_LOGISTIC_SOLVER_CONVERGENCE_MSG)\n"
          ],
          "name": "stderr"
        }
      ]
    },
    {
      "cell_type": "code",
      "metadata": {
        "colab": {
          "base_uri": "https://localhost:8080/",
          "height": 280
        },
        "id": "VFQJPtdYdoNF",
        "outputId": "9da4b861-d373-4c34-8523-c39f8f3e7d93"
      },
      "source": [
        "import seaborn as sns\n",
        "\n",
        "sns.boxplot(x='model_name', y='accuracy', data=cv_df)\n",
        "sns.stripplot(x='model_name', y='accuracy', data=cv_df, \n",
        "              size=8, jitter=True, edgecolor=\"gray\", linewidth=2)\n",
        "plt.show()"
      ],
      "execution_count": 40,
      "outputs": [
        {
          "output_type": "display_data",
          "data": {
            "image/png": "[encoded data removed]",
            "text/plain": [
              "<Figure size 432x288 with 1 Axes>"
            ]
          },
          "metadata": {
            "tags": [],
            "needs_background": "light"
          }
        }
      ]
    },
    {
      "cell_type": "code",
      "metadata": {
        "colab": {
          "base_uri": "https://localhost:8080/"
        },
        "id": "RGzYEOiAdoNG",
        "outputId": "d4f83c8e-c206-4124-ffbf-e000038ba6e1"
      },
      "source": [
        "cv_df.groupby('model_name').accuracy.mean()"
      ],
      "execution_count": 41,
      "outputs": [
        {
          "output_type": "execute_result",
          "data": {
            "text/plain": [
              "model_name\n",
              "LinearSVC                 0.650283\n",
              "LogisticRegression        0.648529\n",
              "MultinomialNB             0.631339\n",
              "RandomForestClassifier    0.483025\n",
              "Name: accuracy, dtype: float64"
            ]
          },
          "metadata": {
            "tags": []
          },
          "execution_count": 41
        }
      ]
    },
    {
      "cell_type": "markdown",
      "metadata": {
        "id": "vKxrTHmBYCWC"
      },
      "source": [
        "# Best Model"
      ]
    },
    {
      "cell_type": "code",
      "metadata": {
        "id": "unWdonssdoNH"
      },
      "source": [
        "from sklearn.svm import LinearSVC\n",
        "from sklearn.model_selection import train_test_split\n",
        "\n",
        "model = LinearSVC()\n",
        "\n",
        "X_train, X_test, y_train, y_test, indices_train, indices_test = train_test_split(features, labels, df.index, test_size=0.33, random_state=0)\n",
        "model.fit(X_train, y_train)\n",
        "y_pred = model.predict(X_test)"
      ],
      "execution_count": 42,
      "outputs": []
    },
    {
      "cell_type": "code",
      "metadata": {
        "id": "ZwB7gOUcdoNI",
        "colab": {
          "base_uri": "https://localhost:8080/",
          "height": 895
        },
        "outputId": "b85e340e-d4d5-4677-a4f7-6fc72f90f983"
      },
      "source": [
        "from sklearn.metrics import confusion_matrix\n",
        "import seaborn as sns\n",
        "\n",
        "conf_mat = confusion_matrix(y_test, y_pred)\n",
        "fig, ax = plt.subplots(figsize=(15,10))\n",
        "sns.heatmap(conf_mat, annot=True, fmt='d',\n",
        "            xticklabels=category_id_df.Product.values, yticklabels=category_id_df.Product.values)\n",
        "plt.ylabel('Actual')\n",
        "plt.xlabel('Predicted')\n",
        "plt.show()"
      ],
      "execution_count": 43,
      "outputs": [
        {
          "output_type": "display_data",
          "data": {
            "image/png": "[encoded data removed]",
            "text/plain": [
              "<Figure size 1080x720 with 2 Axes>"
            ]
          },
          "metadata": {
            "tags": [],
            "needs_background": "light"
          }
        }
      ]
    },
    {
      "cell_type": "code",
      "metadata": {
        "id": "zsmaVq8IdoNM",
        "scrolled": false,
        "colab": {
          "base_uri": "https://localhost:8080/",
          "height": 1000
        },
        "outputId": "ba9b695d-5af9-4aef-939e-98f7bb046120"
      },
      "source": [
        "from IPython.display import display\n",
        "\n",
        "for predicted in category_id_df.category_id:\n",
        "  for actual in category_id_df.category_id:\n",
        "    if predicted != actual and conf_mat[actual, predicted] >= 100:\n",
        "      print(\"'{}' predicted as '{}' : {} examples.\".format(id_to_category[actual], id_to_category[predicted], conf_mat[actual, predicted]))\n",
        "      display(df.loc[indices_test[(y_test == actual) & (y_pred == predicted)]][['Product', 'Consumer_complaint_narrative']])\n",
        "      print('')"
      ],
      "execution_count": 44,
      "outputs": [
        {
          "output_type": "stream",
          "text": [
            "'Consumer Loan' predicted as 'Vehicle loan or lease' : 123 examples.\n"
          ],
          "name": "stdout"
        },
        {
          "output_type": "display_data",
          "data": {
            "text/html": [
              "<div>\n",
              "<style scoped>\n",
              "    .dataframe tbody tr th:only-of-type {\n",
              "        vertical-align: middle;\n",
              "    }\n",
              "\n",
              "    .dataframe tbody tr th {\n",
              "        vertical-align: top;\n",
              "    }\n",
              "\n",
              "    .dataframe thead th {\n",
              "        text-align: right;\n",
              "    }\n",
              "</style>\n",
              "<table border=\"1\" class=\"dataframe\">\n",
              "  <thead>\n",
              "    <tr style=\"text-align: right;\">\n",
              "      <th></th>\n",
              "      <th></th>\n",
              "      <th>Product</th>\n",
              "      <th>Consumer_complaint_narrative</th>\n",
              "    </tr>\n",
              "  </thead>\n",
              "  <tbody>\n",
              "    <tr>\n",
              "      <th rowspan=\"11\" valign=\"top\">2</th>\n",
              "      <th>1698334</th>\n",
              "      <td>Consumer Loan</td>\n",
              "      <td>On XX/XX/XXXX I scheduled a payment online to ...</td>\n",
              "    </tr>\n",
              "    <tr>\n",
              "      <th>1674670</th>\n",
              "      <td>Consumer Loan</td>\n",
              "      <td>I have been called by Wachovia dealers service...</td>\n",
              "    </tr>\n",
              "    <tr>\n",
              "      <th>152465</th>\n",
              "      <td>Consumer Loan</td>\n",
              "      <td>I purchased a new car, and I gave this one bac...</td>\n",
              "    </tr>\n",
              "    <tr>\n",
              "      <th>1736148</th>\n",
              "      <td>Consumer Loan</td>\n",
              "      <td>I gave a cash down payment and a Nissan Altima...</td>\n",
              "    </tr>\n",
              "    <tr>\n",
              "      <th>1735102</th>\n",
              "      <td>Consumer Loan</td>\n",
              "      <td>In XXXX, my vehicle, which is financed through...</td>\n",
              "    </tr>\n",
              "    <tr>\n",
              "      <th>...</th>\n",
              "      <td>...</td>\n",
              "      <td>...</td>\n",
              "    </tr>\n",
              "    <tr>\n",
              "      <th>775096</th>\n",
              "      <td>Consumer Loan</td>\n",
              "      <td>The BANK HAD SOMEONE TO TAKE MY CAR WITHOUT ME...</td>\n",
              "    </tr>\n",
              "    <tr>\n",
              "      <th>1641842</th>\n",
              "      <td>Consumer Loan</td>\n",
              "      <td>My name is XXXX I 'm with XXXX out of XXXX, TX...</td>\n",
              "    </tr>\n",
              "    <tr>\n",
              "      <th>1621347</th>\n",
              "      <td>Consumer Loan</td>\n",
              "      <td>History of account : I am a co-signer on XXXX ...</td>\n",
              "    </tr>\n",
              "    <tr>\n",
              "      <th>1720486</th>\n",
              "      <td>Consumer Loan</td>\n",
              "      <td>I purchased a vehicle from a used car dealersh...</td>\n",
              "    </tr>\n",
              "    <tr>\n",
              "      <th>1687467</th>\n",
              "      <td>Consumer Loan</td>\n",
              "      <td>Well i am a XXXX year old woman who is on her ...</td>\n",
              "    </tr>\n",
              "  </tbody>\n",
              "</table>\n",
              "<p>123 rows × 2 columns</p>\n",
              "</div>"
            ],
            "text/plain": [
              "                 Product                       Consumer_complaint_narrative\n",
              "2 1698334  Consumer Loan  On XX/XX/XXXX I scheduled a payment online to ...\n",
              "  1674670  Consumer Loan  I have been called by Wachovia dealers service...\n",
              "  152465   Consumer Loan  I purchased a new car, and I gave this one bac...\n",
              "  1736148  Consumer Loan  I gave a cash down payment and a Nissan Altima...\n",
              "  1735102  Consumer Loan  In XXXX, my vehicle, which is financed through...\n",
              "...                  ...                                                ...\n",
              "  775096   Consumer Loan  The BANK HAD SOMEONE TO TAKE MY CAR WITHOUT ME...\n",
              "  1641842  Consumer Loan  My name is XXXX I 'm with XXXX out of XXXX, TX...\n",
              "  1621347  Consumer Loan  History of account : I am a co-signer on XXXX ...\n",
              "  1720486  Consumer Loan  I purchased a vehicle from a used car dealersh...\n",
              "  1687467  Consumer Loan  Well i am a XXXX year old woman who is on her ...\n",
              "\n",
              "[123 rows x 2 columns]"
            ]
          },
          "metadata": {
            "tags": []
          }
        },
        {
          "output_type": "stream",
          "text": [
            "\n",
            "'Bank account or service' predicted as 'Checking or savings account' : 105 examples.\n"
          ],
          "name": "stdout"
        },
        {
          "output_type": "display_data",
          "data": {
            "text/html": [
              "<div>\n",
              "<style scoped>\n",
              "    .dataframe tbody tr th:only-of-type {\n",
              "        vertical-align: middle;\n",
              "    }\n",
              "\n",
              "    .dataframe tbody tr th {\n",
              "        vertical-align: top;\n",
              "    }\n",
              "\n",
              "    .dataframe thead th {\n",
              "        text-align: right;\n",
              "    }\n",
              "</style>\n",
              "<table border=\"1\" class=\"dataframe\">\n",
              "  <thead>\n",
              "    <tr style=\"text-align: right;\">\n",
              "      <th></th>\n",
              "      <th></th>\n",
              "      <th>Product</th>\n",
              "      <th>Consumer_complaint_narrative</th>\n",
              "    </tr>\n",
              "  </thead>\n",
              "  <tbody>\n",
              "    <tr>\n",
              "      <th rowspan=\"11\" valign=\"top\">0</th>\n",
              "      <th>1688389</th>\n",
              "      <td>Bank account or service</td>\n",
              "      <td>I am a XXXX on limited funds. On XXXX XXXX, I ...</td>\n",
              "    </tr>\n",
              "    <tr>\n",
              "      <th>1709458</th>\n",
              "      <td>Bank account or service</td>\n",
              "      <td>On the XXXX of XXXX Bank of America closed my ...</td>\n",
              "    </tr>\n",
              "    <tr>\n",
              "      <th>1653121</th>\n",
              "      <td>Bank account or service</td>\n",
              "      <td>Case # XXXX For XXXX XXXX status shows the acc...</td>\n",
              "    </tr>\n",
              "    <tr>\n",
              "      <th>1086432</th>\n",
              "      <td>Bank account or service</td>\n",
              "      <td>Account was closed by bank they wo n't release...</td>\n",
              "    </tr>\n",
              "    <tr>\n",
              "      <th>1648521</th>\n",
              "      <td>Bank account or service</td>\n",
              "      <td>WHILE BANKING WITH BANK OF AMERICA I ASKED TO ...</td>\n",
              "    </tr>\n",
              "    <tr>\n",
              "      <th>...</th>\n",
              "      <td>...</td>\n",
              "      <td>...</td>\n",
              "    </tr>\n",
              "    <tr>\n",
              "      <th>1745271</th>\n",
              "      <td>Bank account or service</td>\n",
              "      <td>Regarding dispute # XXXX I will continue filin...</td>\n",
              "    </tr>\n",
              "    <tr>\n",
              "      <th>1582453</th>\n",
              "      <td>Bank account or service</td>\n",
              "      <td>THIS IS THE SECOND TIME WITHIN A FEW WEEKS THA...</td>\n",
              "    </tr>\n",
              "    <tr>\n",
              "      <th>1735639</th>\n",
              "      <td>Bank account or service</td>\n",
              "      <td>I opened a \" Pinnacle Checking '' account on X...</td>\n",
              "    </tr>\n",
              "    <tr>\n",
              "      <th>1747354</th>\n",
              "      <td>Bank account or service</td>\n",
              "      <td>Comerica Bank refuses to reimburse me for frau...</td>\n",
              "    </tr>\n",
              "    <tr>\n",
              "      <th>1700405</th>\n",
              "      <td>Bank account or service</td>\n",
              "      <td>On XXXX/XXXX/XXXX I made a {$600.00} cash depo...</td>\n",
              "    </tr>\n",
              "  </tbody>\n",
              "</table>\n",
              "<p>105 rows × 2 columns</p>\n",
              "</div>"
            ],
            "text/plain": [
              "                           Product                       Consumer_complaint_narrative\n",
              "0 1688389  Bank account or service  I am a XXXX on limited funds. On XXXX XXXX, I ...\n",
              "  1709458  Bank account or service  On the XXXX of XXXX Bank of America closed my ...\n",
              "  1653121  Bank account or service  Case # XXXX For XXXX XXXX status shows the acc...\n",
              "  1086432  Bank account or service  Account was closed by bank they wo n't release...\n",
              "  1648521  Bank account or service  WHILE BANKING WITH BANK OF AMERICA I ASKED TO ...\n",
              "...                            ...                                                ...\n",
              "  1745271  Bank account or service  Regarding dispute # XXXX I will continue filin...\n",
              "  1582453  Bank account or service  THIS IS THE SECOND TIME WITHIN A FEW WEEKS THA...\n",
              "  1735639  Bank account or service  I opened a \" Pinnacle Checking '' account on X...\n",
              "  1747354  Bank account or service  Comerica Bank refuses to reimburse me for frau...\n",
              "  1700405  Bank account or service  On XXXX/XXXX/XXXX I made a {$600.00} cash depo...\n",
              "\n",
              "[105 rows x 2 columns]"
            ]
          },
          "metadata": {
            "tags": []
          }
        },
        {
          "output_type": "stream",
          "text": [
            "\n",
            "'Credit card or prepaid card' predicted as 'Credit card' : 119 examples.\n"
          ],
          "name": "stdout"
        },
        {
          "output_type": "display_data",
          "data": {
            "text/html": [
              "<div>\n",
              "<style scoped>\n",
              "    .dataframe tbody tr th:only-of-type {\n",
              "        vertical-align: middle;\n",
              "    }\n",
              "\n",
              "    .dataframe tbody tr th {\n",
              "        vertical-align: top;\n",
              "    }\n",
              "\n",
              "    .dataframe thead th {\n",
              "        text-align: right;\n",
              "    }\n",
              "</style>\n",
              "<table border=\"1\" class=\"dataframe\">\n",
              "  <thead>\n",
              "    <tr style=\"text-align: right;\">\n",
              "      <th></th>\n",
              "      <th></th>\n",
              "      <th>Product</th>\n",
              "      <th>Consumer_complaint_narrative</th>\n",
              "    </tr>\n",
              "  </thead>\n",
              "  <tbody>\n",
              "    <tr>\n",
              "      <th rowspan=\"11\" valign=\"top\">4</th>\n",
              "      <th>1837035</th>\n",
              "      <td>Credit card or prepaid card</td>\n",
              "      <td>I was interested in applying for the Chase XXX...</td>\n",
              "    </tr>\n",
              "    <tr>\n",
              "      <th>219257</th>\n",
              "      <td>Credit card or prepaid card</td>\n",
              "      <td>today XX/XX/20 I've wasted over 5 hours ( 2 on...</td>\n",
              "    </tr>\n",
              "    <tr>\n",
              "      <th>99336</th>\n",
              "      <td>Credit card or prepaid card</td>\n",
              "      <td>On XX/XX/2019, I paid {$60.00} for 18 holes of...</td>\n",
              "    </tr>\n",
              "    <tr>\n",
              "      <th>692927</th>\n",
              "      <td>Credit card or prepaid card</td>\n",
              "      <td>CitiBank sent a 1099 to the IRS for an alleged...</td>\n",
              "    </tr>\n",
              "    <tr>\n",
              "      <th>152177</th>\n",
              "      <td>Credit card or prepaid card</td>\n",
              "      <td>A bad actor used our stolen identities to obta...</td>\n",
              "    </tr>\n",
              "    <tr>\n",
              "      <th>...</th>\n",
              "      <td>...</td>\n",
              "      <td>...</td>\n",
              "    </tr>\n",
              "    <tr>\n",
              "      <th>256367</th>\n",
              "      <td>Credit card or prepaid card</td>\n",
              "      <td>I applied for the Credit card in XXXX got appr...</td>\n",
              "    </tr>\n",
              "    <tr>\n",
              "      <th>1898367</th>\n",
              "      <td>Credit card or prepaid card</td>\n",
              "      <td>Hello, BB &amp; T has refused to engage in adequat...</td>\n",
              "    </tr>\n",
              "    <tr>\n",
              "      <th>1894205</th>\n",
              "      <td>Credit card or prepaid card</td>\n",
              "      <td>I called the customer service number XXXX XXXX...</td>\n",
              "    </tr>\n",
              "    <tr>\n",
              "      <th>906490</th>\n",
              "      <td>Credit card or prepaid card</td>\n",
              "      <td>I received an email for 0 % interest on balanc...</td>\n",
              "    </tr>\n",
              "    <tr>\n",
              "      <th>223459</th>\n",
              "      <td>Credit card or prepaid card</td>\n",
              "      <td>Capital One Bank has been 3 months on changing...</td>\n",
              "    </tr>\n",
              "  </tbody>\n",
              "</table>\n",
              "<p>119 rows × 2 columns</p>\n",
              "</div>"
            ],
            "text/plain": [
              "                               Product                       Consumer_complaint_narrative\n",
              "4 1837035  Credit card or prepaid card  I was interested in applying for the Chase XXX...\n",
              "  219257   Credit card or prepaid card  today XX/XX/20 I've wasted over 5 hours ( 2 on...\n",
              "  99336    Credit card or prepaid card  On XX/XX/2019, I paid {$60.00} for 18 holes of...\n",
              "  692927   Credit card or prepaid card  CitiBank sent a 1099 to the IRS for an alleged...\n",
              "  152177   Credit card or prepaid card  A bad actor used our stolen identities to obta...\n",
              "...                                ...                                                ...\n",
              "  256367   Credit card or prepaid card  I applied for the Credit card in XXXX got appr...\n",
              "  1898367  Credit card or prepaid card  Hello, BB & T has refused to engage in adequat...\n",
              "  1894205  Credit card or prepaid card  I called the customer service number XXXX XXXX...\n",
              "  906490   Credit card or prepaid card  I received an email for 0 % interest on balanc...\n",
              "  223459   Credit card or prepaid card  Capital One Bank has been 3 months on changing...\n",
              "\n",
              "[119 rows x 2 columns]"
            ]
          },
          "metadata": {
            "tags": []
          }
        },
        {
          "output_type": "stream",
          "text": [
            "\n",
            "'Payday loan, title loan, or personal loan' predicted as 'Payday loan' : 109 examples.\n"
          ],
          "name": "stdout"
        },
        {
          "output_type": "display_data",
          "data": {
            "text/html": [
              "<div>\n",
              "<style scoped>\n",
              "    .dataframe tbody tr th:only-of-type {\n",
              "        vertical-align: middle;\n",
              "    }\n",
              "\n",
              "    .dataframe tbody tr th {\n",
              "        vertical-align: top;\n",
              "    }\n",
              "\n",
              "    .dataframe thead th {\n",
              "        text-align: right;\n",
              "    }\n",
              "</style>\n",
              "<table border=\"1\" class=\"dataframe\">\n",
              "  <thead>\n",
              "    <tr style=\"text-align: right;\">\n",
              "      <th></th>\n",
              "      <th></th>\n",
              "      <th>Product</th>\n",
              "      <th>Consumer_complaint_narrative</th>\n",
              "    </tr>\n",
              "  </thead>\n",
              "  <tbody>\n",
              "    <tr>\n",
              "      <th rowspan=\"11\" valign=\"top\">13</th>\n",
              "      <th>1781870</th>\n",
              "      <td>Payday loan, title loan, or personal loan</td>\n",
              "      <td>I have a loan with Mobiloans LLC which I have ...</td>\n",
              "    </tr>\n",
              "    <tr>\n",
              "      <th>77077</th>\n",
              "      <td>Payday loan, title loan, or personal loan</td>\n",
              "      <td>A Payday Loan Company Money 4 you in XXXX, Uta...</td>\n",
              "    </tr>\n",
              "    <tr>\n",
              "      <th>1900297</th>\n",
              "      <td>Payday loan, title loan, or personal loan</td>\n",
              "      <td>Borrowed {$1000.00} from Big Picture Loans and...</td>\n",
              "    </tr>\n",
              "    <tr>\n",
              "      <th>593496</th>\n",
              "      <td>Payday loan, title loan, or personal loan</td>\n",
              "      <td>My loan was sent to court through XXXX county ...</td>\n",
              "    </tr>\n",
              "    <tr>\n",
              "      <th>788525</th>\n",
              "      <td>Payday loan, title loan, or personal loan</td>\n",
              "      <td>Got Loan fr om company on approximately  XXXX ...</td>\n",
              "    </tr>\n",
              "    <tr>\n",
              "      <th>...</th>\n",
              "      <td>...</td>\n",
              "      <td>...</td>\n",
              "    </tr>\n",
              "    <tr>\n",
              "      <th>861910</th>\n",
              "      <td>Payday loan, title loan, or personal loan</td>\n",
              "      <td>I contacted Cash Central via Telephone Calls, ...</td>\n",
              "    </tr>\n",
              "    <tr>\n",
              "      <th>298685</th>\n",
              "      <td>Payday loan, title loan, or personal loan</td>\n",
              "      <td>I received a letter dated XX/XX/XXXX that says...</td>\n",
              "    </tr>\n",
              "    <tr>\n",
              "      <th>834112</th>\n",
              "      <td>Payday loan, title loan, or personal loan</td>\n",
              "      <td>You contacted them and they said the date of t...</td>\n",
              "    </tr>\n",
              "    <tr>\n",
              "      <th>782050</th>\n",
              "      <td>Payday loan, title loan, or personal loan</td>\n",
              "      <td>My customer number is XXXX. I requested a XXXX...</td>\n",
              "    </tr>\n",
              "    <tr>\n",
              "      <th>252573</th>\n",
              "      <td>Payday loan, title loan, or personal loan</td>\n",
              "      <td>i signed up with quickbridge they are a cash a...</td>\n",
              "    </tr>\n",
              "  </tbody>\n",
              "</table>\n",
              "<p>109 rows × 2 columns</p>\n",
              "</div>"
            ],
            "text/plain": [
              "                                              Product                       Consumer_complaint_narrative\n",
              "13 1781870  Payday loan, title loan, or personal loan  I have a loan with Mobiloans LLC which I have ...\n",
              "   77077    Payday loan, title loan, or personal loan  A Payday Loan Company Money 4 you in XXXX, Uta...\n",
              "   1900297  Payday loan, title loan, or personal loan  Borrowed {$1000.00} from Big Picture Loans and...\n",
              "   593496   Payday loan, title loan, or personal loan  My loan was sent to court through XXXX county ...\n",
              "   788525   Payday loan, title loan, or personal loan  Got Loan fr om company on approximately  XXXX ...\n",
              "...                                               ...                                                ...\n",
              "   861910   Payday loan, title loan, or personal loan  I contacted Cash Central via Telephone Calls, ...\n",
              "   298685   Payday loan, title loan, or personal loan  I received a letter dated XX/XX/XXXX that says...\n",
              "   834112   Payday loan, title loan, or personal loan  You contacted them and they said the date of t...\n",
              "   782050   Payday loan, title loan, or personal loan  My customer number is XXXX. I requested a XXXX...\n",
              "   252573   Payday loan, title loan, or personal loan  i signed up with quickbridge they are a cash a...\n",
              "\n",
              "[109 rows x 2 columns]"
            ]
          },
          "metadata": {
            "tags": []
          }
        },
        {
          "output_type": "stream",
          "text": [
            "\n",
            "'Checking or savings account' predicted as 'Bank account or service' : 101 examples.\n"
          ],
          "name": "stdout"
        },
        {
          "output_type": "display_data",
          "data": {
            "text/html": [
              "<div>\n",
              "<style scoped>\n",
              "    .dataframe tbody tr th:only-of-type {\n",
              "        vertical-align: middle;\n",
              "    }\n",
              "\n",
              "    .dataframe tbody tr th {\n",
              "        vertical-align: top;\n",
              "    }\n",
              "\n",
              "    .dataframe thead th {\n",
              "        text-align: right;\n",
              "    }\n",
              "</style>\n",
              "<table border=\"1\" class=\"dataframe\">\n",
              "  <thead>\n",
              "    <tr style=\"text-align: right;\">\n",
              "      <th></th>\n",
              "      <th></th>\n",
              "      <th>Product</th>\n",
              "      <th>Consumer_complaint_narrative</th>\n",
              "    </tr>\n",
              "  </thead>\n",
              "  <tbody>\n",
              "    <tr>\n",
              "      <th rowspan=\"11\" valign=\"top\">1</th>\n",
              "      <th>470769</th>\n",
              "      <td>Checking or savings account</td>\n",
              "      <td>I opened 2 Trust Checking Accounts about 4 mon...</td>\n",
              "    </tr>\n",
              "    <tr>\n",
              "      <th>495606</th>\n",
              "      <td>Checking or savings account</td>\n",
              "      <td>I made the mistake of helping a gentleman that...</td>\n",
              "    </tr>\n",
              "    <tr>\n",
              "      <th>799462</th>\n",
              "      <td>Checking or savings account</td>\n",
              "      <td>I created a checking account on  XXXX / XXXX /...</td>\n",
              "    </tr>\n",
              "    <tr>\n",
              "      <th>1962462</th>\n",
              "      <td>Checking or savings account</td>\n",
              "      <td>My checking account was accessed fraudulently ...</td>\n",
              "    </tr>\n",
              "    <tr>\n",
              "      <th>554438</th>\n",
              "      <td>Checking or savings account</td>\n",
              "      <td>I made two payments from my checking account w...</td>\n",
              "    </tr>\n",
              "    <tr>\n",
              "      <th>...</th>\n",
              "      <td>...</td>\n",
              "      <td>...</td>\n",
              "    </tr>\n",
              "    <tr>\n",
              "      <th>804607</th>\n",
              "      <td>Checking or savings account</td>\n",
              "      <td>I have a checking account with key bank. They ...</td>\n",
              "    </tr>\n",
              "    <tr>\n",
              "      <th>884874</th>\n",
              "      <td>Checking or savings account</td>\n",
              "      <td>The whole crux of the matter is this : I was c...</td>\n",
              "    </tr>\n",
              "    <tr>\n",
              "      <th>933084</th>\n",
              "      <td>Checking or savings account</td>\n",
              "      <td>A collections attorney has frozen funds in my ...</td>\n",
              "    </tr>\n",
              "    <tr>\n",
              "      <th>1870569</th>\n",
              "      <td>Checking or savings account</td>\n",
              "      <td>I have called Wells Fargo multiple times and h...</td>\n",
              "    </tr>\n",
              "    <tr>\n",
              "      <th>698213</th>\n",
              "      <td>Checking or savings account</td>\n",
              "      <td>I have been able to resolve my 2 CD issues how...</td>\n",
              "    </tr>\n",
              "  </tbody>\n",
              "</table>\n",
              "<p>101 rows × 2 columns</p>\n",
              "</div>"
            ],
            "text/plain": [
              "                               Product                       Consumer_complaint_narrative\n",
              "1 470769   Checking or savings account  I opened 2 Trust Checking Accounts about 4 mon...\n",
              "  495606   Checking or savings account  I made the mistake of helping a gentleman that...\n",
              "  799462   Checking or savings account  I created a checking account on  XXXX / XXXX /...\n",
              "  1962462  Checking or savings account  My checking account was accessed fraudulently ...\n",
              "  554438   Checking or savings account  I made two payments from my checking account w...\n",
              "...                                ...                                                ...\n",
              "  804607   Checking or savings account  I have a checking account with key bank. They ...\n",
              "  884874   Checking or savings account  The whole crux of the matter is this : I was c...\n",
              "  933084   Checking or savings account  A collections attorney has frozen funds in my ...\n",
              "  1870569  Checking or savings account  I have called Wells Fargo multiple times and h...\n",
              "  698213   Checking or savings account  I have been able to resolve my 2 CD issues how...\n",
              "\n",
              "[101 rows x 2 columns]"
            ]
          },
          "metadata": {
            "tags": []
          }
        },
        {
          "output_type": "stream",
          "text": [
            "\n",
            "'Credit reporting, credit repair services, or other personal consumer reports' predicted as 'Credit reporting' : 108 examples.\n"
          ],
          "name": "stdout"
        },
        {
          "output_type": "display_data",
          "data": {
            "text/html": [
              "<div>\n",
              "<style scoped>\n",
              "    .dataframe tbody tr th:only-of-type {\n",
              "        vertical-align: middle;\n",
              "    }\n",
              "\n",
              "    .dataframe tbody tr th {\n",
              "        vertical-align: top;\n",
              "    }\n",
              "\n",
              "    .dataframe thead th {\n",
              "        text-align: right;\n",
              "    }\n",
              "</style>\n",
              "<table border=\"1\" class=\"dataframe\">\n",
              "  <thead>\n",
              "    <tr style=\"text-align: right;\">\n",
              "      <th></th>\n",
              "      <th></th>\n",
              "      <th>Product</th>\n",
              "      <th>Consumer_complaint_narrative</th>\n",
              "    </tr>\n",
              "  </thead>\n",
              "  <tbody>\n",
              "    <tr>\n",
              "      <th rowspan=\"11\" valign=\"top\">6</th>\n",
              "      <th>1813768</th>\n",
              "      <td>Credit reporting, credit repair services, or o...</td>\n",
              "      <td>I have requested my credit report since  XXXX ...</td>\n",
              "    </tr>\n",
              "    <tr>\n",
              "      <th>1188</th>\n",
              "      <td>Credit reporting, credit repair services, or o...</td>\n",
              "      <td>On XX/XX/2019 I started the process to buy me ...</td>\n",
              "    </tr>\n",
              "    <tr>\n",
              "      <th>991924</th>\n",
              "      <td>Credit reporting, credit repair services, or o...</td>\n",
              "      <td>Transunion is the only credit bureau that is r...</td>\n",
              "    </tr>\n",
              "    <tr>\n",
              "      <th>113888</th>\n",
              "      <td>Credit reporting, credit repair services, or o...</td>\n",
              "      <td>XXXX XXXX # XXXX is in collection status on my...</td>\n",
              "    </tr>\n",
              "    <tr>\n",
              "      <th>702380</th>\n",
              "      <td>Credit reporting, credit repair services, or o...</td>\n",
              "      <td>I have tried on two different occasions in XXX...</td>\n",
              "    </tr>\n",
              "    <tr>\n",
              "      <th>...</th>\n",
              "      <td>...</td>\n",
              "      <td>...</td>\n",
              "    </tr>\n",
              "    <tr>\n",
              "      <th>1984919</th>\n",
              "      <td>Credit reporting, credit repair services, or o...</td>\n",
              "      <td>On XX/XX/18 I obtained by Equifax credit repor...</td>\n",
              "    </tr>\n",
              "    <tr>\n",
              "      <th>347913</th>\n",
              "      <td>Credit reporting, credit repair services, or o...</td>\n",
              "      <td>I applied for a new phone with XXXX. They came...</td>\n",
              "    </tr>\n",
              "    <tr>\n",
              "      <th>866390</th>\n",
              "      <td>Credit reporting, credit repair services, or o...</td>\n",
              "      <td>I have filed multiple complaints against XXXX ...</td>\n",
              "    </tr>\n",
              "    <tr>\n",
              "      <th>992781</th>\n",
              "      <td>Credit reporting, credit repair services, or o...</td>\n",
              "      <td>have been trying to get negative items removed...</td>\n",
              "    </tr>\n",
              "    <tr>\n",
              "      <th>506889</th>\n",
              "      <td>Credit reporting, credit repair services, or o...</td>\n",
              "      <td>THEY HAVE NOT ADDRESSED THE FACT THAT THEIR IN...</td>\n",
              "    </tr>\n",
              "  </tbody>\n",
              "</table>\n",
              "<p>108 rows × 2 columns</p>\n",
              "</div>"
            ],
            "text/plain": [
              "                                                     Product                       Consumer_complaint_narrative\n",
              "6 1813768  Credit reporting, credit repair services, or o...  I have requested my credit report since  XXXX ...\n",
              "  1188     Credit reporting, credit repair services, or o...  On XX/XX/2019 I started the process to buy me ...\n",
              "  991924   Credit reporting, credit repair services, or o...  Transunion is the only credit bureau that is r...\n",
              "  113888   Credit reporting, credit repair services, or o...  XXXX XXXX # XXXX is in collection status on my...\n",
              "  702380   Credit reporting, credit repair services, or o...  I have tried on two different occasions in XXX...\n",
              "...                                                      ...                                                ...\n",
              "  1984919  Credit reporting, credit repair services, or o...  On XX/XX/18 I obtained by Equifax credit repor...\n",
              "  347913   Credit reporting, credit repair services, or o...  I applied for a new phone with XXXX. They came...\n",
              "  866390   Credit reporting, credit repair services, or o...  I have filed multiple complaints against XXXX ...\n",
              "  992781   Credit reporting, credit repair services, or o...  have been trying to get negative items removed...\n",
              "  506889   Credit reporting, credit repair services, or o...  THEY HAVE NOT ADDRESSED THE FACT THAT THEIR IN...\n",
              "\n",
              "[108 rows x 2 columns]"
            ]
          },
          "metadata": {
            "tags": []
          }
        },
        {
          "output_type": "stream",
          "text": [
            "\n",
            "'Money transfer, virtual currency, or money service' predicted as 'Money transfers' : 102 examples.\n"
          ],
          "name": "stdout"
        },
        {
          "output_type": "display_data",
          "data": {
            "text/html": [
              "<div>\n",
              "<style scoped>\n",
              "    .dataframe tbody tr th:only-of-type {\n",
              "        vertical-align: middle;\n",
              "    }\n",
              "\n",
              "    .dataframe tbody tr th {\n",
              "        vertical-align: top;\n",
              "    }\n",
              "\n",
              "    .dataframe thead th {\n",
              "        text-align: right;\n",
              "    }\n",
              "</style>\n",
              "<table border=\"1\" class=\"dataframe\">\n",
              "  <thead>\n",
              "    <tr style=\"text-align: right;\">\n",
              "      <th></th>\n",
              "      <th></th>\n",
              "      <th>Product</th>\n",
              "      <th>Consumer_complaint_narrative</th>\n",
              "    </tr>\n",
              "  </thead>\n",
              "  <tbody>\n",
              "    <tr>\n",
              "      <th rowspan=\"11\" valign=\"top\">8</th>\n",
              "      <th>641184</th>\n",
              "      <td>Money transfer, virtual currency, or money ser...</td>\n",
              "      <td>I use M &amp; T bank. I get scammed recently by so...</td>\n",
              "    </tr>\n",
              "    <tr>\n",
              "      <th>1003069</th>\n",
              "      <td>Money transfer, virtual currency, or money ser...</td>\n",
              "      <td>I purchased item on XXXX that has been scam. X...</td>\n",
              "    </tr>\n",
              "    <tr>\n",
              "      <th>1900180</th>\n",
              "      <td>Money transfer, virtual currency, or money ser...</td>\n",
              "      <td>Paypal is a money transmitter. I have used Pay...</td>\n",
              "    </tr>\n",
              "    <tr>\n",
              "      <th>645245</th>\n",
              "      <td>Money transfer, virtual currency, or money ser...</td>\n",
              "      <td>My complaint is simple. PayPal has no customer...</td>\n",
              "    </tr>\n",
              "    <tr>\n",
              "      <th>157904</th>\n",
              "      <td>Money transfer, virtual currency, or money ser...</td>\n",
              "      <td>On Monday XX/XX/XXXX I negotiated a vacation r...</td>\n",
              "    </tr>\n",
              "    <tr>\n",
              "      <th>...</th>\n",
              "      <td>...</td>\n",
              "      <td>...</td>\n",
              "    </tr>\n",
              "    <tr>\n",
              "      <th>151709</th>\n",
              "      <td>Money transfer, virtual currency, or money ser...</td>\n",
              "      <td>Western Union repeatedly uses exchange rates f...</td>\n",
              "    </tr>\n",
              "    <tr>\n",
              "      <th>1966705</th>\n",
              "      <td>Money transfer, virtual currency, or money ser...</td>\n",
              "      <td>I won a sneaker contests on XXXX for the XXXX ...</td>\n",
              "    </tr>\n",
              "    <tr>\n",
              "      <th>821314</th>\n",
              "      <td>Money transfer, virtual currency, or money ser...</td>\n",
              "      <td>My complaint is about Venmo, the person-to-per...</td>\n",
              "    </tr>\n",
              "    <tr>\n",
              "      <th>929938</th>\n",
              "      <td>Money transfer, virtual currency, or money ser...</td>\n",
              "      <td>I went to a local grocery store to wire transf...</td>\n",
              "    </tr>\n",
              "    <tr>\n",
              "      <th>823651</th>\n",
              "      <td>Money transfer, virtual currency, or money ser...</td>\n",
              "      <td>I wired money to XXXX. Through western union a...</td>\n",
              "    </tr>\n",
              "  </tbody>\n",
              "</table>\n",
              "<p>102 rows × 2 columns</p>\n",
              "</div>"
            ],
            "text/plain": [
              "                                                     Product                       Consumer_complaint_narrative\n",
              "8 641184   Money transfer, virtual currency, or money ser...  I use M & T bank. I get scammed recently by so...\n",
              "  1003069  Money transfer, virtual currency, or money ser...  I purchased item on XXXX that has been scam. X...\n",
              "  1900180  Money transfer, virtual currency, or money ser...  Paypal is a money transmitter. I have used Pay...\n",
              "  645245   Money transfer, virtual currency, or money ser...  My complaint is simple. PayPal has no customer...\n",
              "  157904   Money transfer, virtual currency, or money ser...  On Monday XX/XX/XXXX I negotiated a vacation r...\n",
              "...                                                      ...                                                ...\n",
              "  151709   Money transfer, virtual currency, or money ser...  Western Union repeatedly uses exchange rates f...\n",
              "  1966705  Money transfer, virtual currency, or money ser...  I won a sneaker contests on XXXX for the XXXX ...\n",
              "  821314   Money transfer, virtual currency, or money ser...  My complaint is about Venmo, the person-to-per...\n",
              "  929938   Money transfer, virtual currency, or money ser...  I went to a local grocery store to wire transf...\n",
              "  823651   Money transfer, virtual currency, or money ser...  I wired money to XXXX. Through western union a...\n",
              "\n",
              "[102 rows x 2 columns]"
            ]
          },
          "metadata": {
            "tags": []
          }
        },
        {
          "output_type": "stream",
          "text": [
            "\n"
          ],
          "name": "stdout"
        }
      ]
    },
    {
      "cell_type": "code",
      "metadata": {
        "id": "iVimmwSfdoNM",
        "colab": {
          "base_uri": "https://localhost:8080/"
        },
        "outputId": "f62962e3-f196-4159-8350-3085923d4f09"
      },
      "source": [
        "model.fit(features, labels)"
      ],
      "execution_count": 45,
      "outputs": [
        {
          "output_type": "execute_result",
          "data": {
            "text/plain": [
              "LinearSVC(C=1.0, class_weight=None, dual=True, fit_intercept=True,\n",
              "          intercept_scaling=1, loss='squared_hinge', max_iter=1000,\n",
              "          multi_class='ovr', penalty='l2', random_state=None, tol=0.0001,\n",
              "          verbose=0)"
            ]
          },
          "metadata": {
            "tags": []
          },
          "execution_count": 45
        }
      ]
    },
    {
      "cell_type": "code",
      "metadata": {
        "id": "mzFnfelzdoNN",
        "scrolled": false
      },
      "source": [
        "from sklearn.feature_selection import chi2\n",
        "\n",
        "N = 2\n",
        "df_feat = pd.DataFrame(columns=['Product', 'Unigrams', 'Bigrams'])\n",
        "\n",
        "for product, category_id in sorted(category_to_id.items()):\n",
        "  indices = np.argsort(model.coef_[category_id])\n",
        "  feature_names = np.array(tfidf.get_feature_names())[indices]\n",
        "\n",
        "  unigrams = [v for v in reversed(feature_names) if len(v.split(' ')) == 1][:N]\n",
        "  bigrams = [v for v in reversed(feature_names) if len(v.split(' ')) == 2][:N]\n",
        "\n",
        "  # Top N most correlated unigrams and bigrams for each category\n",
        "  df_cat = pd.DataFrame(index=range(N), columns=['Product', 'Unigrams', 'Bigrams'])\n",
        "  df_cat['Product'] = product\n",
        "  df_cat['Unigrams'] = unigrams[-N:]\n",
        "  df_cat['Bigrams'] = bigrams[-N:]\n",
        "\n",
        "  df_feat = pd.concat([df_feat, df_cat], axis=0, ignore_index=True)"
      ],
      "execution_count": 46,
      "outputs": []
    },
    {
      "cell_type": "code",
      "metadata": {
        "colab": {
          "base_uri": "https://localhost:8080/",
          "height": 969
        },
        "id": "YGKrGDjkk_xf",
        "outputId": "6d1e136b-b72c-4b34-ac07-aa8db9acccae"
      },
      "source": [
        "df_feat.head(30)"
      ],
      "execution_count": 47,
      "outputs": [
        {
          "output_type": "execute_result",
          "data": {
            "text/html": [
              "<div>\n",
              "<style scoped>\n",
              "    .dataframe tbody tr th:only-of-type {\n",
              "        vertical-align: middle;\n",
              "    }\n",
              "\n",
              "    .dataframe tbody tr th {\n",
              "        vertical-align: top;\n",
              "    }\n",
              "\n",
              "    .dataframe thead th {\n",
              "        text-align: right;\n",
              "    }\n",
              "</style>\n",
              "<table border=\"1\" class=\"dataframe\">\n",
              "  <thead>\n",
              "    <tr style=\"text-align: right;\">\n",
              "      <th></th>\n",
              "      <th>Product</th>\n",
              "      <th>Unigrams</th>\n",
              "      <th>Bigrams</th>\n",
              "    </tr>\n",
              "  </thead>\n",
              "  <tbody>\n",
              "    <tr>\n",
              "      <th>0</th>\n",
              "      <td>Bank account or service</td>\n",
              "      <td>bank</td>\n",
              "      <td>xx 2016</td>\n",
              "    </tr>\n",
              "    <tr>\n",
              "      <th>1</th>\n",
              "      <td>Bank account or service</td>\n",
              "      <td>scottrade</td>\n",
              "      <td>joint account</td>\n",
              "    </tr>\n",
              "    <tr>\n",
              "      <th>2</th>\n",
              "      <td>Checking or savings account</td>\n",
              "      <td>bank</td>\n",
              "      <td>rights process</td>\n",
              "    </tr>\n",
              "    <tr>\n",
              "      <th>3</th>\n",
              "      <td>Checking or savings account</td>\n",
              "      <td>branch</td>\n",
              "      <td>deposited checks</td>\n",
              "    </tr>\n",
              "    <tr>\n",
              "      <th>4</th>\n",
              "      <td>Consumer Loan</td>\n",
              "      <td>car</td>\n",
              "      <td>drive time</td>\n",
              "    </tr>\n",
              "    <tr>\n",
              "      <th>5</th>\n",
              "      <td>Consumer Loan</td>\n",
              "      <td>vehicle</td>\n",
              "      <td>inquire credit</td>\n",
              "    </tr>\n",
              "    <tr>\n",
              "      <th>6</th>\n",
              "      <td>Credit card</td>\n",
              "      <td>card</td>\n",
              "      <td>credit card</td>\n",
              "    </tr>\n",
              "    <tr>\n",
              "      <th>7</th>\n",
              "      <td>Credit card</td>\n",
              "      <td>discover</td>\n",
              "      <td>balance transfer</td>\n",
              "    </tr>\n",
              "    <tr>\n",
              "      <th>8</th>\n",
              "      <td>Credit card or prepaid card</td>\n",
              "      <td>card</td>\n",
              "      <td>capital reporting</td>\n",
              "    </tr>\n",
              "    <tr>\n",
              "      <th>9</th>\n",
              "      <td>Credit card or prepaid card</td>\n",
              "      <td>barclays</td>\n",
              "      <td>want close</td>\n",
              "    </tr>\n",
              "    <tr>\n",
              "      <th>10</th>\n",
              "      <td>Credit reporting</td>\n",
              "      <td>equifax</td>\n",
              "      <td>xxxx bank</td>\n",
              "    </tr>\n",
              "    <tr>\n",
              "      <th>11</th>\n",
              "      <td>Credit reporting</td>\n",
              "      <td>experian</td>\n",
              "      <td>xxxx accounts</td>\n",
              "    </tr>\n",
              "    <tr>\n",
              "      <th>12</th>\n",
              "      <td>Credit reporting, credit repair services, or o...</td>\n",
              "      <td>accounts</td>\n",
              "      <td>xxxx xxxx</td>\n",
              "    </tr>\n",
              "    <tr>\n",
              "      <th>13</th>\n",
              "      <td>Credit reporting, credit repair services, or o...</td>\n",
              "      <td>freeze</td>\n",
              "      <td>experian xxxx</td>\n",
              "    </tr>\n",
              "    <tr>\n",
              "      <th>14</th>\n",
              "      <td>Debt collection</td>\n",
              "      <td>debt</td>\n",
              "      <td>recognize account</td>\n",
              "    </tr>\n",
              "    <tr>\n",
              "      <th>15</th>\n",
              "      <td>Debt collection</td>\n",
              "      <td>collection</td>\n",
              "      <td>need removed</td>\n",
              "    </tr>\n",
              "    <tr>\n",
              "      <th>16</th>\n",
              "      <td>Money transfer, virtual currency, or money ser...</td>\n",
              "      <td>coinbase</td>\n",
              "      <td>cash app</td>\n",
              "    </tr>\n",
              "    <tr>\n",
              "      <th>17</th>\n",
              "      <td>Money transfer, virtual currency, or money ser...</td>\n",
              "      <td>cashapp</td>\n",
              "      <td>using xxxx</td>\n",
              "    </tr>\n",
              "    <tr>\n",
              "      <th>18</th>\n",
              "      <td>Money transfers</td>\n",
              "      <td>moneygram</td>\n",
              "      <td>xx 2016</td>\n",
              "    </tr>\n",
              "    <tr>\n",
              "      <th>19</th>\n",
              "      <td>Money transfers</td>\n",
              "      <td>paypal</td>\n",
              "      <td>money gram</td>\n",
              "    </tr>\n",
              "    <tr>\n",
              "      <th>20</th>\n",
              "      <td>Mortgage</td>\n",
              "      <td>mortgage</td>\n",
              "      <td>mr cooper</td>\n",
              "    </tr>\n",
              "    <tr>\n",
              "      <th>21</th>\n",
              "      <td>Mortgage</td>\n",
              "      <td>modification</td>\n",
              "      <td>mortgage payment</td>\n",
              "    </tr>\n",
              "    <tr>\n",
              "      <th>22</th>\n",
              "      <td>Other financial service</td>\n",
              "      <td>lexington</td>\n",
              "      <td>lexington law</td>\n",
              "    </tr>\n",
              "    <tr>\n",
              "      <th>23</th>\n",
              "      <td>Other financial service</td>\n",
              "      <td>certegy</td>\n",
              "      <td>money order</td>\n",
              "    </tr>\n",
              "    <tr>\n",
              "      <th>24</th>\n",
              "      <td>Payday loan</td>\n",
              "      <td>lender</td>\n",
              "      <td>applied loan</td>\n",
              "    </tr>\n",
              "    <tr>\n",
              "      <th>25</th>\n",
              "      <td>Payday loan</td>\n",
              "      <td>payday</td>\n",
              "      <td>payday loan</td>\n",
              "    </tr>\n",
              "    <tr>\n",
              "      <th>26</th>\n",
              "      <td>Payday loan, title loan, or personal loan</td>\n",
              "      <td>loan</td>\n",
              "      <td>personal loan</td>\n",
              "    </tr>\n",
              "    <tr>\n",
              "      <th>27</th>\n",
              "      <td>Payday loan, title loan, or personal loan</td>\n",
              "      <td>personal</td>\n",
              "      <td>title loan</td>\n",
              "    </tr>\n",
              "    <tr>\n",
              "      <th>28</th>\n",
              "      <td>Prepaid card</td>\n",
              "      <td>rushcard</td>\n",
              "      <td>pre paid</td>\n",
              "    </tr>\n",
              "    <tr>\n",
              "      <th>29</th>\n",
              "      <td>Prepaid card</td>\n",
              "      <td>prepaid</td>\n",
              "      <td>rush card</td>\n",
              "    </tr>\n",
              "  </tbody>\n",
              "</table>\n",
              "</div>"
            ],
            "text/plain": [
              "                                              Product  ...            Bigrams\n",
              "0                             Bank account or service  ...            xx 2016\n",
              "1                             Bank account or service  ...      joint account\n",
              "2                         Checking or savings account  ...     rights process\n",
              "3                         Checking or savings account  ...   deposited checks\n",
              "4                                       Consumer Loan  ...         drive time\n",
              "5                                       Consumer Loan  ...     inquire credit\n",
              "6                                         Credit card  ...        credit card\n",
              "7                                         Credit card  ...   balance transfer\n",
              "8                         Credit card or prepaid card  ...  capital reporting\n",
              "9                         Credit card or prepaid card  ...         want close\n",
              "10                                   Credit reporting  ...          xxxx bank\n",
              "11                                   Credit reporting  ...      xxxx accounts\n",
              "12  Credit reporting, credit repair services, or o...  ...          xxxx xxxx\n",
              "13  Credit reporting, credit repair services, or o...  ...      experian xxxx\n",
              "14                                    Debt collection  ...  recognize account\n",
              "15                                    Debt collection  ...       need removed\n",
              "16  Money transfer, virtual currency, or money ser...  ...           cash app\n",
              "17  Money transfer, virtual currency, or money ser...  ...         using xxxx\n",
              "18                                    Money transfers  ...            xx 2016\n",
              "19                                    Money transfers  ...         money gram\n",
              "20                                           Mortgage  ...          mr cooper\n",
              "21                                           Mortgage  ...   mortgage payment\n",
              "22                            Other financial service  ...      lexington law\n",
              "23                            Other financial service  ...        money order\n",
              "24                                        Payday loan  ...       applied loan\n",
              "25                                        Payday loan  ...        payday loan\n",
              "26          Payday loan, title loan, or personal loan  ...      personal loan\n",
              "27          Payday loan, title loan, or personal loan  ...         title loan\n",
              "28                                       Prepaid card  ...           pre paid\n",
              "29                                       Prepaid card  ...          rush card\n",
              "\n",
              "[30 rows x 3 columns]"
            ]
          },
          "metadata": {
            "tags": []
          },
          "execution_count": 47
        }
      ]
    },
    {
      "cell_type": "code",
      "metadata": {
        "id": "sQCbK0wBdoNO",
        "colab": {
          "base_uri": "https://localhost:8080/"
        },
        "outputId": "e49570f3-c358-4818-9e00-775ee493d892"
      },
      "source": [
        "texts = [\"I requested a home loan modification through Bank of America. Bank of America never got back to me.\",\n",
        "         \"It has been difficult for me to find my past due balance. I missed a regular monthly payment\",\n",
        "         \"I can't get the money out of the country.\",\n",
        "         \"I have no money to pay my tuition\",\n",
        "         \"Coinbase closed my account for no reason and furthermore refused to give me a reason despite dozens of request\"]\n",
        "\n",
        "text_features = tfidf.transform(texts)\n",
        "predictions = model.predict(text_features)\n",
        "\n",
        "for text, predicted in zip(texts, predictions):\n",
        "  print('\"{}\"'.format(text))\n",
        "  print(\"  - Predicted as: '{}'\".format(id_to_category[predicted]))\n",
        "  print(\"\")"
      ],
      "execution_count": 48,
      "outputs": [
        {
          "output_type": "stream",
          "text": [
            "\"I requested a home loan modification through Bank of America. Bank of America never got back to me.\"\n",
            "  - Predicted as: 'Mortgage'\n",
            "\n",
            "\"It has been difficult for me to find my past due balance. I missed a regular monthly payment\"\n",
            "  - Predicted as: 'Student loan'\n",
            "\n",
            "\"I can't get the money out of the country.\"\n",
            "  - Predicted as: 'Money transfers'\n",
            "\n",
            "\"I have no money to pay my tuition\"\n",
            "  - Predicted as: 'Payday loan'\n",
            "\n",
            "\"Coinbase closed my account for no reason and furthermore refused to give me a reason despite dozens of request\"\n",
            "  - Predicted as: 'Money transfer, virtual currency, or money service'\n",
            "\n"
          ],
          "name": "stdout"
        }
      ]
    },
    {
      "cell_type": "code",
      "metadata": {
        "id": "e3Y2q4isdoNP",
        "colab": {
          "base_uri": "https://localhost:8080/"
        },
        "outputId": "b3eeb1db-5579-4c9f-dff8-8508b67058d0"
      },
      "source": [
        "from sklearn import metrics\n",
        "print(metrics.classification_report(y_test, y_pred, \n",
        "                                    target_names=df['Product'].unique()))"
      ],
      "execution_count": 49,
      "outputs": [
        {
          "output_type": "stream",
          "text": [
            "                                                                              precision    recall  f1-score   support\n",
            "\n",
            "                                                     Bank account or service       0.61      0.73      0.66       528\n",
            "                                                 Checking or savings account       0.61      0.54      0.57       519\n",
            "                                                               Consumer Loan       0.70      0.60      0.64       549\n",
            "                                                                 Credit card       0.82      0.90      0.86       521\n",
            "                                                 Credit card or prepaid card       0.59      0.65      0.62       530\n",
            "                                                            Credit reporting       0.84      0.87      0.85       519\n",
            "Credit reporting, credit repair services, or other personal consumer reports       0.56      0.51      0.53       519\n",
            "                                                             Debt collection       0.58      0.60      0.59       533\n",
            "                          Money transfer, virtual currency, or money service       0.57      0.62      0.60       533\n",
            "                                                             Money transfers       0.55      0.45      0.49       523\n",
            "                                                                    Mortgage       0.54      0.37      0.44       511\n",
            "                                                     Other financial service       0.64      0.76      0.70       505\n",
            "                                                                 Payday loan       0.56      0.53      0.55       549\n",
            "                                   Payday loan, title loan, or personal loan       0.64      0.66      0.65       527\n",
            "                                                                Prepaid card       0.59      0.21      0.31        97\n",
            "                                                                Student loan       0.67      0.81      0.73       507\n",
            "                                                       Vehicle loan or lease       0.83      0.88      0.85       490\n",
            "                                                            Virtual currency       1.00      0.29      0.44         7\n",
            "\n",
            "                                                                    accuracy                           0.65      8467\n",
            "                                                                   macro avg       0.66      0.61      0.62      8467\n",
            "                                                                weighted avg       0.64      0.65      0.64      8467\n",
            "\n"
          ],
          "name": "stdout"
        }
      ]
    },
    {
      "cell_type": "code",
      "metadata": {
        "colab": {
          "base_uri": "https://localhost:8080/"
        },
        "id": "-K-EFH1DgtfY",
        "outputId": "f972da8e-52c3-45b6-a321-73c6d3bcbb81"
      },
      "source": [
        "metrics.f1_score(y_test, y_pred, average='weighted')"
      ],
      "execution_count": 50,
      "outputs": [
        {
          "output_type": "execute_result",
          "data": {
            "text/plain": [
              "0.6411085363648058"
            ]
          },
          "metadata": {
            "tags": []
          },
          "execution_count": 50
        }
      ]
    }
  ]
}