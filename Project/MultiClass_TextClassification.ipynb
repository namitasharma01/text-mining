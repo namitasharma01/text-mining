{
  "nbformat": 4,
  "nbformat_minor": 0,
  "metadata": {
    "colab": {
      "name": "MultiClass_TextClassification.ipynb",
      "provenance": [],
      "collapsed_sections": [],
      "toc_visible": true
    },
    "kernelspec": {
      "display_name": "Python 3",
      "language": "python",
      "name": "python3"
    },
    "language_info": {
      "codemirror_mode": {
        "name": "ipython",
        "version": 3
      },
      "file_extension": ".py",
      "mimetype": "text/x-python",
      "name": "python",
      "nbconvert_exporter": "python",
      "pygments_lexer": "ipython3",
      "version": "3.7.6"
    },
    "accelerator": "GPU"
  },
  "cells": [
    {
      "cell_type": "code",
      "metadata": {
        "colab": {
          "base_uri": "https://localhost:8080/"
        },
        "id": "a2_rgQyUfTjv",
        "outputId": "beb77e83-76ba-4e1e-d754-9507a259326b"
      },
      "source": [
        "from google.colab import drive\n",
        "drive.mount('/content/drive')"
      ],
      "execution_count": 6,
      "outputs": [
        {
          "output_type": "stream",
          "text": [
            "Mounted at /content/drive\n"
          ],
          "name": "stdout"
        }
      ]
    },
    {
      "cell_type": "code",
      "metadata": {
        "colab": {
          "base_uri": "https://localhost:8080/",
          "height": 410
        },
        "id": "P3cPnh9sdoMb",
        "outputId": "d0f6474b-be67-4143-f96d-53a7a6b5cc24"
      },
      "source": [
        "import pandas as pd\n",
        "df = pd.read_csv('/content/drive/MyDrive/Colab Data/complaints.csv.zip')\n",
        "df.iloc[:,:10].head()"
      ],
      "execution_count": 7,
      "outputs": [
        {
          "output_type": "execute_result",
          "data": {
            "text/html": [
              "<div>\n",
              "<style scoped>\n",
              "    .dataframe tbody tr th:only-of-type {\n",
              "        vertical-align: middle;\n",
              "    }\n",
              "\n",
              "    .dataframe tbody tr th {\n",
              "        vertical-align: top;\n",
              "    }\n",
              "\n",
              "    .dataframe thead th {\n",
              "        text-align: right;\n",
              "    }\n",
              "</style>\n",
              "<table border=\"1\" class=\"dataframe\">\n",
              "  <thead>\n",
              "    <tr style=\"text-align: right;\">\n",
              "      <th></th>\n",
              "      <th>Date received</th>\n",
              "      <th>Product</th>\n",
              "      <th>Sub-product</th>\n",
              "      <th>Issue</th>\n",
              "      <th>Sub-issue</th>\n",
              "      <th>Consumer complaint narrative</th>\n",
              "      <th>Company public response</th>\n",
              "      <th>Company</th>\n",
              "      <th>State</th>\n",
              "      <th>ZIP code</th>\n",
              "    </tr>\n",
              "  </thead>\n",
              "  <tbody>\n",
              "    <tr>\n",
              "      <th>0</th>\n",
              "      <td>2019-09-24</td>\n",
              "      <td>Debt collection</td>\n",
              "      <td>I do not know</td>\n",
              "      <td>Attempts to collect debt not owed</td>\n",
              "      <td>Debt is not yours</td>\n",
              "      <td>transworld systems inc. \\nis trying to collect...</td>\n",
              "      <td>NaN</td>\n",
              "      <td>TRANSWORLD SYSTEMS INC</td>\n",
              "      <td>FL</td>\n",
              "      <td>335XX</td>\n",
              "    </tr>\n",
              "    <tr>\n",
              "      <th>1</th>\n",
              "      <td>2019-09-19</td>\n",
              "      <td>Credit reporting, credit repair services, or o...</td>\n",
              "      <td>Credit reporting</td>\n",
              "      <td>Incorrect information on your report</td>\n",
              "      <td>Information belongs to someone else</td>\n",
              "      <td>NaN</td>\n",
              "      <td>Company has responded to the consumer and the ...</td>\n",
              "      <td>Experian Information Solutions Inc.</td>\n",
              "      <td>PA</td>\n",
              "      <td>15206</td>\n",
              "    </tr>\n",
              "    <tr>\n",
              "      <th>2</th>\n",
              "      <td>2019-11-08</td>\n",
              "      <td>Debt collection</td>\n",
              "      <td>I do not know</td>\n",
              "      <td>Communication tactics</td>\n",
              "      <td>Frequent or repeated calls</td>\n",
              "      <td>Over the past 2 weeks, I have been receiving e...</td>\n",
              "      <td>NaN</td>\n",
              "      <td>Diversified Consultants, Inc.</td>\n",
              "      <td>NC</td>\n",
              "      <td>275XX</td>\n",
              "    </tr>\n",
              "    <tr>\n",
              "      <th>3</th>\n",
              "      <td>2019-09-15</td>\n",
              "      <td>Debt collection</td>\n",
              "      <td>Other debt</td>\n",
              "      <td>Attempts to collect debt not owed</td>\n",
              "      <td>Debt was result of identity theft</td>\n",
              "      <td>Pioneer has committed several federal violatio...</td>\n",
              "      <td>NaN</td>\n",
              "      <td>Pioneer Capital Solutions Inc</td>\n",
              "      <td>CA</td>\n",
              "      <td>925XX</td>\n",
              "    </tr>\n",
              "    <tr>\n",
              "      <th>4</th>\n",
              "      <td>2021-03-02</td>\n",
              "      <td>Credit reporting, credit repair services, or o...</td>\n",
              "      <td>Credit reporting</td>\n",
              "      <td>Incorrect information on your report</td>\n",
              "      <td>Information belongs to someone else</td>\n",
              "      <td>NaN</td>\n",
              "      <td>NaN</td>\n",
              "      <td>EQUIFAX, INC.</td>\n",
              "      <td>FL</td>\n",
              "      <td>33325</td>\n",
              "    </tr>\n",
              "  </tbody>\n",
              "</table>\n",
              "</div>"
            ],
            "text/plain": [
              "  Date received  ... ZIP code\n",
              "0    2019-09-24  ...    335XX\n",
              "1    2019-09-19  ...    15206\n",
              "2    2019-11-08  ...    275XX\n",
              "3    2019-09-15  ...    925XX\n",
              "4    2021-03-02  ...    33325\n",
              "\n",
              "[5 rows x 10 columns]"
            ]
          },
          "metadata": {
            "tags": []
          },
          "execution_count": 7
        }
      ]
    },
    {
      "cell_type": "code",
      "metadata": {
        "id": "iyWpj_w8doMw"
      },
      "source": [
        "df = df[pd.notnull(df['Consumer complaint narrative'])]"
      ],
      "execution_count": 8,
      "outputs": []
    },
    {
      "cell_type": "code",
      "metadata": {
        "colab": {
          "base_uri": "https://localhost:8080/"
        },
        "id": "sIdIr76cdoMy",
        "outputId": "44f9bd0b-f28c-443a-fd3d-d383972f4671"
      },
      "source": [
        "df.info()"
      ],
      "execution_count": 9,
      "outputs": [
        {
          "output_type": "stream",
          "text": [
            "<class 'pandas.core.frame.DataFrame'>\n",
            "Int64Index: 679285 entries, 0 to 1999963\n",
            "Data columns (total 18 columns):\n",
            " #   Column                        Non-Null Count   Dtype \n",
            "---  ------                        --------------   ----- \n",
            " 0   Date received                 679285 non-null  object\n",
            " 1   Product                       679285 non-null  object\n",
            " 2   Sub-product                   627113 non-null  object\n",
            " 3   Issue                         679285 non-null  object\n",
            " 4   Sub-issue                     528206 non-null  object\n",
            " 5   Consumer complaint narrative  679285 non-null  object\n",
            " 6   Company public response       339012 non-null  object\n",
            " 7   Company                       679285 non-null  object\n",
            " 8   State                         675680 non-null  object\n",
            " 9   ZIP code                      528244 non-null  object\n",
            " 10  Tags                          111909 non-null  object\n",
            " 11  Consumer consent provided?    679285 non-null  object\n",
            " 12  Submitted via                 679285 non-null  object\n",
            " 13  Date sent to company          679285 non-null  object\n",
            " 14  Company response to consumer  679284 non-null  object\n",
            " 15  Timely response?              679285 non-null  object\n",
            " 16  Consumer disputed?            164064 non-null  object\n",
            " 17  Complaint ID                  679285 non-null  int64 \n",
            "dtypes: int64(1), object(17)\n",
            "memory usage: 98.5+ MB\n"
          ],
          "name": "stdout"
        }
      ]
    },
    {
      "cell_type": "code",
      "metadata": {
        "id": "FaVtovIRdoMz"
      },
      "source": [
        "col = ['Product', 'Consumer complaint narrative']\n",
        "df = df[col]"
      ],
      "execution_count": 10,
      "outputs": []
    },
    {
      "cell_type": "code",
      "metadata": {
        "colab": {
          "base_uri": "https://localhost:8080/"
        },
        "id": "CYJa_sh6doM0",
        "outputId": "6014db42-44b0-4825-e232-0458b72cd521"
      },
      "source": [
        "df.columns"
      ],
      "execution_count": 11,
      "outputs": [
        {
          "output_type": "execute_result",
          "data": {
            "text/plain": [
              "Index(['Product', 'Consumer complaint narrative'], dtype='object')"
            ]
          },
          "metadata": {
            "tags": []
          },
          "execution_count": 11
        }
      ]
    },
    {
      "cell_type": "code",
      "metadata": {
        "id": "8H0Oduc2doM1"
      },
      "source": [
        "df.columns = ['Product', 'Consumer_complaint_narrative']"
      ],
      "execution_count": 12,
      "outputs": []
    },
    {
      "cell_type": "code",
      "metadata": {
        "id": "JCySlPsudoM2"
      },
      "source": [
        "df['category_id'] = df['Product'].factorize()[0]"
      ],
      "execution_count": 13,
      "outputs": []
    },
    {
      "cell_type": "code",
      "metadata": {
        "id": "f09A9UMTW04Q"
      },
      "source": [
        "from io import StringIO\r\n",
        "category_id_df = df[['Product', 'category_id']].drop_duplicates().sort_values('category_id')\r\n",
        "\r\n",
        "# Mapping Dictionaries\r\n",
        "category_to_id = dict(category_id_df.values)\r\n",
        "id_to_category = dict(category_id_df[['category_id', 'Product']].values)"
      ],
      "execution_count": 14,
      "outputs": []
    },
    {
      "cell_type": "code",
      "metadata": {
        "colab": {
          "base_uri": "https://localhost:8080/",
          "height": 202
        },
        "id": "XObGTXwqdoM3",
        "outputId": "595371d7-d781-4b60-bff0-6b4e4cdd0a1e"
      },
      "source": [
        "df.head()"
      ],
      "execution_count": 15,
      "outputs": [
        {
          "output_type": "execute_result",
          "data": {
            "text/html": [
              "<div>\n",
              "<style scoped>\n",
              "    .dataframe tbody tr th:only-of-type {\n",
              "        vertical-align: middle;\n",
              "    }\n",
              "\n",
              "    .dataframe tbody tr th {\n",
              "        vertical-align: top;\n",
              "    }\n",
              "\n",
              "    .dataframe thead th {\n",
              "        text-align: right;\n",
              "    }\n",
              "</style>\n",
              "<table border=\"1\" class=\"dataframe\">\n",
              "  <thead>\n",
              "    <tr style=\"text-align: right;\">\n",
              "      <th></th>\n",
              "      <th>Product</th>\n",
              "      <th>Consumer_complaint_narrative</th>\n",
              "      <th>category_id</th>\n",
              "    </tr>\n",
              "  </thead>\n",
              "  <tbody>\n",
              "    <tr>\n",
              "      <th>0</th>\n",
              "      <td>Debt collection</td>\n",
              "      <td>transworld systems inc. \\nis trying to collect...</td>\n",
              "      <td>0</td>\n",
              "    </tr>\n",
              "    <tr>\n",
              "      <th>2</th>\n",
              "      <td>Debt collection</td>\n",
              "      <td>Over the past 2 weeks, I have been receiving e...</td>\n",
              "      <td>0</td>\n",
              "    </tr>\n",
              "    <tr>\n",
              "      <th>3</th>\n",
              "      <td>Debt collection</td>\n",
              "      <td>Pioneer has committed several federal violatio...</td>\n",
              "      <td>0</td>\n",
              "    </tr>\n",
              "    <tr>\n",
              "      <th>8</th>\n",
              "      <td>Credit reporting, credit repair services, or o...</td>\n",
              "      <td>Previously, on XX/XX/XXXX, XX/XX/XXXX, and XX/...</td>\n",
              "      <td>1</td>\n",
              "    </tr>\n",
              "    <tr>\n",
              "      <th>9</th>\n",
              "      <td>Credit reporting, credit repair services, or o...</td>\n",
              "      <td>Hello This complaint is against the three cred...</td>\n",
              "      <td>1</td>\n",
              "    </tr>\n",
              "  </tbody>\n",
              "</table>\n",
              "</div>"
            ],
            "text/plain": [
              "                                             Product  ... category_id\n",
              "0                                    Debt collection  ...           0\n",
              "2                                    Debt collection  ...           0\n",
              "3                                    Debt collection  ...           0\n",
              "8  Credit reporting, credit repair services, or o...  ...           1\n",
              "9  Credit reporting, credit repair services, or o...  ...           1\n",
              "\n",
              "[5 rows x 3 columns]"
            ]
          },
          "metadata": {
            "tags": []
          },
          "execution_count": 15
        }
      ]
    },
    {
      "cell_type": "code",
      "metadata": {
        "colab": {
          "base_uri": "https://localhost:8080/"
        },
        "id": "3RBpi_ZarLaq",
        "outputId": "ce4a6f98-cbbb-4111-e52a-4194603d3259"
      },
      "source": [
        "import sys\r\n",
        "sys.getsizeof(df)/(1024**3)"
      ],
      "execution_count": 16,
      "outputs": [
        {
          "output_type": "execute_result",
          "data": {
            "text/plain": [
              "0.7826486974954605"
            ]
          },
          "metadata": {
            "tags": []
          },
          "execution_count": 16
        }
      ]
    },
    {
      "cell_type": "code",
      "metadata": {
        "colab": {
          "base_uri": "https://localhost:8080/",
          "height": 752
        },
        "id": "gfPL46FWdoM4",
        "outputId": "d1299152-0ac0-4cca-dc1c-4e0549860f1f"
      },
      "source": [
        "import matplotlib.pyplot as plt\n",
        "fig = plt.figure(figsize=(8,6))\n",
        "df.groupby('Product').Consumer_complaint_narrative.count().plot.bar(ylim=0)\n",
        "plt.show()"
      ],
      "execution_count": 17,
      "outputs": [
        {
          "output_type": "display_data",
          "data": {
            "image/png": "[encoded data removed]",
            "text/plain": [
              "<Figure size 576x432 with 1 Axes>"
            ]
          },
          "metadata": {
            "tags": [],
            "needs_background": "light"
          }
        }
      ]
    },
    {
      "cell_type": "markdown",
      "metadata": {
        "id": "IT8YT2Zrx3Rf"
      },
      "source": [
        "# Undersample the High Frequency Classes - Using Median Count"
      ]
    },
    {
      "cell_type": "code",
      "metadata": {
        "colab": {
          "base_uri": "https://localhost:8080/"
        },
        "id": "CucfrioIGw3O",
        "outputId": "91562890-512d-42ea-a34b-cd602c5cfc65"
      },
      "source": [
        "df['Product'].value_counts()"
      ],
      "execution_count": 18,
      "outputs": [
        {
          "output_type": "execute_result",
          "data": {
            "text/plain": [
              "Credit reporting, credit repair services, or other personal consumer reports    248115\n",
              "Debt collection                                                                 134651\n",
              "Mortgage                                                                         75042\n",
              "Credit card or prepaid card                                                      50365\n",
              "Credit reporting                                                                 31588\n",
              "Checking or savings account                                                      29404\n",
              "Student loan                                                                     27735\n",
              "Credit card                                                                      18838\n",
              "Bank account or service                                                          14885\n",
              "Money transfer, virtual currency, or money service                               12994\n",
              "Vehicle loan or lease                                                            12287\n",
              "Consumer Loan                                                                     9472\n",
              "Payday loan, title loan, or personal loan                                         8908\n",
              "Payday loan                                                                       1746\n",
              "Money transfers                                                                   1497\n",
              "Prepaid card                                                                      1450\n",
              "Other financial service                                                            292\n",
              "Virtual currency                                                                    16\n",
              "Name: Product, dtype: int64"
            ]
          },
          "metadata": {
            "tags": []
          },
          "execution_count": 18
        }
      ]
    },
    {
      "cell_type": "code",
      "metadata": {
        "colab": {
          "base_uri": "https://localhost:8080/"
        },
        "id": "SEbXwZbmN7Vo",
        "outputId": "9f12a93d-2b1b-4700-d44d-bc2df00cccc6"
      },
      "source": [
        "print('Minority Class Count : ', df['Product'].value_counts().min())\r\n",
        "print('Majority Class Count : ', df['Product'].value_counts().max())"
      ],
      "execution_count": 19,
      "outputs": [
        {
          "output_type": "stream",
          "text": [
            "Minority Class Count :  16\n",
            "Majority Class Count :  248115\n"
          ],
          "name": "stdout"
        }
      ]
    },
    {
      "cell_type": "code",
      "metadata": {
        "id": "63fIjiSmOGct"
      },
      "source": [
        "# Percentage of majority relative to the minority class\r\n",
        "samplingStrategy = 0.01"
      ],
      "execution_count": 20,
      "outputs": []
    },
    {
      "cell_type": "code",
      "metadata": {
        "colab": {
          "base_uri": "https://localhost:8080/"
        },
        "id": "h-_wRtbFvx2A",
        "outputId": "9d95aed5-0bf1-4c3e-9b21-b63662da6438"
      },
      "source": [
        "import numpy as np\r\n",
        "\r\n",
        "# Undersampling using sampling strategy \r\n",
        "nsamples_per_class = np.int16(df['Product'].value_counts().min()/samplingStrategy)\r\n",
        "undersample = lambda df: df.loc[np.random.choice(a=df.index, size=min(len(df.index), nsamples_per_class), replace=False)]\r\n",
        "df_bal = df.groupby(['Product'], as_index=False).apply(undersample)\r\n",
        "\r\n",
        "print(df_bal.shape)"
      ],
      "execution_count": 21,
      "outputs": [
        {
          "output_type": "stream",
          "text": [
            "(25655, 3)\n"
          ],
          "name": "stdout"
        }
      ]
    },
    {
      "cell_type": "code",
      "metadata": {
        "colab": {
          "base_uri": "https://localhost:8080/",
          "height": 752
        },
        "id": "6DgHEmJmzXvM",
        "outputId": "e15eba8a-6a70-49fb-84b0-0cb3158d20b7"
      },
      "source": [
        "import matplotlib.pyplot as plt\r\n",
        "fig = plt.figure(figsize=(8,6))\r\n",
        "df_bal.groupby('Product').Consumer_complaint_narrative.count().plot.bar(ylim=0)\r\n",
        "plt.show()"
      ],
      "execution_count": 22,
      "outputs": [
        {
          "output_type": "display_data",
          "data": {
            "image/png": "[encoded data removed]",
            "text/plain": [
              "<Figure size 576x432 with 1 Axes>"
            ]
          },
          "metadata": {
            "tags": [],
            "needs_background": "light"
          }
        }
      ]
    },
    {
      "cell_type": "code",
      "metadata": {
        "id": "-QVh61vwxu2q"
      },
      "source": [
        "df = df_bal"
      ],
      "execution_count": 23,
      "outputs": []
    },
    {
      "cell_type": "code",
      "metadata": {
        "colab": {
          "base_uri": "https://localhost:8080/"
        },
        "id": "Af0ISgb5doM6",
        "outputId": "38f4db88-b6d6-4c24-da58-0dade9f3d00c"
      },
      "source": [
        "from sklearn.feature_extraction.text import TfidfVectorizer\n",
        "\n",
        "tfidf = TfidfVectorizer(sublinear_tf=True, min_df=5, norm='l2', encoding='latin-1', ngram_range=(1, 2), stop_words='english')\n",
        "\n",
        "features = tfidf.fit_transform(df.Consumer_complaint_narrative)\n",
        "labels = df.category_id\n",
        "features.shape"
      ],
      "execution_count": 24,
      "outputs": [
        {
          "output_type": "execute_result",
          "data": {
            "text/plain": [
              "(25655, 70409)"
            ]
          },
          "metadata": {
            "tags": []
          },
          "execution_count": 24
        }
      ]
    },
    {
      "cell_type": "code",
      "metadata": {
        "colab": {
          "base_uri": "https://localhost:8080/"
        },
        "id": "LNXl--eNbKXb",
        "outputId": "04f5a41c-92cb-4aa3-9c42-d64521b95d80"
      },
      "source": [
        "import sys\r\n",
        "sys.getsizeof(features)/(1024**3)"
      ],
      "execution_count": 25,
      "outputs": [
        {
          "output_type": "execute_result",
          "data": {
            "text/plain": [
              "5.960464477539063e-08"
            ]
          },
          "metadata": {
            "tags": []
          },
          "execution_count": 25
        }
      ]
    },
    {
      "cell_type": "code",
      "metadata": {
        "id": "O7XnCGoqdoM-",
        "scrolled": false
      },
      "source": [
        "from sklearn.feature_selection import chi2\n",
        "import numpy as np\n",
        "\n",
        "N = 2\n",
        "df_feat = pd.DataFrame(columns=['Product', 'Unigrams', 'Bigrams'])\n",
        "\n",
        "for product, category_id in sorted(category_to_id.items()):\n",
        "  features_chi2 = chi2(features, labels == category_id)\n",
        "  indices = np.argsort(features_chi2[0])\n",
        "\n",
        "  feature_names = np.array(tfidf.get_feature_names())[indices]\n",
        "  unigrams = [v for v in feature_names if len(v.split(' ')) == 1]\n",
        "  bigrams = [v for v in feature_names if len(v.split(' ')) == 2]\n",
        "\n",
        "  # Top N most correlated unigrams and bigrams for each category\n",
        "  df_cat = pd.DataFrame(index=range(N), columns=['Product', 'Unigrams', 'Bigrams'])\n",
        "  df_cat['Product'] = product\n",
        "  df_cat['Unigrams'] = unigrams[-N:]\n",
        "  df_cat['Bigrams'] = bigrams[-N:]\n",
        "  \n",
        "  df_feat = pd.concat([df_feat, df_cat], axis=0, ignore_index=True)"
      ],
      "execution_count": 26,
      "outputs": []
    },
    {
      "cell_type": "code",
      "metadata": {
        "colab": {
          "base_uri": "https://localhost:8080/",
          "height": 662
        },
        "id": "DCSAU-jBzq9-",
        "outputId": "9e527d51-daac-4f0b-f89c-8f8c069ea5b2"
      },
      "source": [
        "df_feat.head(20)"
      ],
      "execution_count": 27,
      "outputs": [
        {
          "output_type": "execute_result",
          "data": {
            "text/html": [
              "<div>\n",
              "<style scoped>\n",
              "    .dataframe tbody tr th:only-of-type {\n",
              "        vertical-align: middle;\n",
              "    }\n",
              "\n",
              "    .dataframe tbody tr th {\n",
              "        vertical-align: top;\n",
              "    }\n",
              "\n",
              "    .dataframe thead th {\n",
              "        text-align: right;\n",
              "    }\n",
              "</style>\n",
              "<table border=\"1\" class=\"dataframe\">\n",
              "  <thead>\n",
              "    <tr style=\"text-align: right;\">\n",
              "      <th></th>\n",
              "      <th>Product</th>\n",
              "      <th>Unigrams</th>\n",
              "      <th>Bigrams</th>\n",
              "    </tr>\n",
              "  </thead>\n",
              "  <tbody>\n",
              "    <tr>\n",
              "      <th>0</th>\n",
              "      <td>Bank account or service</td>\n",
              "      <td>citigold</td>\n",
              "      <td>overdraft fees</td>\n",
              "    </tr>\n",
              "    <tr>\n",
              "      <th>1</th>\n",
              "      <td>Bank account or service</td>\n",
              "      <td>overdraft</td>\n",
              "      <td>checking account</td>\n",
              "    </tr>\n",
              "    <tr>\n",
              "      <th>2</th>\n",
              "      <td>Checking or savings account</td>\n",
              "      <td>branch</td>\n",
              "      <td>00 bonus</td>\n",
              "    </tr>\n",
              "    <tr>\n",
              "      <th>3</th>\n",
              "      <td>Checking or savings account</td>\n",
              "      <td>bonus</td>\n",
              "      <td>checking account</td>\n",
              "    </tr>\n",
              "    <tr>\n",
              "      <th>4</th>\n",
              "      <td>Consumer Loan</td>\n",
              "      <td>vehicle</td>\n",
              "      <td>car loan</td>\n",
              "    </tr>\n",
              "    <tr>\n",
              "      <th>5</th>\n",
              "      <td>Consumer Loan</td>\n",
              "      <td>car</td>\n",
              "      <td>auto loan</td>\n",
              "    </tr>\n",
              "    <tr>\n",
              "      <th>6</th>\n",
              "      <td>Credit card</td>\n",
              "      <td>macy</td>\n",
              "      <td>annual fee</td>\n",
              "    </tr>\n",
              "    <tr>\n",
              "      <th>7</th>\n",
              "      <td>Credit card</td>\n",
              "      <td>card</td>\n",
              "      <td>credit card</td>\n",
              "    </tr>\n",
              "    <tr>\n",
              "      <th>8</th>\n",
              "      <td>Credit card or prepaid card</td>\n",
              "      <td>comenity</td>\n",
              "      <td>card xx</td>\n",
              "    </tr>\n",
              "    <tr>\n",
              "      <th>9</th>\n",
              "      <td>Credit card or prepaid card</td>\n",
              "      <td>card</td>\n",
              "      <td>credit card</td>\n",
              "    </tr>\n",
              "    <tr>\n",
              "      <th>10</th>\n",
              "      <td>Credit reporting</td>\n",
              "      <td>experian</td>\n",
              "      <td>trans union</td>\n",
              "    </tr>\n",
              "    <tr>\n",
              "      <th>11</th>\n",
              "      <td>Credit reporting</td>\n",
              "      <td>equifax</td>\n",
              "      <td>credit report</td>\n",
              "    </tr>\n",
              "    <tr>\n",
              "      <th>12</th>\n",
              "      <td>Credit reporting, credit repair services, or o...</td>\n",
              "      <td>equifax</td>\n",
              "      <td>fraudulent accounts</td>\n",
              "    </tr>\n",
              "    <tr>\n",
              "      <th>13</th>\n",
              "      <td>Credit reporting, credit repair services, or o...</td>\n",
              "      <td>report</td>\n",
              "      <td>credit report</td>\n",
              "    </tr>\n",
              "    <tr>\n",
              "      <th>14</th>\n",
              "      <td>Debt collection</td>\n",
              "      <td>collection</td>\n",
              "      <td>collection agency</td>\n",
              "    </tr>\n",
              "    <tr>\n",
              "      <th>15</th>\n",
              "      <td>Debt collection</td>\n",
              "      <td>debt</td>\n",
              "      <td>collect debt</td>\n",
              "    </tr>\n",
              "    <tr>\n",
              "      <th>16</th>\n",
              "      <td>Money transfer, virtual currency, or money ser...</td>\n",
              "      <td>paypal</td>\n",
              "      <td>coinbase account</td>\n",
              "    </tr>\n",
              "    <tr>\n",
              "      <th>17</th>\n",
              "      <td>Money transfer, virtual currency, or money ser...</td>\n",
              "      <td>coinbase</td>\n",
              "      <td>cash app</td>\n",
              "    </tr>\n",
              "    <tr>\n",
              "      <th>18</th>\n",
              "      <td>Money transfers</td>\n",
              "      <td>paypal</td>\n",
              "      <td>money gram</td>\n",
              "    </tr>\n",
              "    <tr>\n",
              "      <th>19</th>\n",
              "      <td>Money transfers</td>\n",
              "      <td>western</td>\n",
              "      <td>western union</td>\n",
              "    </tr>\n",
              "  </tbody>\n",
              "</table>\n",
              "</div>"
            ],
            "text/plain": [
              "                                              Product  ...              Bigrams\n",
              "0                             Bank account or service  ...       overdraft fees\n",
              "1                             Bank account or service  ...     checking account\n",
              "2                         Checking or savings account  ...             00 bonus\n",
              "3                         Checking or savings account  ...     checking account\n",
              "4                                       Consumer Loan  ...             car loan\n",
              "5                                       Consumer Loan  ...            auto loan\n",
              "6                                         Credit card  ...           annual fee\n",
              "7                                         Credit card  ...          credit card\n",
              "8                         Credit card or prepaid card  ...              card xx\n",
              "9                         Credit card or prepaid card  ...          credit card\n",
              "10                                   Credit reporting  ...          trans union\n",
              "11                                   Credit reporting  ...        credit report\n",
              "12  Credit reporting, credit repair services, or o...  ...  fraudulent accounts\n",
              "13  Credit reporting, credit repair services, or o...  ...        credit report\n",
              "14                                    Debt collection  ...    collection agency\n",
              "15                                    Debt collection  ...         collect debt\n",
              "16  Money transfer, virtual currency, or money ser...  ...     coinbase account\n",
              "17  Money transfer, virtual currency, or money ser...  ...             cash app\n",
              "18                                    Money transfers  ...           money gram\n",
              "19                                    Money transfers  ...        western union\n",
              "\n",
              "[20 rows x 3 columns]"
            ]
          },
          "metadata": {
            "tags": []
          },
          "execution_count": 27
        }
      ]
    },
    {
      "cell_type": "code",
      "metadata": {
        "id": "M_dOI0PldoM-"
      },
      "source": [
        "from sklearn.model_selection import train_test_split\n",
        "from sklearn.feature_extraction.text import CountVectorizer\n",
        "from sklearn.feature_extraction.text import TfidfTransformer, TfidfVectorizer\n",
        "from sklearn.naive_bayes import MultinomialNB\n",
        "\n",
        "X_train, X_test, y_train, y_test = train_test_split(df['Consumer_complaint_narrative'], df['Product'], random_state = 0)\n",
        "\n",
        "count_vect = CountVectorizer()\n",
        "X_train_counts = count_vect.fit_transform(X_train)\n",
        "tfidf_transformer = TfidfTransformer()\n",
        "X_train_tfidf = tfidf_transformer.fit_transform(X_train_counts)"
      ],
      "execution_count": 28,
      "outputs": []
    },
    {
      "cell_type": "markdown",
      "metadata": {
        "id": "jFshCp7ZlTT5"
      },
      "source": [
        "# Baseline Classifiers\r\n",
        "\r\n",
        "- Logistic Regression\r\n",
        "- (Multinomial) Naive Bayes\r\n",
        "- Linear Support Vector Machine\r\n",
        "- Random Forest"
      ]
    },
    {
      "cell_type": "markdown",
      "metadata": {
        "id": "NgsuekNLkP54"
      },
      "source": [
        "# Optimize Baseline Models Using GridSearchCV"
      ]
    },
    {
      "cell_type": "code",
      "metadata": {
        "id": "h3g454adGnmC"
      },
      "source": [
        "from sklearn.linear_model import LogisticRegression\r\n",
        "from sklearn.ensemble import RandomForestClassifier\r\n",
        "from sklearn.naive_bayes import MultinomialNB\r\n",
        "from sklearn.svm import LinearSVC\r\n",
        "\r\n",
        "from sklearn.pipeline import Pipeline\r\n",
        "from sklearn.metrics import classification_report\r\n",
        "from sklearn.model_selection import GridSearchCV"
      ],
      "execution_count": null,
      "outputs": []
    },
    {
      "cell_type": "markdown",
      "metadata": {
        "id": "JFYRyZuIZEAt"
      },
      "source": [
        "## Multinomial Naive Bayes Classifier"
      ]
    },
    {
      "cell_type": "code",
      "metadata": {
        "id": "TAGzVSGTYuAa"
      },
      "source": [
        "# Implement the grid search\r\n",
        "pipe = Pipeline([(\"vectorizer\", CountVectorizer()), \r\n",
        "                 (\"classifier\", MultinomialNB())])\r\n",
        "\r\n",
        "params = {'vectorizer__ngram_range':[(1,1), (1,2)], \r\n",
        "          'classifier__alpha':[1, 0.1]}\r\n",
        "\r\n",
        "gridCV = GridSearchCV(pipe, param_grid=params)\r\n",
        "\r\n",
        "# Train the Multinomial Naive Bayes classifier  \r\n",
        "gridCV.fit(X_train, y_train)"
      ],
      "execution_count": null,
      "outputs": []
    },
    {
      "cell_type": "code",
      "metadata": {
        "colab": {
          "base_uri": "https://localhost:8080/"
        },
        "id": "SQ3usVG8ZAH4",
        "outputId": "8c091639-0165-43a1-f089-6543e22e24b6"
      },
      "source": [
        "print(gridCV.best_params_)\r\n",
        "print(gridCV.best_score_)"
      ],
      "execution_count": null,
      "outputs": [
        {
          "output_type": "stream",
          "text": [
            "{'classifier__alpha': 0.1, 'vectorizer__ngram_range': (1, 2)}\n",
            "0.6179514456599413\n"
          ],
          "name": "stdout"
        }
      ]
    },
    {
      "cell_type": "code",
      "metadata": {
        "colab": {
          "base_uri": "https://localhost:8080/"
        },
        "id": "Gg0qizTyY_gr",
        "outputId": "3b40bc7b-de75-49a3-df4a-81cc14e86746"
      },
      "source": [
        "# Evaluate the Multinomial Naive Bayes classifier\r\n",
        "y_pred = gridCV.best_estimator_.predict(X_test)\r\n",
        "print(classification_report(y_test, y_pred))"
      ],
      "execution_count": null,
      "outputs": [
        {
          "output_type": "stream",
          "text": [
            "                                                                              precision    recall  f1-score   support\n",
            "\n",
            "                                                     Bank account or service       0.56      0.51      0.53       402\n",
            "                                                 Checking or savings account       0.57      0.64      0.60       405\n",
            "                                                               Consumer Loan       0.53      0.36      0.43       370\n",
            "                                                                 Credit card       0.54      0.50      0.52       412\n",
            "                                                 Credit card or prepaid card       0.53      0.54      0.53       401\n",
            "                                                            Credit reporting       0.61      0.68      0.64       409\n",
            "Credit reporting, credit repair services, or other personal consumer reports       0.56      0.56      0.56       386\n",
            "                                                             Debt collection       0.60      0.58      0.59       400\n",
            "                          Money transfer, virtual currency, or money service       0.67      0.63      0.65       421\n",
            "                                                             Money transfers       0.68      0.71      0.69       382\n",
            "                                                                    Mortgage       0.78      0.87      0.82       404\n",
            "                                                     Other financial service       0.75      0.04      0.08        72\n",
            "                                                                 Payday loan       0.66      0.72      0.69       385\n",
            "                                   Payday loan, title loan, or personal loan       0.56      0.45      0.50       404\n",
            "                                                                Prepaid card       0.79      0.84      0.81       361\n",
            "                                                                Student loan       0.81      0.88      0.84       388\n",
            "                                                       Vehicle loan or lease       0.58      0.72      0.64       406\n",
            "                                                            Virtual currency       1.00      0.33      0.50         6\n",
            "\n",
            "                                                                    accuracy                           0.63      6414\n",
            "                                                                   macro avg       0.65      0.59      0.59      6414\n",
            "                                                                weighted avg       0.63      0.63      0.62      6414\n",
            "\n"
          ],
          "name": "stdout"
        }
      ]
    },
    {
      "cell_type": "markdown",
      "metadata": {
        "id": "a2BistA1XAeh"
      },
      "source": [
        "## Logistic Regression Classifier"
      ]
    },
    {
      "cell_type": "code",
      "metadata": {
        "colab": {
          "background_save": true
        },
        "id": "S4VzznoVWzZA"
      },
      "source": [
        "# Implement the grid search\r\n",
        "pipe = Pipeline([('vectorizer', CountVectorizer()), \r\n",
        "                 ('classifier', LogisticRegression())])\r\n",
        "\r\n",
        "params = {'vectorizer__ngram_range':[(1,1), (1,2)], \r\n",
        "          'classifier__C':[0.5, 1],\r\n",
        "          'classifier__penalty':['l2', None]}\r\n",
        "          \r\n",
        "gridCV = GridSearchCV(pipe, param_grid=params)\r\n",
        "\r\n",
        "# Train the Logistic Regression classifier\r\n",
        "gridCV.fit(X_train, y_train)"
      ],
      "execution_count": null,
      "outputs": []
    },
    {
      "cell_type": "code",
      "metadata": {
        "colab": {
          "background_save": true
        },
        "id": "yDEU9NtDYlcw",
        "outputId": "3eb3ac3b-66d4-4ff5-c7a6-95be9942d410"
      },
      "source": [
        "print(gridCV.best_params_)\r\n",
        "print(gridCV.best_score_)"
      ],
      "execution_count": null,
      "outputs": [
        {
          "output_type": "stream",
          "text": [
            "{'classifier__C': 0.5, 'classifier__penalty': 'l2', 'vectorizer__ngram_range': (1, 2)}\n",
            "0.6092717605188377\n"
          ],
          "name": "stdout"
        }
      ]
    },
    {
      "cell_type": "code",
      "metadata": {
        "colab": {
          "background_save": true
        },
        "id": "34snmkxUX08B",
        "outputId": "6a08c63d-1447-4df2-b83a-9c3606b8007f"
      },
      "source": [
        "# Evaluate the Logistic Regression classifier\r\n",
        "y_pred = gridCV.best_estimator_.predict(X_test)\r\n",
        "print(classification_report(y_test, y_pred))"
      ],
      "execution_count": null,
      "outputs": [
        {
          "output_type": "stream",
          "text": [
            "                                                                              precision    recall  f1-score   support\n",
            "\n",
            "                                                     Bank account or service       0.53      0.50      0.52       402\n",
            "                                                 Checking or savings account       0.55      0.60      0.57       405\n",
            "                                                               Consumer Loan       0.50      0.48      0.49       370\n",
            "                                                                 Credit card       0.58      0.52      0.55       412\n",
            "                                                 Credit card or prepaid card       0.51      0.52      0.51       401\n",
            "                                                            Credit reporting       0.66      0.64      0.65       409\n",
            "Credit reporting, credit repair services, or other personal consumer reports       0.52      0.57      0.55       386\n",
            "                                                             Debt collection       0.59      0.61      0.60       400\n",
            "                          Money transfer, virtual currency, or money service       0.65      0.61      0.63       421\n",
            "                                                             Money transfers       0.66      0.74      0.70       382\n",
            "                                                                    Mortgage       0.80      0.81      0.80       404\n",
            "                                                     Other financial service       0.40      0.35      0.37        72\n",
            "                                                                 Payday loan       0.69      0.69      0.69       385\n",
            "                                   Payday loan, title loan, or personal loan       0.50      0.52      0.51       404\n",
            "                                                                Prepaid card       0.80      0.81      0.80       361\n",
            "                                                                Student loan       0.89      0.85      0.87       388\n",
            "                                                       Vehicle loan or lease       0.60      0.58      0.59       406\n",
            "                                                            Virtual currency       1.00      0.33      0.50         6\n",
            "\n",
            "                                                                    accuracy                           0.62      6414\n",
            "                                                                   macro avg       0.64      0.60      0.61      6414\n",
            "                                                                weighted avg       0.62      0.62      0.62      6414\n",
            "\n"
          ],
          "name": "stdout"
        }
      ]
    },
    {
      "cell_type": "markdown",
      "metadata": {
        "id": "jlRdk1cCX8Zz"
      },
      "source": [
        "## Linear Support Vector Machine Classifier"
      ]
    },
    {
      "cell_type": "code",
      "metadata": {
        "id": "ar9TFpzEXoS1"
      },
      "source": [
        "# Implement the grid search\r\n",
        "pipe = Pipeline([('vectorizer', CountVectorizer()), \r\n",
        "                 ('classifier', LinearSVC())])\r\n",
        "\r\n",
        "params = {'vectorizer__ngram_range':[(1,1), (1,2)], \r\n",
        "          'classifier__loss':['squared_hinge', 'hinge']}\r\n",
        "          \r\n",
        "gridCV = GridSearchCV(pipe, param_grid=params)\r\n",
        "\r\n",
        "# Train the Linear SVC classifier\r\n",
        "gridCV.fit(X_train, y_train)"
      ],
      "execution_count": null,
      "outputs": []
    },
    {
      "cell_type": "code",
      "metadata": {
        "id": "wmb1MbAuZVT1",
        "colab": {
          "base_uri": "https://localhost:8080/"
        },
        "outputId": "08f31f62-7a73-43ba-d458-ad5f9f3cce0f"
      },
      "source": [
        "print(gridCV.best_params_)\r\n",
        "print(gridCV.best_score_)"
      ],
      "execution_count": null,
      "outputs": [
        {
          "output_type": "stream",
          "text": [
            "{'classifier__loss': 'squared_hinge', 'vectorizer__ngram_range': (1, 2)}\n",
            "0.5665506039044621\n"
          ],
          "name": "stdout"
        }
      ]
    },
    {
      "cell_type": "code",
      "metadata": {
        "id": "6A1zee2tZRNh",
        "colab": {
          "base_uri": "https://localhost:8080/"
        },
        "outputId": "7bb8a041-70f0-4cdd-ae0e-7c2336fab90a"
      },
      "source": [
        "# Evaluate the Linear SVC classifier\r\n",
        "y_pred = gridCV.best_estimator_.predict(X_test)\r\n",
        "print(classification_report(y_test, y_pred))"
      ],
      "execution_count": null,
      "outputs": [
        {
          "output_type": "stream",
          "text": [
            "                                                                              precision    recall  f1-score   support\n",
            "\n",
            "                                                     Bank account or service       0.49      0.45      0.46       402\n",
            "                                                 Checking or savings account       0.52      0.51      0.51       405\n",
            "                                                               Consumer Loan       0.43      0.41      0.42       370\n",
            "                                                                 Credit card       0.49      0.47      0.48       412\n",
            "                                                 Credit card or prepaid card       0.45      0.44      0.44       401\n",
            "                                                            Credit reporting       0.60      0.63      0.62       409\n",
            "Credit reporting, credit repair services, or other personal consumer reports       0.49      0.53      0.51       386\n",
            "                                                             Debt collection       0.52      0.57      0.54       400\n",
            "                          Money transfer, virtual currency, or money service       0.57      0.55      0.56       421\n",
            "                                                             Money transfers       0.62      0.65      0.64       382\n",
            "                                                                    Mortgage       0.80      0.82      0.81       404\n",
            "                                                     Other financial service       0.39      0.28      0.33        72\n",
            "                                                                 Payday loan       0.63      0.70      0.66       385\n",
            "                                   Payday loan, title loan, or personal loan       0.44      0.42      0.43       404\n",
            "                                                                Prepaid card       0.78      0.81      0.80       361\n",
            "                                                                Student loan       0.82      0.84      0.83       388\n",
            "                                                       Vehicle loan or lease       0.52      0.48      0.50       406\n",
            "                                                            Virtual currency       1.00      0.33      0.50         6\n",
            "\n",
            "                                                                    accuracy                           0.57      6414\n",
            "                                                                   macro avg       0.59      0.55      0.56      6414\n",
            "                                                                weighted avg       0.57      0.57      0.57      6414\n",
            "\n"
          ],
          "name": "stdout"
        }
      ]
    },
    {
      "cell_type": "markdown",
      "metadata": {
        "id": "IXnBU3k6ZZwi"
      },
      "source": [
        "## Random Forest Classifier"
      ]
    },
    {
      "cell_type": "code",
      "metadata": {
        "id": "Tv0HPTA0ZiTx"
      },
      "source": [
        "# Implement the grid search\r\n",
        "pipe = Pipeline([('vectorizer', CountVectorizer()), \r\n",
        "                 ('classifier', RandomForestClassifier())])\r\n",
        "\r\n",
        "params = {'vectorizer__ngram_range':[(1,1), (1,2)], \r\n",
        "          'classifier__n_estimators':[50, 100],\r\n",
        "          'classifier__max_depth':[2, 3],\r\n",
        "          'classifier__random_state':[0, None]}\r\n",
        "          \r\n",
        "gridCV = GridSearchCV(pipe, param_grid=params)\r\n",
        "\r\n",
        "# Train the Random Forest classifier\r\n",
        "gridCV.fit(X_train, y_train)"
      ],
      "execution_count": null,
      "outputs": []
    },
    {
      "cell_type": "code",
      "metadata": {
        "id": "DTs4zMSzZjBr",
        "colab": {
          "base_uri": "https://localhost:8080/"
        },
        "outputId": "445695c1-8a4e-4585-9967-d3da0c6941ab"
      },
      "source": [
        "print(gridCV.best_params_)\r\n",
        "print(gridCV.best_score_)"
      ],
      "execution_count": null,
      "outputs": [
        {
          "output_type": "stream",
          "text": [
            "{'classifier__max_depth': 3, 'classifier__n_estimators': 100, 'classifier__random_state': 0, 'vectorizer__ngram_range': (1, 1)}\n",
            "0.4719076802085376\n"
          ],
          "name": "stdout"
        }
      ]
    },
    {
      "cell_type": "code",
      "metadata": {
        "id": "QEwUGEpHZj-h",
        "colab": {
          "base_uri": "https://localhost:8080/"
        },
        "outputId": "e36e6525-6979-46c8-c297-acc8c4f71045"
      },
      "source": [
        "# Evaluate the Random Forest classifier\r\n",
        "y_pred = gridCV.best_estimator_.predict(X_test)\r\n",
        "print(classification_report(y_test, y_pred))"
      ],
      "execution_count": null,
      "outputs": [
        {
          "output_type": "stream",
          "text": [
            "                                                                              precision    recall  f1-score   support\n",
            "\n",
            "                                                     Bank account or service       0.44      0.37      0.40       402\n",
            "                                                 Checking or savings account       0.45      0.51      0.48       405\n",
            "                                                               Consumer Loan       0.39      0.22      0.29       370\n",
            "                                                                 Credit card       0.47      0.43      0.45       412\n",
            "                                                 Credit card or prepaid card       0.50      0.37      0.43       401\n",
            "                                                            Credit reporting       0.60      0.58      0.59       409\n",
            "Credit reporting, credit repair services, or other personal consumer reports       0.29      0.50      0.37       386\n",
            "                                                             Debt collection       0.55      0.48      0.51       400\n",
            "                          Money transfer, virtual currency, or money service       0.59      0.55      0.57       421\n",
            "                                                             Money transfers       0.72      0.47      0.57       382\n",
            "                                                                    Mortgage       0.57      0.84      0.68       404\n",
            "                                                     Other financial service       0.00      0.00      0.00        72\n",
            "                                                                 Payday loan       0.34      0.75      0.47       385\n",
            "                                   Payday loan, title loan, or personal loan       0.58      0.08      0.14       404\n",
            "                                                                Prepaid card       0.88      0.57      0.69       361\n",
            "                                                                Student loan       0.62      0.78      0.69       388\n",
            "                                                       Vehicle loan or lease       0.55      0.61      0.58       406\n",
            "                                                            Virtual currency       0.00      0.00      0.00         6\n",
            "\n",
            "                                                                    accuracy                           0.50      6414\n",
            "                                                                   macro avg       0.47      0.45      0.44      6414\n",
            "                                                                weighted avg       0.53      0.50      0.49      6414\n",
            "\n"
          ],
          "name": "stdout"
        },
        {
          "output_type": "stream",
          "text": [
            "/usr/local/lib/python3.7/dist-packages/sklearn/metrics/_classification.py:1272: UndefinedMetricWarning: Precision and F-score are ill-defined and being set to 0.0 in labels with no predicted samples. Use `zero_division` parameter to control this behavior.\n",
            "  _warn_prf(average, modifier, msg_start, len(result))\n"
          ],
          "name": "stderr"
        }
      ]
    },
    {
      "cell_type": "markdown",
      "metadata": {
        "id": "cdP3m9DpkpTq"
      },
      "source": [
        "# Model Selection using Cross Validation"
      ]
    },
    {
      "cell_type": "code",
      "metadata": {
        "id": "dp5-bBXldoNE"
      },
      "source": [
        "from sklearn.linear_model import LogisticRegression\n",
        "from sklearn.ensemble import RandomForestClassifier\n",
        "from sklearn.naive_bayes import MultinomialNB\n",
        "from sklearn.svm import LinearSVC\n",
        "\n",
        "from sklearn.model_selection import cross_val_score\n",
        "\n",
        "models = [\n",
        "    RandomForestClassifier(n_estimators=100, max_depth=3, random_state=0),\n",
        "    LinearSVC(),\n",
        "    MultinomialNB(alpha=0.1),\n",
        "    LogisticRegression(C=0.5, random_state=0),\n",
        "]\n",
        "CV = 5\n",
        "cv_df = pd.DataFrame(index=range(CV * len(models)))\n",
        "entries = []\n",
        "for model in models:\n",
        "  model_name = model.__class__.__name__\n",
        "  accuracies = cross_val_score(model, features, labels, scoring='accuracy', cv=CV)\n",
        "\n",
        "  for fold_idx, accuracy in enumerate(accuracies):\n",
        "    entries.append((model_name, fold_idx, accuracy))\n",
        "    \n",
        "cv_df = pd.DataFrame(entries, columns=['model_name', 'fold_idx', 'accuracy'])"
      ],
      "execution_count": null,
      "outputs": []
    },
    {
      "cell_type": "code",
      "metadata": {
        "colab": {
          "base_uri": "https://localhost:8080/",
          "height": 280
        },
        "id": "VFQJPtdYdoNF",
        "outputId": "cae7ee6b-7248-494b-ff2b-bd9e9851fa73"
      },
      "source": [
        "import seaborn as sns\n",
        "\n",
        "sns.boxplot(x='model_name', y='accuracy', data=cv_df)\n",
        "sns.stripplot(x='model_name', y='accuracy', data=cv_df, \n",
        "              size=8, jitter=True, edgecolor=\"gray\", linewidth=2)\n",
        "plt.show()"
      ],
      "execution_count": null,
      "outputs": [
        {
          "output_type": "display_data",
          "data": {
            "image/png": "[encoded data removed]",
            "text/plain": [
              "<Figure size 432x288 with 1 Axes>"
            ]
          },
          "metadata": {
            "tags": [],
            "needs_background": "light"
          }
        }
      ]
    },
    {
      "cell_type": "code",
      "metadata": {
        "colab": {
          "base_uri": "https://localhost:8080/"
        },
        "id": "RGzYEOiAdoNG",
        "outputId": "484a3454-735b-4c3c-c049-5f8479a51fe8"
      },
      "source": [
        "cv_df.groupby('model_name').accuracy.mean()"
      ],
      "execution_count": null,
      "outputs": [
        {
          "output_type": "execute_result",
          "data": {
            "text/plain": [
              "model_name\n",
              "LinearSVC                 0.652855\n",
              "LogisticRegression        0.652621\n",
              "MultinomialNB             0.634496\n",
              "RandomForestClassifier    0.497759\n",
              "Name: accuracy, dtype: float64"
            ]
          },
          "metadata": {
            "tags": []
          },
          "execution_count": 33
        }
      ]
    },
    {
      "cell_type": "markdown",
      "metadata": {
        "id": "vKxrTHmBYCWC"
      },
      "source": [
        "# Best Model"
      ]
    },
    {
      "cell_type": "code",
      "metadata": {
        "id": "unWdonssdoNH"
      },
      "source": [
        "from sklearn.svm import LinearSVC\n",
        "from sklearn.model_selection import train_test_split\n",
        "\n",
        "model = LinearSVC()\n",
        "\n",
        "X_train, X_test, y_train, y_test, indices_train, indices_test = train_test_split(features, labels, df.index, test_size=0.33, random_state=0)\n",
        "model.fit(X_train, y_train)\n",
        "y_pred = model.predict(X_test)"
      ],
      "execution_count": 35,
      "outputs": []
    },
    {
      "cell_type": "code",
      "metadata": {
        "id": "ZwB7gOUcdoNI",
        "colab": {
          "base_uri": "https://localhost:8080/",
          "height": 895
        },
        "outputId": "8c4d79a7-68cf-430a-8888-9c08a436929b"
      },
      "source": [
        "from sklearn.metrics import confusion_matrix\n",
        "import seaborn as sns\n",
        "\n",
        "conf_mat = confusion_matrix(y_test, y_pred)\n",
        "fig, ax = plt.subplots(figsize=(15,10))\n",
        "sns.heatmap(conf_mat, annot=True, fmt='d',\n",
        "            xticklabels=category_id_df.Product.values, yticklabels=category_id_df.Product.values)\n",
        "plt.ylabel('Actual')\n",
        "plt.xlabel('Predicted')\n",
        "plt.show()"
      ],
      "execution_count": 37,
      "outputs": [
        {
          "output_type": "display_data",
          "data": {
            "image/png": "[encoded data removed]",
            "text/plain": [
              "<Figure size 1080x720 with 2 Axes>"
            ]
          },
          "metadata": {
            "tags": [],
            "needs_background": "light"
          }
        }
      ]
    },
    {
      "cell_type": "code",
      "metadata": {
        "id": "zsmaVq8IdoNM",
        "scrolled": false,
        "colab": {
          "base_uri": "https://localhost:8080/",
          "height": 1000
        },
        "outputId": "e8f291ae-e6df-4332-988a-38ecd6868ecd"
      },
      "source": [
        "from IPython.display import display\n",
        "\n",
        "for predicted in category_id_df.category_id:\n",
        "  for actual in category_id_df.category_id:\n",
        "    if predicted != actual and conf_mat[actual, predicted] >= 100:\n",
        "      print(\"'{}' predicted as '{}' : {} examples.\".format(id_to_category[actual], id_to_category[predicted], conf_mat[actual, predicted]))\n",
        "      display(df.loc[indices_test[(y_test == actual) & (y_pred == predicted)]][['Product', 'Consumer_complaint_narrative']])\n",
        "      print('')"
      ],
      "execution_count": 48,
      "outputs": [
        {
          "output_type": "stream",
          "text": [
            "'Consumer Loan' predicted as 'Vehicle loan or lease' : 111 examples.\n"
          ],
          "name": "stdout"
        },
        {
          "output_type": "display_data",
          "data": {
            "text/html": [
              "<div>\n",
              "<style scoped>\n",
              "    .dataframe tbody tr th:only-of-type {\n",
              "        vertical-align: middle;\n",
              "    }\n",
              "\n",
              "    .dataframe tbody tr th {\n",
              "        vertical-align: top;\n",
              "    }\n",
              "\n",
              "    .dataframe thead th {\n",
              "        text-align: right;\n",
              "    }\n",
              "</style>\n",
              "<table border=\"1\" class=\"dataframe\">\n",
              "  <thead>\n",
              "    <tr style=\"text-align: right;\">\n",
              "      <th></th>\n",
              "      <th></th>\n",
              "      <th>Product</th>\n",
              "      <th>Consumer_complaint_narrative</th>\n",
              "    </tr>\n",
              "  </thead>\n",
              "  <tbody>\n",
              "    <tr>\n",
              "      <th rowspan=\"11\" valign=\"top\">2</th>\n",
              "      <th>1675296</th>\n",
              "      <td>Consumer Loan</td>\n",
              "      <td>I had a car financed with Hyundai Motor Financ...</td>\n",
              "    </tr>\n",
              "    <tr>\n",
              "      <th>1687766</th>\n",
              "      <td>Consumer Loan</td>\n",
              "      <td>In XXXX of 2015, I ( my son ) returned a Buick...</td>\n",
              "    </tr>\n",
              "    <tr>\n",
              "      <th>1061222</th>\n",
              "      <td>Consumer Loan</td>\n",
              "      <td>On XX/XX/2016 I paid the balance to Hyundai fo...</td>\n",
              "    </tr>\n",
              "    <tr>\n",
              "      <th>1656182</th>\n",
              "      <td>Consumer Loan</td>\n",
              "      <td>History : I submitted a insurance payout check...</td>\n",
              "    </tr>\n",
              "    <tr>\n",
              "      <th>1709593</th>\n",
              "      <td>Consumer Loan</td>\n",
              "      <td>I BANK FINANCED A CAR AT A CAR LOT CAR HAD PAP...</td>\n",
              "    </tr>\n",
              "    <tr>\n",
              "      <th>...</th>\n",
              "      <td>...</td>\n",
              "      <td>...</td>\n",
              "    </tr>\n",
              "    <tr>\n",
              "      <th>1773736</th>\n",
              "      <td>Consumer Loan</td>\n",
              "      <td>I got my car from the dealer and I realized 6 ...</td>\n",
              "    </tr>\n",
              "    <tr>\n",
              "      <th>1661208</th>\n",
              "      <td>Consumer Loan</td>\n",
              "      <td>At the beginning of XXXX 2015 I applied to Nav...</td>\n",
              "    </tr>\n",
              "    <tr>\n",
              "      <th>1676597</th>\n",
              "      <td>Consumer Loan</td>\n",
              "      <td>Applied for a vehicle loan online with no cred...</td>\n",
              "    </tr>\n",
              "    <tr>\n",
              "      <th>1034737</th>\n",
              "      <td>Consumer Loan</td>\n",
              "      <td>My vehicle lease and auto loan are paid in ful...</td>\n",
              "    </tr>\n",
              "    <tr>\n",
              "      <th>1636929</th>\n",
              "      <td>Consumer Loan</td>\n",
              "      <td>I leased a Regal Buick XX/XX/XXXX, 3 years ago...</td>\n",
              "    </tr>\n",
              "  </tbody>\n",
              "</table>\n",
              "<p>111 rows × 2 columns</p>\n",
              "</div>"
            ],
            "text/plain": [
              "                 Product                       Consumer_complaint_narrative\n",
              "2 1675296  Consumer Loan  I had a car financed with Hyundai Motor Financ...\n",
              "  1687766  Consumer Loan  In XXXX of 2015, I ( my son ) returned a Buick...\n",
              "  1061222  Consumer Loan  On XX/XX/2016 I paid the balance to Hyundai fo...\n",
              "  1656182  Consumer Loan  History : I submitted a insurance payout check...\n",
              "  1709593  Consumer Loan  I BANK FINANCED A CAR AT A CAR LOT CAR HAD PAP...\n",
              "...                  ...                                                ...\n",
              "  1773736  Consumer Loan  I got my car from the dealer and I realized 6 ...\n",
              "  1661208  Consumer Loan  At the beginning of XXXX 2015 I applied to Nav...\n",
              "  1676597  Consumer Loan  Applied for a vehicle loan online with no cred...\n",
              "  1034737  Consumer Loan  My vehicle lease and auto loan are paid in ful...\n",
              "  1636929  Consumer Loan  I leased a Regal Buick XX/XX/XXXX, 3 years ago...\n",
              "\n",
              "[111 rows x 2 columns]"
            ]
          },
          "metadata": {
            "tags": []
          }
        },
        {
          "output_type": "stream",
          "text": [
            "\n",
            "'Bank account or service' predicted as 'Checking or savings account' : 107 examples.\n"
          ],
          "name": "stdout"
        },
        {
          "output_type": "display_data",
          "data": {
            "text/html": [
              "<div>\n",
              "<style scoped>\n",
              "    .dataframe tbody tr th:only-of-type {\n",
              "        vertical-align: middle;\n",
              "    }\n",
              "\n",
              "    .dataframe tbody tr th {\n",
              "        vertical-align: top;\n",
              "    }\n",
              "\n",
              "    .dataframe thead th {\n",
              "        text-align: right;\n",
              "    }\n",
              "</style>\n",
              "<table border=\"1\" class=\"dataframe\">\n",
              "  <thead>\n",
              "    <tr style=\"text-align: right;\">\n",
              "      <th></th>\n",
              "      <th></th>\n",
              "      <th>Product</th>\n",
              "      <th>Consumer_complaint_narrative</th>\n",
              "    </tr>\n",
              "  </thead>\n",
              "  <tbody>\n",
              "    <tr>\n",
              "      <th rowspan=\"11\" valign=\"top\">0</th>\n",
              "      <th>1667477</th>\n",
              "      <td>Bank account or service</td>\n",
              "      <td>When I left my last employer, my 401k account ...</td>\n",
              "    </tr>\n",
              "    <tr>\n",
              "      <th>1642317</th>\n",
              "      <td>Bank account or service</td>\n",
              "      <td>I was the victim of a scam/fraud on my bank ac...</td>\n",
              "    </tr>\n",
              "    <tr>\n",
              "      <th>1631765</th>\n",
              "      <td>Bank account or service</td>\n",
              "      <td>Wells Fargo authorized and paid a POS transact...</td>\n",
              "    </tr>\n",
              "    <tr>\n",
              "      <th>1781815</th>\n",
              "      <td>Bank account or service</td>\n",
              "      <td>US Bank applies over draft fee 's on my accoun...</td>\n",
              "    </tr>\n",
              "    <tr>\n",
              "      <th>1727898</th>\n",
              "      <td>Bank account or service</td>\n",
              "      <td>I deposited a check for XXXX XX/XX/XXXX, the c...</td>\n",
              "    </tr>\n",
              "    <tr>\n",
              "      <th>...</th>\n",
              "      <td>...</td>\n",
              "      <td>...</td>\n",
              "    </tr>\n",
              "    <tr>\n",
              "      <th>1742995</th>\n",
              "      <td>Bank account or service</td>\n",
              "      <td>On XX/XX/XXXX I responded to a flyer mailed to...</td>\n",
              "    </tr>\n",
              "    <tr>\n",
              "      <th>1691965</th>\n",
              "      <td>Bank account or service</td>\n",
              "      <td>We opened an account with PNC earlier this wee...</td>\n",
              "    </tr>\n",
              "    <tr>\n",
              "      <th>1622518</th>\n",
              "      <td>Bank account or service</td>\n",
              "      <td>My ex-husband forged my signature, deposited a...</td>\n",
              "    </tr>\n",
              "    <tr>\n",
              "      <th>1602649</th>\n",
              "      <td>Bank account or service</td>\n",
              "      <td>I deposited a check for {$1400.00} into my acc...</td>\n",
              "    </tr>\n",
              "    <tr>\n",
              "      <th>1723703</th>\n",
              "      <td>Bank account or service</td>\n",
              "      <td>For the second time TD bank has closed my debi...</td>\n",
              "    </tr>\n",
              "  </tbody>\n",
              "</table>\n",
              "<p>107 rows × 2 columns</p>\n",
              "</div>"
            ],
            "text/plain": [
              "                           Product                       Consumer_complaint_narrative\n",
              "0 1667477  Bank account or service  When I left my last employer, my 401k account ...\n",
              "  1642317  Bank account or service  I was the victim of a scam/fraud on my bank ac...\n",
              "  1631765  Bank account or service  Wells Fargo authorized and paid a POS transact...\n",
              "  1781815  Bank account or service  US Bank applies over draft fee 's on my accoun...\n",
              "  1727898  Bank account or service  I deposited a check for XXXX XX/XX/XXXX, the c...\n",
              "...                            ...                                                ...\n",
              "  1742995  Bank account or service  On XX/XX/XXXX I responded to a flyer mailed to...\n",
              "  1691965  Bank account or service  We opened an account with PNC earlier this wee...\n",
              "  1622518  Bank account or service  My ex-husband forged my signature, deposited a...\n",
              "  1602649  Bank account or service  I deposited a check for {$1400.00} into my acc...\n",
              "  1723703  Bank account or service  For the second time TD bank has closed my debi...\n",
              "\n",
              "[107 rows x 2 columns]"
            ]
          },
          "metadata": {
            "tags": []
          }
        },
        {
          "output_type": "stream",
          "text": [
            "\n",
            "'Credit card or prepaid card' predicted as 'Credit card' : 108 examples.\n"
          ],
          "name": "stdout"
        },
        {
          "output_type": "display_data",
          "data": {
            "text/html": [
              "<div>\n",
              "<style scoped>\n",
              "    .dataframe tbody tr th:only-of-type {\n",
              "        vertical-align: middle;\n",
              "    }\n",
              "\n",
              "    .dataframe tbody tr th {\n",
              "        vertical-align: top;\n",
              "    }\n",
              "\n",
              "    .dataframe thead th {\n",
              "        text-align: right;\n",
              "    }\n",
              "</style>\n",
              "<table border=\"1\" class=\"dataframe\">\n",
              "  <thead>\n",
              "    <tr style=\"text-align: right;\">\n",
              "      <th></th>\n",
              "      <th></th>\n",
              "      <th>Product</th>\n",
              "      <th>Consumer_complaint_narrative</th>\n",
              "    </tr>\n",
              "  </thead>\n",
              "  <tbody>\n",
              "    <tr>\n",
              "      <th rowspan=\"11\" valign=\"top\">4</th>\n",
              "      <th>815513</th>\n",
              "      <td>Credit card or prepaid card</td>\n",
              "      <td>USAA has violated the timeline for investigati...</td>\n",
              "    </tr>\n",
              "    <tr>\n",
              "      <th>1921903</th>\n",
              "      <td>Credit card or prepaid card</td>\n",
              "      <td>In XX/XX/XXXX I was approached by a Wells Farg...</td>\n",
              "    </tr>\n",
              "    <tr>\n",
              "      <th>153514</th>\n",
              "      <td>Credit card or prepaid card</td>\n",
              "      <td>JP Morgan Chase defrauds credit card customers...</td>\n",
              "    </tr>\n",
              "    <tr>\n",
              "      <th>1995261</th>\n",
              "      <td>Credit card or prepaid card</td>\n",
              "      <td>I opened a business credit card from Wells Far...</td>\n",
              "    </tr>\n",
              "    <tr>\n",
              "      <th>275362</th>\n",
              "      <td>Credit card or prepaid card</td>\n",
              "      <td>I paid off my credit card balance in full, and...</td>\n",
              "    </tr>\n",
              "    <tr>\n",
              "      <th>...</th>\n",
              "      <td>...</td>\n",
              "      <td>...</td>\n",
              "    </tr>\n",
              "    <tr>\n",
              "      <th>445198</th>\n",
              "      <td>Credit card or prepaid card</td>\n",
              "      <td>On Monday XX/XX/XXXX, I called Capital One reg...</td>\n",
              "    </tr>\n",
              "    <tr>\n",
              "      <th>1988504</th>\n",
              "      <td>Credit card or prepaid card</td>\n",
              "      <td>Applied for capital one credit card and got ac...</td>\n",
              "    </tr>\n",
              "    <tr>\n",
              "      <th>866954</th>\n",
              "      <td>Credit card or prepaid card</td>\n",
              "      <td>On XXXX XXXX, 2016 an XXXX credit card from Ch...</td>\n",
              "    </tr>\n",
              "    <tr>\n",
              "      <th>877250</th>\n",
              "      <td>Credit card or prepaid card</td>\n",
              "      <td>On XXXX/XXXX/XXXX I paid m XXXX XXXX XXXX XXXX...</td>\n",
              "    </tr>\n",
              "    <tr>\n",
              "      <th>1970874</th>\n",
              "      <td>Credit card or prepaid card</td>\n",
              "      <td>Capital one is driving me crazy its been a whi...</td>\n",
              "    </tr>\n",
              "  </tbody>\n",
              "</table>\n",
              "<p>108 rows × 2 columns</p>\n",
              "</div>"
            ],
            "text/plain": [
              "                               Product                       Consumer_complaint_narrative\n",
              "4 815513   Credit card or prepaid card  USAA has violated the timeline for investigati...\n",
              "  1921903  Credit card or prepaid card  In XX/XX/XXXX I was approached by a Wells Farg...\n",
              "  153514   Credit card or prepaid card  JP Morgan Chase defrauds credit card customers...\n",
              "  1995261  Credit card or prepaid card  I opened a business credit card from Wells Far...\n",
              "  275362   Credit card or prepaid card  I paid off my credit card balance in full, and...\n",
              "...                                ...                                                ...\n",
              "  445198   Credit card or prepaid card  On Monday XX/XX/XXXX, I called Capital One reg...\n",
              "  1988504  Credit card or prepaid card  Applied for capital one credit card and got ac...\n",
              "  866954   Credit card or prepaid card  On XXXX XXXX, 2016 an XXXX credit card from Ch...\n",
              "  877250   Credit card or prepaid card  On XXXX/XXXX/XXXX I paid m XXXX XXXX XXXX XXXX...\n",
              "  1970874  Credit card or prepaid card  Capital one is driving me crazy its been a whi...\n",
              "\n",
              "[108 rows x 2 columns]"
            ]
          },
          "metadata": {
            "tags": []
          }
        },
        {
          "output_type": "stream",
          "text": [
            "\n",
            "'Checking or savings account' predicted as 'Bank account or service' : 126 examples.\n"
          ],
          "name": "stdout"
        },
        {
          "output_type": "display_data",
          "data": {
            "text/html": [
              "<div>\n",
              "<style scoped>\n",
              "    .dataframe tbody tr th:only-of-type {\n",
              "        vertical-align: middle;\n",
              "    }\n",
              "\n",
              "    .dataframe tbody tr th {\n",
              "        vertical-align: top;\n",
              "    }\n",
              "\n",
              "    .dataframe thead th {\n",
              "        text-align: right;\n",
              "    }\n",
              "</style>\n",
              "<table border=\"1\" class=\"dataframe\">\n",
              "  <thead>\n",
              "    <tr style=\"text-align: right;\">\n",
              "      <th></th>\n",
              "      <th></th>\n",
              "      <th>Product</th>\n",
              "      <th>Consumer_complaint_narrative</th>\n",
              "    </tr>\n",
              "  </thead>\n",
              "  <tbody>\n",
              "    <tr>\n",
              "      <th rowspan=\"11\" valign=\"top\">1</th>\n",
              "      <th>1914732</th>\n",
              "      <td>Checking or savings account</td>\n",
              "      <td>I filed a dispute with Wells Fargo Bank in reg...</td>\n",
              "    </tr>\n",
              "    <tr>\n",
              "      <th>71589</th>\n",
              "      <td>Checking or savings account</td>\n",
              "      <td>see attachments new information compiled by a ...</td>\n",
              "    </tr>\n",
              "    <tr>\n",
              "      <th>825777</th>\n",
              "      <td>Checking or savings account</td>\n",
              "      <td>To whom it may concern, XXXX XXXX, 2017 My nam...</td>\n",
              "    </tr>\n",
              "    <tr>\n",
              "      <th>51174</th>\n",
              "      <td>Checking or savings account</td>\n",
              "      <td>I went in to deposit my healthcare checks they...</td>\n",
              "    </tr>\n",
              "    <tr>\n",
              "      <th>526932</th>\n",
              "      <td>Checking or savings account</td>\n",
              "      <td>1- withdrew {$20.00} 2- went to redeposit {$20...</td>\n",
              "    </tr>\n",
              "    <tr>\n",
              "      <th>...</th>\n",
              "      <td>...</td>\n",
              "      <td>...</td>\n",
              "    </tr>\n",
              "    <tr>\n",
              "      <th>84439</th>\n",
              "      <td>Checking or savings account</td>\n",
              "      <td>On XX/XX/2019 I submitted a written request to...</td>\n",
              "    </tr>\n",
              "    <tr>\n",
              "      <th>1892204</th>\n",
              "      <td>Checking or savings account</td>\n",
              "      <td>I'm getting duplicate overdraft fees that feel...</td>\n",
              "    </tr>\n",
              "    <tr>\n",
              "      <th>924755</th>\n",
              "      <td>Checking or savings account</td>\n",
              "      <td>Fifth Third Bank has a deposit practice of \" h...</td>\n",
              "    </tr>\n",
              "    <tr>\n",
              "      <th>674204</th>\n",
              "      <td>Checking or savings account</td>\n",
              "      <td>I previously owed money to two banks in 2016 ....</td>\n",
              "    </tr>\n",
              "    <tr>\n",
              "      <th>110563</th>\n",
              "      <td>Checking or savings account</td>\n",
              "      <td>Hello, I have information that may help your c...</td>\n",
              "    </tr>\n",
              "  </tbody>\n",
              "</table>\n",
              "<p>126 rows × 2 columns</p>\n",
              "</div>"
            ],
            "text/plain": [
              "                               Product                       Consumer_complaint_narrative\n",
              "1 1914732  Checking or savings account  I filed a dispute with Wells Fargo Bank in reg...\n",
              "  71589    Checking or savings account  see attachments new information compiled by a ...\n",
              "  825777   Checking or savings account  To whom it may concern, XXXX XXXX, 2017 My nam...\n",
              "  51174    Checking or savings account  I went in to deposit my healthcare checks they...\n",
              "  526932   Checking or savings account  1- withdrew {$20.00} 2- went to redeposit {$20...\n",
              "...                                ...                                                ...\n",
              "  84439    Checking or savings account  On XX/XX/2019 I submitted a written request to...\n",
              "  1892204  Checking or savings account  I'm getting duplicate overdraft fees that feel...\n",
              "  924755   Checking or savings account  Fifth Third Bank has a deposit practice of \" h...\n",
              "  674204   Checking or savings account  I previously owed money to two banks in 2016 ....\n",
              "  110563   Checking or savings account  Hello, I have information that may help your c...\n",
              "\n",
              "[126 rows x 2 columns]"
            ]
          },
          "metadata": {
            "tags": []
          }
        },
        {
          "output_type": "stream",
          "text": [
            "\n",
            "'Credit reporting, credit repair services, or other personal consumer reports' predicted as 'Credit reporting' : 117 examples.\n"
          ],
          "name": "stdout"
        },
        {
          "output_type": "display_data",
          "data": {
            "text/html": [
              "<div>\n",
              "<style scoped>\n",
              "    .dataframe tbody tr th:only-of-type {\n",
              "        vertical-align: middle;\n",
              "    }\n",
              "\n",
              "    .dataframe tbody tr th {\n",
              "        vertical-align: top;\n",
              "    }\n",
              "\n",
              "    .dataframe thead th {\n",
              "        text-align: right;\n",
              "    }\n",
              "</style>\n",
              "<table border=\"1\" class=\"dataframe\">\n",
              "  <thead>\n",
              "    <tr style=\"text-align: right;\">\n",
              "      <th></th>\n",
              "      <th></th>\n",
              "      <th>Product</th>\n",
              "      <th>Consumer_complaint_narrative</th>\n",
              "    </tr>\n",
              "  </thead>\n",
              "  <tbody>\n",
              "    <tr>\n",
              "      <th rowspan=\"11\" valign=\"top\">6</th>\n",
              "      <th>1957512</th>\n",
              "      <td>Credit reporting, credit repair services, or o...</td>\n",
              "      <td>I am absolutely in disbelief that there are so...</td>\n",
              "    </tr>\n",
              "    <tr>\n",
              "      <th>786204</th>\n",
              "      <td>Credit reporting, credit repair services, or o...</td>\n",
              "      <td>I reported to  XXXX  an error on my report tha...</td>\n",
              "    </tr>\n",
              "    <tr>\n",
              "      <th>39658</th>\n",
              "      <td>Credit reporting, credit repair services, or o...</td>\n",
              "      <td>I have indicated to the credit bureau as well ...</td>\n",
              "    </tr>\n",
              "    <tr>\n",
              "      <th>776110</th>\n",
              "      <td>Credit reporting, credit repair services, or o...</td>\n",
              "      <td>I am subscribed to many services that offer yo...</td>\n",
              "    </tr>\n",
              "    <tr>\n",
              "      <th>276164</th>\n",
              "      <td>Credit reporting, credit repair services, or o...</td>\n",
              "      <td>Attention : Consumer Relations, I recently obt...</td>\n",
              "    </tr>\n",
              "    <tr>\n",
              "      <th>...</th>\n",
              "      <td>...</td>\n",
              "      <td>...</td>\n",
              "    </tr>\n",
              "    <tr>\n",
              "      <th>161702</th>\n",
              "      <td>Credit reporting, credit repair services, or o...</td>\n",
              "      <td>XXXX wont remove the inquiries that I didnt make</td>\n",
              "    </tr>\n",
              "    <tr>\n",
              "      <th>1399356</th>\n",
              "      <td>Credit reporting, credit repair services, or o...</td>\n",
              "      <td>There is an incorrect address on my equifax ac...</td>\n",
              "    </tr>\n",
              "    <tr>\n",
              "      <th>1954230</th>\n",
              "      <td>Credit reporting, credit repair services, or o...</td>\n",
              "      <td>I sent Transunion a letter on XXXX, 2018 and a...</td>\n",
              "    </tr>\n",
              "    <tr>\n",
              "      <th>901221</th>\n",
              "      <td>Credit reporting, credit repair services, or o...</td>\n",
              "      <td>Regaurding my XXXX account XXXX XXXX XXXX XXXX...</td>\n",
              "    </tr>\n",
              "    <tr>\n",
              "      <th>36928</th>\n",
              "      <td>Credit reporting, credit repair services, or o...</td>\n",
              "      <td>I filed a dispute with Transunion requesting t...</td>\n",
              "    </tr>\n",
              "  </tbody>\n",
              "</table>\n",
              "<p>117 rows × 2 columns</p>\n",
              "</div>"
            ],
            "text/plain": [
              "                                                     Product                       Consumer_complaint_narrative\n",
              "6 1957512  Credit reporting, credit repair services, or o...  I am absolutely in disbelief that there are so...\n",
              "  786204   Credit reporting, credit repair services, or o...  I reported to  XXXX  an error on my report tha...\n",
              "  39658    Credit reporting, credit repair services, or o...  I have indicated to the credit bureau as well ...\n",
              "  776110   Credit reporting, credit repair services, or o...  I am subscribed to many services that offer yo...\n",
              "  276164   Credit reporting, credit repair services, or o...  Attention : Consumer Relations, I recently obt...\n",
              "...                                                      ...                                                ...\n",
              "  161702   Credit reporting, credit repair services, or o...   XXXX wont remove the inquiries that I didnt make\n",
              "  1399356  Credit reporting, credit repair services, or o...  There is an incorrect address on my equifax ac...\n",
              "  1954230  Credit reporting, credit repair services, or o...  I sent Transunion a letter on XXXX, 2018 and a...\n",
              "  901221   Credit reporting, credit repair services, or o...  Regaurding my XXXX account XXXX XXXX XXXX XXXX...\n",
              "  36928    Credit reporting, credit repair services, or o...  I filed a dispute with Transunion requesting t...\n",
              "\n",
              "[117 rows x 2 columns]"
            ]
          },
          "metadata": {
            "tags": []
          }
        },
        {
          "output_type": "stream",
          "text": [
            "\n"
          ],
          "name": "stdout"
        }
      ]
    },
    {
      "cell_type": "code",
      "metadata": {
        "id": "iVimmwSfdoNM",
        "colab": {
          "base_uri": "https://localhost:8080/"
        },
        "outputId": "9476fb3f-12b2-47d5-d7bb-32740272f81b"
      },
      "source": [
        "model.fit(features, labels)"
      ],
      "execution_count": 38,
      "outputs": [
        {
          "output_type": "execute_result",
          "data": {
            "text/plain": [
              "LinearSVC(C=1.0, class_weight=None, dual=True, fit_intercept=True,\n",
              "          intercept_scaling=1, loss='squared_hinge', max_iter=1000,\n",
              "          multi_class='ovr', penalty='l2', random_state=None, tol=0.0001,\n",
              "          verbose=0)"
            ]
          },
          "metadata": {
            "tags": []
          },
          "execution_count": 38
        }
      ]
    },
    {
      "cell_type": "code",
      "metadata": {
        "id": "mzFnfelzdoNN",
        "scrolled": false
      },
      "source": [
        "from sklearn.feature_selection import chi2\n",
        "\n",
        "N = 2\n",
        "df_feat = pd.DataFrame(columns=['Product', 'Unigrams', 'Bigrams'])\n",
        "\n",
        "for product, category_id in sorted(category_to_id.items()):\n",
        "  indices = np.argsort(model.coef_[category_id])\n",
        "  feature_names = np.array(tfidf.get_feature_names())[indices]\n",
        "\n",
        "  unigrams = [v for v in reversed(feature_names) if len(v.split(' ')) == 1][:N]\n",
        "  bigrams = [v for v in reversed(feature_names) if len(v.split(' ')) == 2][:N]\n",
        "\n",
        "  # Top N most correlated unigrams and bigrams for each category\n",
        "  df_cat = pd.DataFrame(index=range(N), columns=['Product', 'Unigrams', 'Bigrams'])\n",
        "  df_cat['Product'] = product\n",
        "  df_cat['Unigrams'] = unigrams[-N:]\n",
        "  df_cat['Bigrams'] = bigrams[-N:]\n",
        "\n",
        "  df_feat = pd.concat([df_feat, df_cat], axis=0, ignore_index=True)"
      ],
      "execution_count": 46,
      "outputs": []
    },
    {
      "cell_type": "code",
      "metadata": {
        "colab": {
          "base_uri": "https://localhost:8080/",
          "height": 969
        },
        "id": "YGKrGDjkk_xf",
        "outputId": "3284ddfb-6753-4d78-8012-0d90f8b4d7ee"
      },
      "source": [
        "df_feat.head(30)"
      ],
      "execution_count": 47,
      "outputs": [
        {
          "output_type": "execute_result",
          "data": {
            "text/html": [
              "<div>\n",
              "<style scoped>\n",
              "    .dataframe tbody tr th:only-of-type {\n",
              "        vertical-align: middle;\n",
              "    }\n",
              "\n",
              "    .dataframe tbody tr th {\n",
              "        vertical-align: top;\n",
              "    }\n",
              "\n",
              "    .dataframe thead th {\n",
              "        text-align: right;\n",
              "    }\n",
              "</style>\n",
              "<table border=\"1\" class=\"dataframe\">\n",
              "  <thead>\n",
              "    <tr style=\"text-align: right;\">\n",
              "      <th></th>\n",
              "      <th>Product</th>\n",
              "      <th>Unigrams</th>\n",
              "      <th>Bigrams</th>\n",
              "    </tr>\n",
              "  </thead>\n",
              "  <tbody>\n",
              "    <tr>\n",
              "      <th>0</th>\n",
              "      <td>Bank account or service</td>\n",
              "      <td>bank</td>\n",
              "      <td>xx 2016</td>\n",
              "    </tr>\n",
              "    <tr>\n",
              "      <th>1</th>\n",
              "      <td>Bank account or service</td>\n",
              "      <td>scottrade</td>\n",
              "      <td>xx 2017</td>\n",
              "    </tr>\n",
              "    <tr>\n",
              "      <th>2</th>\n",
              "      <td>Checking or savings account</td>\n",
              "      <td>bank</td>\n",
              "      <td>cashed fraudulent</td>\n",
              "    </tr>\n",
              "    <tr>\n",
              "      <th>3</th>\n",
              "      <td>Checking or savings account</td>\n",
              "      <td>don</td>\n",
              "      <td>trying link</td>\n",
              "    </tr>\n",
              "    <tr>\n",
              "      <th>4</th>\n",
              "      <td>Consumer Loan</td>\n",
              "      <td>ally</td>\n",
              "      <td>personal loan</td>\n",
              "    </tr>\n",
              "    <tr>\n",
              "      <th>5</th>\n",
              "      <td>Consumer Loan</td>\n",
              "      <td>vehicle</td>\n",
              "      <td>vehicle loan</td>\n",
              "    </tr>\n",
              "    <tr>\n",
              "      <th>6</th>\n",
              "      <td>Credit card</td>\n",
              "      <td>macy</td>\n",
              "      <td>credit card</td>\n",
              "    </tr>\n",
              "    <tr>\n",
              "      <th>7</th>\n",
              "      <td>Credit card</td>\n",
              "      <td>card</td>\n",
              "      <td>late fees</td>\n",
              "    </tr>\n",
              "    <tr>\n",
              "      <th>8</th>\n",
              "      <td>Credit card or prepaid card</td>\n",
              "      <td>card</td>\n",
              "      <td>card xx</td>\n",
              "    </tr>\n",
              "    <tr>\n",
              "      <th>9</th>\n",
              "      <td>Credit card or prepaid card</td>\n",
              "      <td>capital</td>\n",
              "      <td>statement balance</td>\n",
              "    </tr>\n",
              "    <tr>\n",
              "      <th>10</th>\n",
              "      <td>Credit reporting</td>\n",
              "      <td>equifax</td>\n",
              "      <td>trans union</td>\n",
              "    </tr>\n",
              "    <tr>\n",
              "      <th>11</th>\n",
              "      <td>Credit reporting</td>\n",
              "      <td>experian</td>\n",
              "      <td>free credit</td>\n",
              "    </tr>\n",
              "    <tr>\n",
              "      <th>12</th>\n",
              "      <td>Credit reporting, credit repair services, or o...</td>\n",
              "      <td>accounts</td>\n",
              "      <td>xxxx transunion</td>\n",
              "    </tr>\n",
              "    <tr>\n",
              "      <th>13</th>\n",
              "      <td>Credit reporting, credit repair services, or o...</td>\n",
              "      <td>report</td>\n",
              "      <td>xxxx xxxx</td>\n",
              "    </tr>\n",
              "    <tr>\n",
              "      <th>14</th>\n",
              "      <td>Debt collection</td>\n",
              "      <td>debt</td>\n",
              "      <td>debts paid</td>\n",
              "    </tr>\n",
              "    <tr>\n",
              "      <th>15</th>\n",
              "      <td>Debt collection</td>\n",
              "      <td>systems</td>\n",
              "      <td>midland credit</td>\n",
              "    </tr>\n",
              "    <tr>\n",
              "      <th>16</th>\n",
              "      <td>Money transfer, virtual currency, or money ser...</td>\n",
              "      <td>coinbase</td>\n",
              "      <td>cash app</td>\n",
              "    </tr>\n",
              "    <tr>\n",
              "      <th>17</th>\n",
              "      <td>Money transfer, virtual currency, or money ser...</td>\n",
              "      <td>paypal</td>\n",
              "      <td>able link</td>\n",
              "    </tr>\n",
              "    <tr>\n",
              "      <th>18</th>\n",
              "      <td>Money transfers</td>\n",
              "      <td>moneygram</td>\n",
              "      <td>xx 2016</td>\n",
              "    </tr>\n",
              "    <tr>\n",
              "      <th>19</th>\n",
              "      <td>Money transfers</td>\n",
              "      <td>paypal</td>\n",
              "      <td>money gram</td>\n",
              "    </tr>\n",
              "    <tr>\n",
              "      <th>20</th>\n",
              "      <td>Mortgage</td>\n",
              "      <td>mortgage</td>\n",
              "      <td>loan number</td>\n",
              "    </tr>\n",
              "    <tr>\n",
              "      <th>21</th>\n",
              "      <td>Mortgage</td>\n",
              "      <td>modification</td>\n",
              "      <td>loan modification</td>\n",
              "    </tr>\n",
              "    <tr>\n",
              "      <th>22</th>\n",
              "      <td>Other financial service</td>\n",
              "      <td>lexington</td>\n",
              "      <td>money order</td>\n",
              "    </tr>\n",
              "    <tr>\n",
              "      <th>23</th>\n",
              "      <td>Other financial service</td>\n",
              "      <td>services</td>\n",
              "      <td>lexington law</td>\n",
              "    </tr>\n",
              "    <tr>\n",
              "      <th>24</th>\n",
              "      <td>Payday loan</td>\n",
              "      <td>loan</td>\n",
              "      <td>payday loan</td>\n",
              "    </tr>\n",
              "    <tr>\n",
              "      <th>25</th>\n",
              "      <td>Payday loan</td>\n",
              "      <td>lender</td>\n",
              "      <td>pay day</td>\n",
              "    </tr>\n",
              "    <tr>\n",
              "      <th>26</th>\n",
              "      <td>Payday loan, title loan, or personal loan</td>\n",
              "      <td>loan</td>\n",
              "      <td>line credit</td>\n",
              "    </tr>\n",
              "    <tr>\n",
              "      <th>27</th>\n",
              "      <td>Payday loan, title loan, or personal loan</td>\n",
              "      <td>lendingclub</td>\n",
              "      <td>loan xx</td>\n",
              "    </tr>\n",
              "    <tr>\n",
              "      <th>28</th>\n",
              "      <td>Prepaid card</td>\n",
              "      <td>rushcard</td>\n",
              "      <td>rush card</td>\n",
              "    </tr>\n",
              "    <tr>\n",
              "      <th>29</th>\n",
              "      <td>Prepaid card</td>\n",
              "      <td>prepaid</td>\n",
              "      <td>gift card</td>\n",
              "    </tr>\n",
              "  </tbody>\n",
              "</table>\n",
              "</div>"
            ],
            "text/plain": [
              "                                              Product  ...            Bigrams\n",
              "0                             Bank account or service  ...            xx 2016\n",
              "1                             Bank account or service  ...            xx 2017\n",
              "2                         Checking or savings account  ...  cashed fraudulent\n",
              "3                         Checking or savings account  ...        trying link\n",
              "4                                       Consumer Loan  ...      personal loan\n",
              "5                                       Consumer Loan  ...       vehicle loan\n",
              "6                                         Credit card  ...        credit card\n",
              "7                                         Credit card  ...          late fees\n",
              "8                         Credit card or prepaid card  ...            card xx\n",
              "9                         Credit card or prepaid card  ...  statement balance\n",
              "10                                   Credit reporting  ...        trans union\n",
              "11                                   Credit reporting  ...        free credit\n",
              "12  Credit reporting, credit repair services, or o...  ...    xxxx transunion\n",
              "13  Credit reporting, credit repair services, or o...  ...          xxxx xxxx\n",
              "14                                    Debt collection  ...         debts paid\n",
              "15                                    Debt collection  ...     midland credit\n",
              "16  Money transfer, virtual currency, or money ser...  ...           cash app\n",
              "17  Money transfer, virtual currency, or money ser...  ...          able link\n",
              "18                                    Money transfers  ...            xx 2016\n",
              "19                                    Money transfers  ...         money gram\n",
              "20                                           Mortgage  ...        loan number\n",
              "21                                           Mortgage  ...  loan modification\n",
              "22                            Other financial service  ...        money order\n",
              "23                            Other financial service  ...      lexington law\n",
              "24                                        Payday loan  ...        payday loan\n",
              "25                                        Payday loan  ...            pay day\n",
              "26          Payday loan, title loan, or personal loan  ...        line credit\n",
              "27          Payday loan, title loan, or personal loan  ...            loan xx\n",
              "28                                       Prepaid card  ...          rush card\n",
              "29                                       Prepaid card  ...          gift card\n",
              "\n",
              "[30 rows x 3 columns]"
            ]
          },
          "metadata": {
            "tags": []
          },
          "execution_count": 47
        }
      ]
    },
    {
      "cell_type": "code",
      "metadata": {
        "id": "sQCbK0wBdoNO",
        "colab": {
          "base_uri": "https://localhost:8080/"
        },
        "outputId": "29097a26-fe75-4743-989a-1065340ce6fb"
      },
      "source": [
        "texts = [\"I requested a home loan modification through Bank of America. Bank of America never got back to me.\",\n",
        "         \"It has been difficult for me to find my past due balance. I missed a regular monthly payment\",\n",
        "         \"I can't get the money out of the country.\",\n",
        "         \"I have no money to pay my tuition\",\n",
        "         \"Coinbase closed my account for no reason and furthermore refused to give me a reason despite dozens of request\"]\n",
        "\n",
        "text_features = tfidf.transform(texts)\n",
        "predictions = model.predict(text_features)\n",
        "\n",
        "for text, predicted in zip(texts, predictions):\n",
        "  print('\"{}\"'.format(text))\n",
        "  print(\"  - Predicted as: '{}'\".format(id_to_category[predicted]))\n",
        "  print(\"\")"
      ],
      "execution_count": 43,
      "outputs": [
        {
          "output_type": "stream",
          "text": [
            "\"I requested a home loan modification through Bank of America. Bank of America never got back to me.\"\n",
            "  - Predicted as: 'Mortgage'\n",
            "\n",
            "\"It has been difficult for me to find my past due balance. I missed a regular monthly payment\"\n",
            "  - Predicted as: 'Payday loan, title loan, or personal loan'\n",
            "\n",
            "\"I can't get the money out of the country.\"\n",
            "  - Predicted as: 'Money transfers'\n",
            "\n",
            "\"I have no money to pay my tuition\"\n",
            "  - Predicted as: 'Student loan'\n",
            "\n",
            "\"Coinbase closed my account for no reason and furthermore refused to give me a reason despite dozens of request\"\n",
            "  - Predicted as: 'Money transfer, virtual currency, or money service'\n",
            "\n"
          ],
          "name": "stdout"
        }
      ]
    },
    {
      "cell_type": "code",
      "metadata": {
        "id": "e3Y2q4isdoNP",
        "colab": {
          "base_uri": "https://localhost:8080/"
        },
        "outputId": "7394bc3c-296f-4404-f9b7-44a99cc189a9"
      },
      "source": [
        "from sklearn import metrics\n",
        "print(metrics.classification_report(y_test, y_pred, \n",
        "                                    target_names=df['Product'].unique()))"
      ],
      "execution_count": 44,
      "outputs": [
        {
          "output_type": "stream",
          "text": [
            "                                                                              precision    recall  f1-score   support\n",
            "\n",
            "                                                     Bank account or service       0.60      0.69      0.64       528\n",
            "                                                 Checking or savings account       0.55      0.52      0.54       519\n",
            "                                                               Consumer Loan       0.72      0.61      0.66       549\n",
            "                                                                 Credit card       0.83      0.92      0.87       521\n",
            "                                                 Credit card or prepaid card       0.59      0.61      0.60       530\n",
            "                                                            Credit reporting       0.86      0.89      0.87       519\n",
            "Credit reporting, credit repair services, or other personal consumer reports       0.57      0.51      0.54       519\n",
            "                                                             Debt collection       0.55      0.56      0.55       533\n",
            "                          Money transfer, virtual currency, or money service       0.58      0.60      0.59       533\n",
            "                                                             Money transfers       0.58      0.48      0.53       523\n",
            "                                                                    Mortgage       0.48      0.38      0.42       511\n",
            "                                                     Other financial service       0.65      0.73      0.69       505\n",
            "                                                                 Payday loan       0.54      0.55      0.54       549\n",
            "                                   Payday loan, title loan, or personal loan       0.61      0.67      0.64       527\n",
            "                                                                Prepaid card       0.62      0.21      0.31        97\n",
            "                                                                Student loan       0.69      0.77      0.73       507\n",
            "                                                       Vehicle loan or lease       0.80      0.88      0.84       490\n",
            "                                                            Virtual currency       0.00      0.00      0.00         7\n",
            "\n",
            "                                                                    accuracy                           0.64      8467\n",
            "                                                                   macro avg       0.60      0.59      0.59      8467\n",
            "                                                                weighted avg       0.64      0.64      0.64      8467\n",
            "\n"
          ],
          "name": "stdout"
        },
        {
          "output_type": "stream",
          "text": [
            "/usr/local/lib/python3.7/dist-packages/sklearn/metrics/_classification.py:1272: UndefinedMetricWarning: Precision and F-score are ill-defined and being set to 0.0 in labels with no predicted samples. Use `zero_division` parameter to control this behavior.\n",
            "  _warn_prf(average, modifier, msg_start, len(result))\n"
          ],
          "name": "stderr"
        }
      ]
    },
    {
      "cell_type": "code",
      "metadata": {
        "colab": {
          "base_uri": "https://localhost:8080/"
        },
        "id": "-K-EFH1DgtfY",
        "outputId": "f1c6021a-93f8-442f-b0fb-7b96e5329396"
      },
      "source": [
        "metrics.f1_score(y_test, y_pred, average='weighted')"
      ],
      "execution_count": 45,
      "outputs": [
        {
          "output_type": "execute_result",
          "data": {
            "text/plain": [
              "0.635853257162235"
            ]
          },
          "metadata": {
            "tags": []
          },
          "execution_count": 45
        }
      ]
    }
  ]
}